{
 "cells": [
  {
   "cell_type": "markdown",
   "metadata": {},
   "source": [
    "## Review of functions\n",
    "\n"
   ]
  },
  {
   "cell_type": "markdown",
   "metadata": {},
   "source": [
    "Functions have the following characteristics:\n",
    "\n",
    "-   They allow us to group code sequences and refer to this group by\n",
    "    name. This useful to declutter your code.\n",
    "-   Code which is grouped inside of a function, does have access to\n",
    "    variables which are defined outside of a function. However, if you\n",
    "    declare a variable with the same name inside the function as well,\n",
    "    python will use the value inside the function, without changing\n",
    "    the value outside the function.\n",
    "    \n",
    "    versa (see examples below). This helps to isolate code sections\n",
    "    and prevents naming conflicts or accidental overwriting of a e.g.,\n",
    "    a counter.\n",
    "-   the \\*value(s) of a variable(s) can be passed into a function as\n",
    "    arguments to the function call (see below)\n",
    "-   The result of a of the computations inside the function can be\n",
    "    returned to the calling code with the return statements.\n",
    "-   Functions must always be defined before you can use them. This is\n",
    "    best done at the beginning of the code\n",
    "\n"
   ]
  },
  {
   "cell_type": "markdown",
   "metadata": {},
   "source": [
    "### Examples\n",
    "\n"
   ]
  },
  {
   "cell_type": "markdown",
   "metadata": {},
   "source": [
    "This code will work because a is only defined outside the function. So\n",
    "in this case, `a` is a global variable\n",
    "\n"
   ]
  },
  {
   "cell_type": "code",
   "execution_count": 1,
   "metadata": {},
   "outputs": [],
   "source": [
    "# define function\n",
    "def my_function():\n",
    "    print(a)\n",
    "\n",
    "# now lets use the funcction in our own code\n",
    "a :int = 12\n",
    "my_function()"
   ]
  },
  {
   "cell_type": "markdown",
   "metadata": {},
   "source": [
    "Were we define `a` locally inside the function. This definition will\n",
    "not override the value of a outside the function.\n",
    "\n"
   ]
  },
  {
   "cell_type": "code",
   "execution_count": 1,
   "metadata": {},
   "outputs": [],
   "source": [
    "# define function\n",
    "def my_function():\n",
    "    a :str = \"empty\"\n",
    "    print(f\"a inside the function = {a}\")\n",
    "    \n",
    "# now lets use the function in our own code\n",
    "a :int= 12\n",
    "my_function()\n",
    "print(f\"a outside the function = {a}\")"
   ]
  },
  {
   "cell_type": "markdown",
   "metadata": {},
   "source": [
    "In this example, we ant to pass the value of `a` to the function,\n",
    "compute its square, and return the result back to the calling\n",
    "code:\n",
    "\n"
   ]
  },
  {
   "cell_type": "code",
   "execution_count": 1,
   "metadata": {},
   "outputs": [],
   "source": [
    "# define function\n",
    "def my_function(v:int)->int:\n",
    "    v = v * v # compute the square\n",
    "    return v  # return the value to the calling program\n",
    "    \n",
    "# now lets use the function in our own code\n",
    "a :int = 12\n",
    "s :int = my_function(a)\n",
    "print(f\"The square of {a} = {s}\")"
   ]
  },
  {
   "cell_type": "markdown",
   "metadata": {},
   "source": [
    "Note that you can use functions and their return values as arguments\n",
    "to other functions, e.g., the print function. So you could also write\n",
    "\n"
   ]
  },
  {
   "cell_type": "code",
   "execution_count": 1,
   "metadata": {},
   "outputs": [],
   "source": [
    "# define function\n",
    "def my_function(v:int)->int:\n",
    "    v :int = v * v # compute the square\n",
    "    return v  # return the value to the calling program\n",
    "    \n",
    "# now lets use the function in our own code\n",
    "print(f\"The square of 12 = {my_function(12)}\")"
   ]
  },
  {
   "cell_type": "markdown",
   "metadata": {},
   "source": [
    "## Sample Solution\n",
    "\n"
   ]
  },
  {
   "cell_type": "markdown",
   "metadata": {},
   "source": [
    "#### What is the code supposed to do\n",
    "\n"
   ]
  },
  {
   "cell_type": "markdown",
   "metadata": {},
   "source": [
    "This code will prompt the user to input a binary number, which is then\n",
    "converted to into its decimal notation. The code will test whether the\n",
    "number entered is of type binary. Else it will print an error message\n",
    "and prompt for new input. The program can be stopped at any time by\n",
    "entering the character \"s\"\n",
    "\n"
   ]
  },
  {
   "cell_type": "markdown",
   "metadata": {},
   "source": [
    "#### What will your code not do\n",
    "\n"
   ]
  },
  {
   "cell_type": "markdown",
   "metadata": {},
   "source": [
    "This code will not handle negative numbers\n",
    "\n"
   ]
  },
  {
   "cell_type": "markdown",
   "metadata": {},
   "source": [
    "#### What kind of data structure will you need\n",
    "\n"
   ]
  },
  {
   "cell_type": "markdown",
   "metadata": {},
   "source": [
    "-   What kind of data are used as input?: A string\n",
    "    -   What kind of data will be output?: An integer\n",
    "    \n",
    "    -   How will you structure your data?: The input string is treated as\n",
    "        a list of zeros and ones representing a binary number\n",
    "\n"
   ]
  },
  {
   "cell_type": "markdown",
   "metadata": {},
   "source": [
    "#### What is your test case\n",
    "\n"
   ]
  },
  {
   "cell_type": "markdown",
   "metadata": {},
   "source": [
    "0, 1, 001, 101, 111, 100, 102, hello\n",
    "\n"
   ]
  },
  {
   "cell_type": "markdown",
   "metadata": {},
   "source": [
    "#### Pseudo Code\n",
    "\n"
   ]
  },
  {
   "cell_type": "markdown",
   "metadata": {},
   "source": [
    "1.  A while loop which prompts for user input until the user enters the character \"s\"\n",
    "2.  Conditional statements which check for correct input\n",
    "    1.  A function which tests whether the user input is binary\n",
    "        1.  This function will loop of all string elements and test whether they are either 0 or 1\n",
    "        2.  The function will return true if all elements are o or 1, false otherwise\n",
    "    2.  if input is binary, call a function which converts the string to decimal\n",
    "        1.  This function will loop over each element of the input\n",
    "            string, and determine the exponent `n` for each string element\n",
    "            based on the position in the string.\n",
    "        2.  If the string element equals 1, the exponent to the base of 2\n",
    "            is added as a sum of all 2^n. If the element is zero, do\n",
    "            nothing\n",
    "        3.  The result of these summations is returned to the calling code\n",
    "    3.  else, print an error statement and ask for new input\n",
    "\n",
    "Use a nested list to go through the needed operations\n",
    "\n"
   ]
  },
  {
   "cell_type": "markdown",
   "metadata": {},
   "source": [
    "### Code\n",
    "\n"
   ]
  },
  {
   "cell_type": "code",
   "execution_count": null,
   "metadata": {},
   "outputs": [
    {
     "name": "stdout",
     "output_type": "stream",
     "text": [
      "Please enter a binary number 012]\n",
      "012] euqals 1 in decimal notation\n",
      "Please enter a binary number 012\n",
      "012 euqals 1 in decimal notation\n"
     ]
    }
   ],
   "source": [
    "\"\"\" \n",
    "Program Name: bin_2_dec\n",
    "\n",
    "Description: This program will prompt the user for a binary number and converts it into is decimal notation\n",
    "\n",
    "Arguments: none\n",
    "\n",
    "Version: 0.1\n",
    "\n",
    "Author: Uli Wortmann uli.wortmann@utoronto.ca\n",
    "\n",
    "Copyright: 2019 Uli Wortmann\n",
    "\n",
    "License: GPL\n",
    "\"\"\"\n",
    "\n",
    "# Parameters (i.e., variables you change for each run)\n",
    "\n",
    "# Scalar variables (i.e., single value only)\n",
    "a :bool = True # Switch for the while loop\n",
    "\n",
    "# Complex data types (strings, lists, vectors)\n",
    "prompt :str = \"Please enter a binary number \"\n",
    "answer :str = \"\" # The result returned by the input function\n",
    "\n",
    "# ---------------------- function defintions -------------*\n",
    "def is_binary(s:str)->bool:\n",
    "    \"\"\" This function expects a string and will test whether\n",
    "    all string elements are either zero or one. If yes, it will return\n",
    "    True, if not it wil retuurn False\n",
    "    \"\"\"\n",
    "    \n",
    "    r = True    # the return value\n",
    "    e :str = \"\" # the elements in the for loop\n",
    "    c :int = 0  # A counter for all elements which are unequal to 0 or 1\n",
    "    \n",
    "    for e in s: # loop over all string elements\n",
    "        if e == \"0\" or e == \"1\":\n",
    "            pass\n",
    "            \n",
    "        else: # add to counter if we have non binary elements\n",
    "            c = c + 1\n",
    "\n",
    "    if c > 0: # test if the loop found non binary elements\n",
    "        r = False\n",
    "\n",
    "    return r # return the value of r to the calling program\n",
    "\n",
    "def bin2dec(s:str)->int:\n",
    "    \"\"\"This funcction will convert the string s containing a binary number\n",
    "    and convert it into its decimal notation. The result of the conversion d\n",
    "    is returned to the calling program.\n",
    "    \"\"\"\n",
    "    \n",
    "    # Scalar Variables\n",
    "    d :int = 0 # the result of the conversion, a sum\n",
    "    n :int = 0 # index of element in b_t, a counter\n",
    "    p :int = 0 # p = 2^n\n",
    "\n",
    "    # Complex data types\n",
    "    b_r :str    = s[::-1] # a string with the reverse of s\n",
    "    \n",
    "    for i in b_r:       # loop over all elements\n",
    "        if i == \"1\":    # only consider elements == 1\n",
    "            p = 2 ** n  # calculate p^n\n",
    "            d = d + p   # add to the sum of all calculations\n",
    "            n = n + 1   # increase the counter n\n",
    "\n",
    "    return d\n",
    "\n",
    "# ---------------------- code ----------------------------*\n",
    "# this is our main loop\n",
    "while a: # do as long as a = True\n",
    "    answer = input(prompt)\n",
    "    if answer == \"s\": # end program\n",
    "        a = False\n",
    "        print(\"\\nGood bye\\n\")\n",
    "    else:\n",
    "            d = bin2dec(answer) # convert string to decimal\n",
    "            print(f\"{answer} euqals {d} in decimal notation\")\n",
    "        else: # if not ask for new input\n",
    "            print(f\"{answer} is not a binary number\")"
   ]
  },
  {
   "cell_type": "code",
   "execution_count": null,
   "metadata": {},
   "outputs": [],
   "source": []
  }
 ],
 "metadata": {
  "kernelspec": {
   "display_name": "Python 3",
   "language": "python",
   "name": "python3"
  },
  "language_info": {
   "codemirror_mode": {
    "name": "ipython",
    "version": 3
   },
   "file_extension": ".py",
   "mimetype": "text/x-python",
   "name": "python",
   "nbconvert_exporter": "python",
   "pygments_lexer": "ipython3",
   "version": "3.7.3"
  },
  "org": null
 },
 "nbformat": 4,
 "nbformat_minor": 1
}
