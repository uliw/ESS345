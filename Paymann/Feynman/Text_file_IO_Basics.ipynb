{
 "cells": [
  {
   "cell_type": "markdown",
   "metadata": {},
   "source": [
    "#  Text File Input/Output Basics\n"
   ]
  },
  {
   "cell_type": "markdown",
   "metadata": {},
   "source": [
    "## Create your text file using a text editor\n",
    "1- Open a text editor\n",
    "2- Open Wikipedia page, search 'Feynman' copy and past the second paragraph into your text editor.\n",
    "3- If necesary, Use the view option and \"word wrap\" your text to be visible in one page. \n",
    "4- Remove any symbols if present.\n",
    "5- Press enter after each period to eneter the end-of-line charachter. This way you will have three lines in your text file.\n",
    "6- save your text file under the name Feynman_original.txt in the same directiory as this Jupyte notebook.\n",
    "7- Make a copy of the file to work with, call it: Feynman.txt"
   ]
  },
  {
   "cell_type": "markdown",
   "metadata": {},
   "source": [
    "# Warnning! Always make a copy of your text or data file and name it original and set it aside. NEVER work with your original file to avoid any data coruption."
   ]
  },
  {
   "cell_type": "markdown",
   "metadata": {},
   "source": [
    "## Opening the file\n",
    "use pwd command to find the location of this Jupyter file inyour computer then paste it before your file name as shown.\n",
    "For Mac users use forward slash not backslash."
   ]
  },
  {
   "cell_type": "code",
   "execution_count": 47,
   "metadata": {},
   "outputs": [],
   "source": [
    "File1 = open(file='C:\\\\Users\\\\payman\\\\Desktop\\\\Python_Basics\\\\Text_file_IO/Feynman.txt',mode='r')"
   ]
  },
  {
   "cell_type": "markdown",
   "metadata": {},
   "source": [
    "Now this file is open in your memory to read and write.\n",
    "you MUST close the file after you are done to free up memory.\n",
    "Later you will be introduced to a better way of handling a file."
   ]
  },
  {
   "cell_type": "markdown",
   "metadata": {},
   "source": [
    "###  Read the file using read() method."
   ]
  },
  {
   "cell_type": "code",
   "execution_count": 48,
   "metadata": {},
   "outputs": [
    {
     "data": {
      "text/plain": [
       "'Feynman developed a widely used pictorial representation scheme for the mathematical expressions describing the behavior of subatomic particles, which later became known as Feynman diagrams.\\nDuring his lifetime, Feynman became one of the best-known scientists in the world.\\nIn a 1999 poll of 130 leading physicists worldwide by the British journal Physics World he was ranked as one of the ten greatest physicists of all time.'"
      ]
     },
     "execution_count": 48,
     "metadata": {},
     "output_type": "execute_result"
    }
   ],
   "source": [
    "File1.read()"
   ]
  },
  {
   "cell_type": "markdown",
   "metadata": {},
   "source": [
    "Right now the read cursor is placed at the end of your file. If you attempt to read the file again you wont see anything. Therfore, to reset the cursure you use this method: seek(0).\n",
    "Try this on your own now."
   ]
  },
  {
   "cell_type": "markdown",
   "metadata": {},
   "source": [
    "###  Read the file line by line using readlines() method\n"
   ]
  },
  {
   "cell_type": "code",
   "execution_count": 49,
   "metadata": {},
   "outputs": [
    {
     "data": {
      "text/plain": [
       "0"
      ]
     },
     "execution_count": 49,
     "metadata": {},
     "output_type": "execute_result"
    }
   ],
   "source": [
    "File1.seek(0)"
   ]
  },
  {
   "cell_type": "code",
   "execution_count": 50,
   "metadata": {},
   "outputs": [
    {
     "data": {
      "text/plain": [
       "'Feynman developed a widely used pictorial representation scheme for the mathematical expressions describing the behavior of subatomic particles, which later became known as Feynman diagrams.\\n'"
      ]
     },
     "execution_count": 50,
     "metadata": {},
     "output_type": "execute_result"
    }
   ],
   "source": [
    "File1.readline()"
   ]
  },
  {
   "cell_type": "code",
   "execution_count": 51,
   "metadata": {},
   "outputs": [
    {
     "name": "stdout",
     "output_type": "stream",
     "text": [
      "Feynman developed a widely used pictorial representation scheme for the mathematical expressions describing the behavior of subatomic particles, which later became known as Feynman diagrams.\n",
      "\n",
      "During his lifetime, Feynman became one of the best-known scientists in the world.\n",
      "\n",
      "In a 1999 poll of 130 leading physicists worldwide by the British journal Physics World he was ranked as one of the ten greatest physicists of all time.\n"
     ]
    }
   ],
   "source": [
    "File1.close()\n",
    "File1 = open(file='C:\\\\Users\\\\payman\\\\Desktop\\\\Python_Basics\\\\Text_file_IO/Feynman.txt',mode='r')\n",
    "\n",
    "Lines = File1.readlines()\n",
    "for l in Lines:\n",
    "    print(l, end='\\n')  # play with the end parameter and explore\n",
    "File1.close()"
   ]
  },
  {
   "cell_type": "markdown",
   "metadata": {},
   "source": [
    "## Writing to your File\n",
    "This is where you realized you had to make a copy of your original file and set it aside.\n",
    "when you open a file to write you need to use the argument 'w' or 'w+'.\n",
    "Once you open the file with these arguments you will truncate the contents of your file and all is gone!"
   ]
  },
  {
   "cell_type": "markdown",
   "metadata": {},
   "source": [
    "# Appending lines \n",
    "1- using 'a+' argument"
   ]
  },
  {
   "cell_type": "code",
   "execution_count": 76,
   "metadata": {
    "collapsed": true
   },
   "outputs": [],
   "source": [
    "File1 = open(file='C:\\\\Users\\\\payman\\\\Desktop\\\\Python_Basics\\\\Text_file_IO/Feynman.txt',mode='a+')"
   ]
  },
  {
   "cell_type": "code",
   "execution_count": 77,
   "metadata": {},
   "outputs": [
    {
     "data": {
      "text/plain": [
       "25"
      ]
     },
     "execution_count": 77,
     "metadata": {},
     "output_type": "execute_result"
    }
   ],
   "source": [
    "File1.write('\\nAppending a new line to Feynman.txt')\n",
    "File1.write('\\nAppening one extra line.')"
   ]
  },
  {
   "cell_type": "code",
   "execution_count": 78,
   "metadata": {},
   "outputs": [
    {
     "data": {
      "text/plain": [
       "'Feynman developed a widely used pictorial representation scheme for the mathematical expressions describing the behavior of subatomic particles, which later became known as Feynman diagrams.\\nDuring his lifetime, Feynman became one of the best-known scientists in the world.\\nIn a 1999 poll of 130 leading physicists worldwide by the British journal Physics World he was ranked as one of the ten greatest physicists of all time.\\nAppending a new line to Feynman.txt\\nAppening one extra line.'"
      ]
     },
     "execution_count": 78,
     "metadata": {},
     "output_type": "execute_result"
    }
   ],
   "source": [
    "File1.seek(0)\n",
    "File1.read()"
   ]
  },
  {
   "cell_type": "code",
   "execution_count": 79,
   "metadata": {},
   "outputs": [
    {
     "name": "stdout",
     "output_type": "stream",
     "text": [
      "Feynman developed a widely used pictorial representation scheme for the mathematical expressions describing the behavior of subatomic particles, which later became known as Feynman diagrams.\n",
      "During his lifetime, Feynman became one of the best-known scientists in the world.\n",
      "In a 1999 poll of 130 leading physicists worldwide by the British journal Physics World he was ranked as one of the ten greatest physicists of all time.\n",
      "Appending a new line to Feynman.txt\n",
      "Appening one extra line.\n"
     ]
    }
   ],
   "source": [
    "File1.seek(0)\n",
    "print(File1.read())"
   ]
  },
  {
   "cell_type": "markdown",
   "metadata": {},
   "source": [
    "# Remember to close your file"
   ]
  },
  {
   "cell_type": "code",
   "execution_count": 81,
   "metadata": {
    "collapsed": true
   },
   "outputs": [],
   "source": [
    "File1.close()"
   ]
  },
  {
   "cell_type": "markdown",
   "metadata": {},
   "source": [
    "\n",
    "# Appending lines with %%writefile in Jupyter\n"
   ]
  },
  {
   "cell_type": "code",
   "execution_count": 83,
   "metadata": {},
   "outputs": [
    {
     "name": "stdout",
     "output_type": "stream",
     "text": [
      "Appending to Feynman.txt\n"
     ]
    }
   ],
   "source": [
    "%%writefile -a Feynman.txt\n",
    "\n",
    "He assisted in the development of the atomic bomb during World War II and became known to a wide \n",
    "public in the 1980s as a member of the Rogers Commission, the panel that investigated the Space \n",
    "Shuttle Challenger disaster. \n",
    "Along with his work in theoretical physics, Feynman has been credited with pioneering the field \n",
    "of quantum computing and introducing the concept of nanotechnology. \n",
    "He held the Richard C. \n",
    "Tolman professorship in theoretical physics at the California Institute of Technology."
   ]
  },
  {
   "cell_type": "code",
   "execution_count": 84,
   "metadata": {
    "collapsed": true
   },
   "outputs": [],
   "source": [
    "File1.close()"
   ]
  },
  {
   "cell_type": "markdown",
   "metadata": {},
   "source": [
    "## Using Context Managers to optimize file I/O\n"
   ]
  },
  {
   "cell_type": "code",
   "execution_count": 85,
   "metadata": {},
   "outputs": [
    {
     "name": "stdout",
     "output_type": "stream",
     "text": [
      "Feynman developed a widely used pictorial representation scheme for the mathematical expressions describing the behavior of subatomic particles, which later became known as Feynman diagrams.\n",
      "\n"
     ]
    }
   ],
   "source": [
    "with open('Feynman.txt','r') as f:\n",
    "    first_line = f.readlines()[0]\n",
    "    \n",
    "print(first_line)"
   ]
  },
  {
   "cell_type": "markdown",
   "metadata": {},
   "source": [
    "## Reading through the whole file by iterating through lines"
   ]
  },
  {
   "cell_type": "code",
   "execution_count": 86,
   "metadata": {},
   "outputs": [
    {
     "name": "stdout",
     "output_type": "stream",
     "text": [
      "Feynman developed a widely used pictorial representation scheme for the mathematical expressions describing the behavior of subatomic particles, which later became known as Feynman diagrams.\n",
      "During his lifetime, Feynman became one of the best-known scientists in the world.\n",
      "In a 1999 poll of 130 leading physicists worldwide by the British journal Physics World he was ranked as one of the ten greatest physicists of all time.\n",
      "Appending a new line to Feynman.txt\n",
      "Appening one extra line.\n",
      "He assisted in the development of the atomic bomb during World War II and became known to a wide \n",
      "public in the 1980s as a member of the Rogers Commission, the panel that investigated the Space \n",
      "Shuttle Challenger disaster. \n",
      "Along with his work in theoretical physics, Feynman has been credited with pioneering the field \n",
      "of quantum computing and introducing the concept of nanotechnology. \n",
      "He held the Richard C. \n",
      "Tolman professorship in theoretical physics at the California Institute of Technology."
     ]
    }
   ],
   "source": [
    "with open('Feynman.txt','r') as f:\n",
    "    for line in f:\n",
    "        print(line, end='')  "
   ]
  }
 ],
 "metadata": {
  "kernelspec": {
   "display_name": "Python 3",
   "language": "python",
   "name": "python3"
  },
  "language_info": {
   "codemirror_mode": {
    "name": "ipython",
    "version": 3
   },
   "file_extension": ".py",
   "mimetype": "text/x-python",
   "name": "python",
   "nbconvert_exporter": "python",
   "pygments_lexer": "ipython3",
   "version": "3.5.4"
  }
 },
 "nbformat": 4,
 "nbformat_minor": 2
}
