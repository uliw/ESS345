{
 "cells": [
  {
   "cell_type": "markdown",
   "metadata": {},
   "source": [
    "## The print statement\n",
    "\n"
   ]
  },
  {
   "cell_type": "markdown",
   "metadata": {},
   "source": [
    "Note, the terms \"statement\" and \"function\" are used interchangeably. \n",
    "\n"
   ]
  },
  {
   "cell_type": "markdown",
   "metadata": {},
   "source": [
    "### Recap\n",
    "\n"
   ]
  },
  {
   "cell_type": "markdown",
   "metadata": {},
   "source": [
    "Note, in the following, the terms \"statement\" and \"function\" are used\n",
    "interchangeably.  Over the course of the last couple of modules, we\n",
    "implicitly learned (hopefully), a couple of essential things about\n",
    "python. Here a summary. If any of these concepts or terms are unclear,\n",
    "please go back to the previous modules and discuss with your TA/Prof\n",
    "where necessary.\n",
    "\n",
    "1.  While python understands decimal numbers without help, we have to\n",
    "    mark strings with quotation marks (otherwise python would think\n",
    "    it is a variable or function name): `s = \"Hello World\"`\n",
    "2.  It matters how we use brackets:\n",
    "    -   Square brackets to the right of an equal sign indicate that you\n",
    "        declare a list: `a = [1, 2, 4]`. Square brackets to the right\n",
    "        of a name or letter indicate an index expression: `a[1] =\n",
    "               22`. Index expressions can also be used to address ranges and\n",
    "        stepsize: `a[1:2:1]`.\n",
    "    -   Round brackets to the right of an equal sign are used to\n",
    "        declare a tuple: `t=(1, 2, 3)`, whereas round brackets to the\n",
    "        right of a name indicates that this name is a function:\n",
    "        `print()`. Note that to access the 2<sup>nd</sup> element of the tuple,\n",
    "        you will still have to use square brackets since you are doing\n",
    "        and index operation: `t[1]`. Tuples are immutable.\n",
    "    -   Curly braces to the right are used to declare a set: `u =\n",
    "               {1,2,3}`. Set members cannot be retrieved by an index\n",
    "        operation, and set values are immutable.\n",
    "    -   But they are also used to declare dictionaries. In this case,\n",
    "        the declaration contains key:value pairs that are separated by\n",
    "        a colon. `d = {\"B\":12, \"A\":14, \"C\":7}`. Dictionary entries can\n",
    "        be retrieved by using an index expression using the dictionary\n",
    "        key: `d[\"B\"]`\n",
    "3.  A name followed by regular brackets denotes a python function:\n",
    "    `print()`. Functions exist independently of data (or objects like lists).\n",
    "4.  A name followed by a dot and another name with brackets denotes\n",
    "    an object method: `a.sort()` which only exists as long as the\n",
    "    object exists.\n",
    "    -   Object methods can either modify the object associated data in\n",
    "        place, e.g., `a.sort()`\n",
    "    -   Or, they do not modify the object associated data, but instead\n",
    "        return a copy of the data, e.g., `s.split(\",\")`. So if you\n",
    "        would like to change the original data set, you would have to\n",
    "        write `s = s.split(\",\")`.\n",
    "5.  We can query the object type with the type function: `type(a)`,\n",
    "    we can list the object associated methods with the dir function:\n",
    "    `dir(a)`\n",
    "6.  We can get help on python functions with the help command:\n",
    "    `help(print)`\n",
    "7.  We can get help on object methods with the help function:\n",
    "    `help(a.pop)`\n",
    "8.  The name of a compound variable (i.e., lists, tuples,\n",
    "    dictionaries etc.) refers to its object handle, not it's value.\n",
    "    Thus, the expression `my_new_list = my_old_list` will not copy\n",
    "    the list values, it will only copy the memory address where those\n",
    "    values are stored. In other words, if you modify `my_new_list`\n",
    "    you will also modify `my_old_list`. To create an independent copy\n",
    "    you need to use the copy method: `my_new_list =\n",
    "         my_old_list.copy()`\n",
    "\n"
   ]
  },
  {
   "cell_type": "markdown",
   "metadata": {},
   "source": [
    "### Using print()\n",
    "\n"
   ]
  },
  {
   "cell_type": "markdown",
   "metadata": {},
   "source": [
    " By now, you probably\n",
    "noticed that the print statement is a function. Functions\n",
    "  usually take one\n",
    "or more arguments (i.e., data or variables), which are enclosed by\n",
    "regular brackets, and then do something with that data. We use the\n",
    "print function so far, simply to echo the value of a variable back\n",
    "onto the screen. There is however, much more we can do with this\n",
    "function, and we will make extensive use of this capability. This\n",
    "module will teach the basics of producing formatted\n",
    "output.  \n",
    "\n",
    "Most things python are straightforward, but the syntax of the print\n",
    "function is not. This is simply because every new python version\n",
    "provides new ways to format the print output. In this course, we will\n",
    "use the syntax provided by python 3.7, the so-called f-strings. You\n",
    "will note that this is different from the syntax explained in your\n",
    "book or what you will find on legacy systems, which may still run\n",
    "python 2.7. If you run into these cases, the internet is your friend.\n",
    "\n"
   ]
  },
  {
   "cell_type": "markdown",
   "metadata": {},
   "source": [
    "### F-strings\n",
    "\n"
   ]
  },
  {
   "cell_type": "markdown",
   "metadata": {},
   "source": [
    "  The `print()`\n",
    "statement, allows us to display the value of a variable.\n",
    "\n"
   ]
  },
  {
   "cell_type": "code",
   "execution_count": 1,
   "metadata": {},
   "outputs": [
    {
     "name": "stdout",
     "output_type": "stream",
     "text": [
      "# Out [1]: \n",
      "# output\n",
      "8"
     ]
    }
   ],
   "source": [
    "a = 2\n",
    "b = 4\n",
    "c = a * b\n",
    "print(c)"
   ]
  },
  {
   "cell_type": "markdown",
   "metadata": {},
   "source": [
    "this is handy enough while you develop your code, but it would be nice\n",
    "if could print something more meaningful, e.g., \"The square-root of 12\n",
    "equals 4\".\n",
    "\n",
    "In other words, we need a way to mix strings with variable\n",
    "values. This is achieved with the so-called \"f-strings\" (python 3.7\n",
    "and newer only).\n",
    "\n"
   ]
  },
  {
   "cell_type": "code",
   "execution_count": 1,
   "metadata": {},
   "outputs": [
    {
     "name": "stdout",
     "output_type": "stream",
     "text": [
      "# Out [2]: \n",
      "# output\n",
      "Multiplying 2 with 4 yields 8"
     ]
    }
   ],
   "source": [
    "a = 2\n",
    "b = 4\n",
    "c = a * b\n",
    "message = f\"Multiplying {a} with {b} yields {c}\"\n",
    "print(message)"
   ]
  },
  {
   "cell_type": "markdown",
   "metadata": {},
   "source": [
    "Let's analyze the above example: we precede the string declaration in\n",
    "line 4 with an `f` which signals to python that this string will be an\n",
    "f-string. As usual, we enclose the string in quotation marks. After\n",
    "the opening quotation marks, we have some text, which will be output\n",
    "as is. However, in f-strings anything between the curly braces will be\n",
    "interpreted as python code. This can be a variable, a function, or any\n",
    "other valid python expression. Try the following to verify this claim\n",
    "\n"
   ]
  },
  {
   "cell_type": "code",
   "execution_count": 1,
   "metadata": {},
   "outputs": [
    {
     "name": "stdout",
     "output_type": "stream",
     "text": [
      "# Out [3]: \n",
      "# output\n",
      "Four times 12 equals 48"
     ]
    }
   ],
   "source": [
    "a = 12\n",
    "print(f\"Four times {a} equals {4*a}\")"
   ]
  },
  {
   "cell_type": "markdown",
   "metadata": {},
   "source": [
    "This provides us with a powerful way to mix text and computational\n",
    "results.\n",
    "\n"
   ]
  },
  {
   "cell_type": "markdown",
   "metadata": {},
   "source": [
    "### Escape sequences\n",
    "\n"
   ]
  },
  {
   "cell_type": "markdown",
   "metadata": {},
   "source": [
    "\n",
    "Imagine that you need to print more than one line, e.g., something like this:\n",
    "\n",
    "    ----------------------------\n",
    "    \n",
    "           Attention! \n",
    "    \n",
    "    ----------------------------\n",
    "\n",
    "This can be achieved in a variety of ways, e.g., we could create the\n",
    "above explicitly\n",
    "\n"
   ]
  },
  {
   "cell_type": "code",
   "execution_count": 1,
   "metadata": {},
   "outputs": [
    {
     "name": "stdout",
     "output_type": "stream",
     "text": [
      "# Out [4]: \n",
      "# output\n",
      " - - - - - - - - - - - - - -\n",
      "\n",
      "       Attention!\n",
      "\n",
      " - - - - - - - - - - - - - -"
     ]
    }
   ],
   "source": [
    "print(\" - - - - - - - - - - - - - -\")\n",
    "print()\n",
    "print(\"       Attention!\")\n",
    "print()\n",
    "print(\" - - - - - - - - - - - - - -\")"
   ]
  },
  {
   "cell_type": "markdown",
   "metadata": {},
   "source": [
    "Not a bad way, but lots of typing. If we could tell python to insert a\n",
    "newline, and tab, we could rewrite this statement in a much shorter\n",
    "way. This is done with so called escape-characters.\n",
    "\n"
   ]
  },
  {
   "cell_type": "code",
   "execution_count": 1,
   "metadata": {},
   "outputs": [
    {
     "name": "stdout",
     "output_type": "stream",
     "text": [
      "# Out [5]: \n",
      "# output\n",
      " - - - - - - - - - - - - - - \n",
      "\n",
      "      Attention! \n",
      "\n",
      " - - - - - - - - - - - - - -"
     ]
    }
   ],
   "source": [
    "a = \" - - - - - - - - - - - - - -\"\n",
    "message=f\"{a} \\n\\n \\t Attention! \\n\\n{a}\"\n",
    "print(message)"
   ]
  },
  {
   "cell_type": "markdown",
   "metadata": {},
   "source": [
    "In python (and many other languages as well) the backslash is a\n",
    "control character which denotes that the character after the backslash\n",
    "has a special meaning. So in the above example, the sequence of `\\n`\n",
    "will be replaced with a linefeed command (i.e., an empty line), and\n",
    "the `\\t` will be replaced by a tab. Furthermore, you can use the\n",
    "backslash to indicate that the following character should not be\n",
    "interpreted as a special command. Imagine a case where you want to\n",
    "print the backslash in your output. This is done by preceding the\n",
    "backslash with a backslash. This is also called to escape the\n",
    "backslash.\n",
    "\n"
   ]
  },
  {
   "cell_type": "code",
   "execution_count": 1,
   "metadata": {},
   "outputs": [
    {
     "name": "stdout",
     "output_type": "stream",
     "text": [
      "# Out [6]: \n",
      "# output\n",
      "Print a newline here: \n",
      "print the backslash here: \\"
     ]
    }
   ],
   "source": [
    "message=\"Print a newline here: \\nprint the backslash here: \\\\\"\n",
    "print(message)"
   ]
  },
  {
   "cell_type": "markdown",
   "metadata": {},
   "source": [
    "Here a list of some frequently used escape sequences. Note, if you use\n",
    "these in your notebook text cells, you need to wrap them into a code\n",
    "block (triple backticks). Escape sequences are not part of the\n",
    "markdown syntax and cause all sorts of weird problems (among them\n",
    "missing pdf output) \n",
    "\n",
    "| Escape Sequence|Meaning|\n",
    "| <code>\\newline</code>|Ignored|\n",
    "| <code>\\</code>|Backslash (\\)|\n",
    "| <code>\\'</code>|Single quote (')|\n",
    "| <code>\\\"</code>|Double quote (\")|\n",
    "| <code>\\a</code>|ASCII Bell (BEL)|\n",
    "| <code>\\b</code>|ASCII Backspace (BS)|\n",
    "| <code>\\f</code>|ASCII Formfeed (FF)|\n",
    "| <code>\\n</code>|ASCII Linefeed (LF)|\n",
    "| <code>\\r</code>|ASCII Carriage Return (CR)|\n",
    "| <code>\\t</code>|ASCII Horizontal Tab (TAB)|\n",
    "| <code>\\v</code>|ASCII Vertical Tab (VT)|\n",
    "| <code>\\xA1</code>|ASCII character with hexadecimal value A1|\n",
    "| <code>\\135</code>|ASCII character with octal value 135 (])|\n",
    "\n"
   ]
  },
  {
   "cell_type": "markdown",
   "metadata": {},
   "source": [
    "### Multiline f-strings\n",
    "\n"
   ]
  },
  {
   "cell_type": "markdown",
   "metadata": {},
   "source": [
    "\n",
    "\n",
    "Sometimes, your message string won't fit on a single line. In this case, we can group several f-strings together\n",
    "\n"
   ]
  },
  {
   "cell_type": "code",
   "execution_count": 1,
   "metadata": {},
   "outputs": [
    {
     "name": "stdout",
     "output_type": "stream",
     "text": [
      "# Out [7]: \n",
      "# output\n",
      "This is the first stringThis is the second string"
     ]
    }
   ],
   "source": [
    "message = (\n",
    "    f\"This is the first string\"\n",
    "    f\"This is the second string\"\n",
    ")\n",
    "print(message)"
   ]
  },
  {
   "cell_type": "markdown",
   "metadata": {},
   "source": [
    "You will note that the above does not automatically include\n",
    "linefeeds. I.e., you will need to add the appropriate escape sequences\n",
    "into the f-string.\n",
    "\n"
   ]
  },
  {
   "cell_type": "markdown",
   "metadata": {},
   "source": [
    "### Format modifiers\n",
    "\n"
   ]
  },
  {
   "cell_type": "markdown",
   "metadata": {},
   "source": [
    "\n",
    "\n",
    "The above gives us already a lot of control over the output from a\n",
    "python program. However, consider the case where you get measurements\n",
    "from an analytical instrument, which reports the data as\n",
    "12.3456006423.  However, the actual instrument precision is only\n",
    "around 0.2. There, it would be nice to restrict the output of the\n",
    "print statement to the significant figures.\n",
    "\n",
    "This is done with so called format modifiers. Try this:\n",
    "\n"
   ]
  },
  {
   "cell_type": "code",
   "execution_count": 1,
   "metadata": {},
   "outputs": [
    {
     "name": "stdout",
     "output_type": "stream",
     "text": [
      "# Out [8]: \n",
      "# output\n",
      "The value of variable a equals 12.3456006423\n",
      "The value of variable a equals 12.35"
     ]
    }
   ],
   "source": [
    "a =  12.3456006423\n",
    "print(f\"The value of variable a equals {a}\")\n",
    "# now we add a format modifier\n",
    "print(f\"The value of variable a equals {a:1.2f}\")"
   ]
  },
  {
   "cell_type": "markdown",
   "metadata": {},
   "source": [
    "Let's analyze this statement. We use a colon after the variable name\n",
    "to attach a format modifier (note this method is specific to\n",
    "f-strings). The first number states that our output must have a\n",
    "minimum length of 1, with no more than two digits after the decimal\n",
    "point. Modify this statement in such a way that you print the result\n",
    "with 3 and 4 significant figures. Also, does this operation simply\n",
    "truncate the number, or will the number be rounded?\n",
    "\n",
    "The first number in the format modifier specifies the minimum length\n",
    "of the statement. I.e., if this number is larger than the length of\n",
    "the actual output (in the above case 4 characters), the result will be\n",
    "padded with leading spaces. This can be important when saving data in\n",
    "a format which requires that the decimal point is always at the 7<sup>th</sup>\n",
    "character position.\n",
    "\n",
    "Similarly, python knows the \"s\" format modifier for strings. This can\n",
    "be used to\n",
    "\n",
    "-   truncate long strings\n",
    "-   pad them with blanks on the left\n",
    "-   pad them with blanks on the right\n",
    "\n"
   ]
  },
  {
   "cell_type": "code",
   "execution_count": 1,
   "metadata": {},
   "outputs": [
    {
     "name": "stdout",
     "output_type": "stream",
     "text": [
      "# Out [9]: \n",
      "# output\n",
      "The content of the message string = Hell - so what?\n",
      "The content of the message string =          Hello World - so what?\n",
      "The content of the message string = Hello World          - so what?"
     ]
    }
   ],
   "source": [
    "message = \"Hello World\"\n",
    "print(f\"The content of the message string = {message:.4s} - so what?\")\n",
    "print(f\"The content of the message string = {message:>20s} - so what?\")\n",
    "print(f\"The content of the message string = {message:<20s} - so what?\")"
   ]
  },
  {
   "cell_type": "markdown",
   "metadata": {},
   "source": [
    "Likewise, we can use the \"d\" modifier to pad integer numbers, or force\n",
    "python to print the sign of the number (which is always done for\n",
    "negative values, but usually omitted for positive ones.\n",
    "\n"
   ]
  },
  {
   "cell_type": "code",
   "execution_count": 1,
   "metadata": {},
   "outputs": [
    {
     "name": "stdout",
     "output_type": "stream",
     "text": [
      "# Out [10]: \n",
      "# output\n",
      "a =             12347687 - so what?\n",
      "a = 12347687             - so what?\n",
      "a = $+12347687 - so what?"
     ]
    }
   ],
   "source": [
    "a = 12347687\n",
    "print(f\"a = {a:>20d} - so what?\")\n",
    "print(f\"a = {a:<20d} - so what?\")\n",
    "print(f\"a = ${a:+d} - so what?\")"
   ]
  },
  {
   "cell_type": "markdown",
   "metadata": {},
   "source": [
    "Note that you cannot use modifiers to display floating point numbers\n",
    "as integer or string.\n",
    "\n"
   ]
  }
 ],
 "metadata": {
  "kernelspec": {
   "display_name": "Python 3",
   "language": "python",
   "name": "python3"
  },
  "language_info": {
   "codemirror_mode": {
    "name": "ipython",
    "version": 3
   },
   "file_extension": ".py",
   "mimetype": "text/x-python",
   "name": "python",
   "nbconvert_exporter": "python",
   "pygments_lexer": "ipython3",
   "version": "3.7.9"
  },
  "org": null
 },
 "nbformat": 4,
 "nbformat_minor": 1
}
