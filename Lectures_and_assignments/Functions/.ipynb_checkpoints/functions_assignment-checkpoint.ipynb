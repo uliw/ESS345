{
 "cells": [
  {
   "cell_type": "markdown",
   "metadata": {},
   "source": [
    "## Assignment\n",
    "\n"
   ]
  },
  {
   "cell_type": "markdown",
   "metadata": {},
   "source": [
    "Functions have the following characteristics:\n",
    "\n",
    "-   They allow us to group code sequences and refer to this group by\n",
    "    name. This useful to declutter your code.\n",
    "-   Code which is grouped inside of a function does not have access to\n",
    "    variables which are defined outside of a function.\n",
    "    \n",
    "    This helps to isolate code sections\n",
    "    and prevents naming conflicts or accidental overwriting of a, e.g.,\n",
    "    a counter.\n",
    "-   the **value(s)** of a variable(s) can be passed into a function as\n",
    "    arguments to the function call (see below)\n",
    "-   The result of a computation inside the function can be\n",
    "    returned to the calling code with the return statement.\n",
    "-   Functions must always be defined before you can use them. This is\n",
    "    best done at the beginning of the code\n",
    "\n"
   ]
  },
  {
   "cell_type": "markdown",
   "metadata": {},
   "source": [
    "#### Converting data from a Mass spectrometer into delta notation\n",
    "\n"
   ]
  },
  {
   "cell_type": "markdown",
   "metadata": {},
   "source": [
    "Most elements have variations in their atomic structure, which affect\n",
    "their weight, but not their chemical characteristics. In other words,\n",
    "they have the same number of protons but a different number of\n",
    "neutrons. You will likely have heard of oxygen or carbon isotopes,\n",
    "both featuring prominently in the current climate change debate, and\n",
    "isotopes feature prominently in almost all geoscience research. \n",
    "\n",
    "Stable isotopes are measured with a mass spectrometer where the oxygen\n",
    "atoms are ionized, then accelerated, and the beam of accelerated ions\n",
    "is then sent through a magnetic field, which will bend this beam. The\n",
    "ions with additional neutrons, are heavier and thus will have a\n",
    "different curve radius then the lighter ones (see\n",
    "Fig. [fig:IRMS](#fig:IRMS)). Therefore we can split the beam into two beams. The two\n",
    "beams will then be collected by Faraday cups, which count the number of\n",
    "arriving ions (i.e., they register a voltage). Based on these\n",
    "voltages, we can establish the ratio between these isotopes.\n",
    "\n",
    "![img](./Mass_Spectrometer_Schematic.png \"Schematic drawing of an isotope mass ratio monitoring mass spectrometer (IRMS). Source: ![img](https://commons.wikimedia.org/wiki/File:Mass_Spectrometer_Schematic.svg), 2019\")\n",
    "\n",
    "Most geological processes change the isotope ratio of a given element\n",
    "only by a  small fraction. Consider the following example, which\n",
    "uses sulfur isotopes from seawater sulfate. Sulfur has 4 stable\n",
    "isotopes (<sup>32</sup>S, &nbsp;<sup>33</sup>S, &nbsp;<sup>34</sup>S, &nbsp;<sup>36</sup>S), and one unstable (i.e., radiogenic)\n",
    "isotope (<sup>35</sup>S). Here we will stick to the two most abundant isotopes\n",
    "&nbsp;<sup>32</sup>S and &nbsp;<sup>34</sup>S. The following data is from actual measurements of\n",
    "seawater sulfate.\n",
    "\n"
   ]
  },
  {
   "cell_type": "code",
   "execution_count": 1,
   "metadata": {},
   "outputs": [],
   "source": [
    "# remember that variable names cannot start with a number!\n",
    "S32 :list = [0.956825467106151, 0.956824254162342, 0.956831127551253,\n",
    "             0.956806868972346, 0.956808486172672, 0.95680282599545,\n",
    "             0.957705256379378, 0.956814955028641, 0.957705256379378,\n",
    "             0.957705256379378, 0.956929791779426, 0.957705256379378,\n",
    "             0.957705256379378, 0.956975491533205, 0.957000163125976,\n",
    "             0.956964976158995]\n",
    "\n",
    "S34 :list = [0.043174532893849, 0.043175745837658, 0.043168872448747,\n",
    "             0.043193131027654, 0.043191513827328, 0.04319717400455,\n",
    "             0.042294743620622, 0.043185044971359, 0.042294743620622,\n",
    "             0.042294743620622, 0.043070208220574, 0.042294743620622,\n",
    "             0.042294743620622, 0.043024508466795, 0.042999836874024,\n",
    "             0.043035023841005]"
   ]
  },
  {
   "cell_type": "markdown",
   "metadata": {},
   "source": [
    "From the above, you can see that there is a lot more S<sup>32</sup> than there is S<sup>34</sup>. \n",
    "You can also see that if we only look at the ratios between S<sup>32</sup>and S<sup>34</sup>, the\n",
    "numbers are unwieldy and it is hard to spot the change between two\n",
    "values. I.e.,\n",
    "\n"
   ]
  },
  {
   "cell_type": "code",
   "execution_count": 1,
   "metadata": {},
   "outputs": [],
   "source": [
    "print(f\"34S/32S [0] = {S34[0]/S32[0]}\")\n",
    "print(f\"34S/32S [4] = {S34[4]/S32[4]}\")"
   ]
  },
  {
   "cell_type": "markdown",
   "metadata": {},
   "source": [
    "It is therefore customary to express the change in isotope ratio as a\n",
    "difference relative to a standard value. The unit of the delta notation is\n",
    "\"per mil\" which translates as \"per thousand\" (or 0.1 %)\n",
    "\n",
    "\\begin{equation}\n",
    "\\delta^{34}S = \\left(\n",
    "       \\frac{\n",
    "         \\left(\\frac{34S}{32S}\\right) _{Sample}}\n",
    "       {\n",
    "         \\left(\\frac{34S}{32S}\\right) _{VCDT}}\n",
    "       -1\n",
    "       \\right) \\times 1000 \\quad [^0/_{00}]\n",
    "\\end{equation}\n",
    "\n",
    "For sulfur, the standard value is a meteorite, the Canyon Diabolo\n",
    "Troilite. Since this standard has long been depleted, we nowadays use\n",
    "a virtual value, the so-called \"Vienna Canyon Diabolo Troilite\"\n",
    "(VCDT). The reference ratio of &nbsp;<sup>34</sup>S/<sup>32</sup>S  for VCDT is\n",
    "\n"
   ]
  },
  {
   "cell_type": "code",
   "execution_count": 1,
   "metadata": {},
   "outputs": [],
   "source": [
    "R :float = 0.044162589 # Reference ratio of 34S/32S for VCDT"
   ]
  },
  {
   "cell_type": "markdown",
   "metadata": {},
   "source": [
    "##### Assignment 1\n",
    "\n"
   ]
  },
  {
   "cell_type": "markdown",
   "metadata": {},
   "source": [
    "Create a function which takes two numbers as argument (say S32, and\n",
    " S34) and returns the respective delta back to the calling program.\n",
    " To keep the function universal, also pass the reference ratio as\n",
    " argument. So your function interface will look like this\n",
    "\n"
   ]
  },
  {
   "cell_type": "code",
   "execution_count": 1,
   "metadata": {},
   "outputs": [],
   "source": [
    "def v2d (li :float, hi:float, R:float) -> float:"
   ]
  },
  {
   "cell_type": "markdown",
   "metadata": {},
   "source": [
    "where `li` stands for 'light isotope' and `hi` stands for 'heavy isotope'\n",
    "**Note, `li` and `hi` must be single values, not a complete list.**\n",
    "\n",
    "Embed this function into a loop which iterates of each element of\n",
    " `S32` and `S34` and then calls `v2d` for each isotope pair. Store the\n",
    " returned delta value in the new list `delta`, print out the results\n",
    " of your conversion according to the below template, before starting\n",
    " the next iteration.\n",
    "\n",
    "    S34 = and  S32= yield a delta value of = XX.XX permil\n",
    "\n",
    "Note the explicit print format for delta. Also, remember that the\n",
    "print statement should be in your main code, not inside your function\n",
    "The goal with this exercise is to make you think about function\n",
    "argument, how to use multiple arguments, and how to go from an\n",
    "equation to a function.\n",
    "\n"
   ]
  },
  {
   "cell_type": "markdown",
   "metadata": {},
   "source": [
    "Copy your function code and create a new function called `v2d`. This\n",
    "function should additionally test whether the parameter values are\n",
    "either single values, or lists - `isinstance()` is your friend here, see this example:\n",
    "\n"
   ]
  },
  {
   "cell_type": "code",
   "execution_count": 1,
   "metadata": {},
   "outputs": [],
   "source": [
    "a :list = [2]\n",
    "if isinstance(a, list):\n",
    "    print(\"yup, this is a list\")\n",
    "else:\n",
    "    print(\"nope, not a list\")"
   ]
  },
  {
   "cell_type": "markdown",
   "metadata": {},
   "source": [
    "If the data passed to the function contains single values, return a single\n",
    "delta value. If the data contains lists, return a list with delta\n",
    "values. So your function needs first to figure out what data has been\n",
    "passed, and then process it accordingly.\n",
    "\n",
    "You solved the first case above, but what to do with the second? Basically,\n",
    "you need to loop over each list element and to the same calculation as in\n",
    "the first case. Yo will probably notice that you can re-use `v_2_d` for\n",
    "this. So all you need to do is the type check and loop part. \n",
    "\n",
    "On order to solve this assignment, you will have to create a new (and\n",
    "empty) list inside the function, and then you will have to add data to the\n",
    "list. The following code snippet will be helpful for this. See the previous\n",
    "module on lists if you do not recall how to append data onto a list\n",
    "\n"
   ]
  },
  {
   "cell_type": "code",
   "execution_count": 1,
   "metadata": {},
   "outputs": [],
   "source": [
    "delta = [] # this will create and empty list\n",
    "delta = list() # this will do the same"
   ]
  },
  {
   "cell_type": "markdown",
   "metadata": {},
   "source": [
    "Note, this will create an interesting problem for type hinting since we\n",
    "don't know the type ahead of time. Python has a solution for this, which is\n",
    "however outside the scope of this class. For now, simply state the allowed\n",
    "types in the docstring.\n",
    "\n"
   ]
  },
  {
   "cell_type": "markdown",
   "metadata": {},
   "source": [
    "##### Assignment 2\n",
    "\n"
   ]
  },
  {
   "cell_type": "markdown",
   "metadata": {},
   "source": [
    "We can invert the above equation and calculate the respective isotope\n",
    "concentrations from the delta value we stored in n=delta= (lets call\n",
    "this function d2i). In order to keep the function universal, I will\n",
    "call the respective isotopes simply `li` for 'light isotope' and `hi`\n",
    "for 'heavy isotope'\n",
    "\n",
    "\\begin{equation}\n",
    "    li = \\frac{1000}{(\\delta +1000) \\times R + 1000}\n",
    "\\end{equation}\n",
    "\n",
    "\\begin{equation}\n",
    "    hi = \\frac{(\\delta + 1000) \\times R}{(\\delta + 1000) \\times R + 1000}        \n",
    "\\end{equation}\n",
    "\n",
    "write a function which will take a delta value returns the light and\n",
    "heavy isotope values. Then write some code which will use a loop to\n",
    "iterate over each delta value in the `delta` list, and call your\n",
    "function to compute the light and heavy isotopes.  Store the returned\n",
    "values in the new lists `S32_new` and `S34_new`.\n",
    "\n"
   ]
  },
  {
   "cell_type": "markdown",
   "metadata": {},
   "source": [
    "##### Assignment 3\n",
    "\n"
   ]
  },
  {
   "cell_type": "markdown",
   "metadata": {},
   "source": [
    "Use a single loop to compute the element by element difference between\n",
    "`S32` and `S32_new`. Within the same loop, do the same for `S34` and\n",
    "`S34_new`. Also keep a running tally of the total accumulated error\n",
    "\n",
    "\\begin{equation}\n",
    "    e_S32 = \\sum error_S32 (i)\n",
    "\\end{equation}\n",
    "\n",
    "Do this for both, `S34` and `S32`\n",
    "\n",
    "Your total error should be a really small number (i.e., 1<sup>-16</sup> etc).\n",
    "\n"
   ]
  },
  {
   "cell_type": "markdown",
   "metadata": {},
   "source": [
    "### Marking Scheme\n",
    "\n"
   ]
  },
  {
   "cell_type": "markdown",
   "metadata": {},
   "source": [
    "-   Your code uses the correctly defined functions (docstrings, and\n",
    "    type-hinting, parameters) 2 \\* 3 = 6 pts\n",
    "-   Your code calculates the requested quantities 3 \\* 2 = 6 pts.\n",
    "\n",
    "Notes: As usual, create a notebook in your submissions folder named\n",
    "`FirstName_LastName_functions.ipynb`, and submit the pdf and notebook on\n",
    "Quercus\n",
    "\n"
   ]
  }
 ],
 "metadata": {
  "kernelspec": {
   "display_name": "Python 3",
   "language": "python",
   "name": "python3"
  },
  "language_info": {
   "codemirror_mode": {
    "name": "ipython",
    "version": 3
   },
   "file_extension": ".py",
   "mimetype": "text/x-python",
   "name": "python",
   "nbconvert_exporter": "python",
   "pygments_lexer": "ipython3",
   "version": "3.7.6"
  },
  "org": null
 },
 "nbformat": 4,
 "nbformat_minor": 1
}
