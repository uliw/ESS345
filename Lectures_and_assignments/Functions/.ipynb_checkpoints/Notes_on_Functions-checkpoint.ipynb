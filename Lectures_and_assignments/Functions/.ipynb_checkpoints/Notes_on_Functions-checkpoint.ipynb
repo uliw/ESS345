{
 "cells": [
  {
   "cell_type": "markdown",
   "metadata": {},
   "source": [
    "## Functions\n",
    "\n"
   ]
  },
  {
   "cell_type": "markdown",
   "metadata": {},
   "source": [
    "\n",
    "Another way to control program execution and to write better code, is\n",
    "to use functions.\n",
    "\n",
    "Functions have the following characteristics:\n",
    "\n",
    "-   They allow us to group code sequences and refer to this group by\n",
    "    name. This useful to declutter your code, and is particularly\n",
    "    useful if certain code sections have to be executed again and\n",
    "    again. In fact, most of the python statements we have used so far,\n",
    "    are simply functions (e.g., the print statement).\n",
    "-   functions allow to extend the capabilities of our program. We\n",
    "    could for example create a function called `bprint` which will\n",
    "    only print in bold.\n",
    "-   Code which is grouped inside of a function, does have access to\n",
    "    variables which are defined outside of a function. However, if you\n",
    "    declare a variable with the same name inside the function as well,\n",
    "    python will use the value inside the function, without changing\n",
    "    the value outside the function. \n",
    "    \n",
    "    This helps to isolate code sections\n",
    "    and prevents naming conflicts or accidental overwriting of a e.g.,\n",
    "    a counter.\n",
    "-   the **value(s)** of a variable(s) can be passed into a function as\n",
    "    arguments to the function call (see below)\n",
    "-   The result of a of the computations inside the function can be\n",
    "    returned to the calling code with the return statement.\n",
    "-   Functions must always be defined before you can use them. This is\n",
    "    best done at the beginning of the code\n",
    "\n"
   ]
  },
  {
   "cell_type": "markdown",
   "metadata": {},
   "source": [
    "### Examples\n",
    "\n"
   ]
  },
  {
   "cell_type": "markdown",
   "metadata": {},
   "source": [
    "The behavior of functions is easier explored than explained. Python has\n",
    "however some quirks. So we will first explore **how not to use a function!**\n",
    "In the following code `a` is only defined outside the function. So if were\n",
    "allowed to modify `a` in my function, the value of a could change any\n",
    "time. No big deal for the code above. But imagine that you are using code\n",
    "someone else has written, and you can't see their function definitions, and\n",
    "suddenly, your variables behave weirdly&#x2026;. Thankfully, python catches\n",
    "errors like this and will complain.\n",
    "\n"
   ]
  },
  {
   "cell_type": "code",
   "execution_count": 1,
   "metadata": {},
   "outputs": [],
   "source": [
    "# define function\n",
    "def my_function():\n",
    "    a = a + 2\n",
    "\n",
    "# now lets use the function in our own code\n",
    "a :int = 12\n",
    "my_function()\n",
    "print(a)"
   ]
  },
  {
   "cell_type": "markdown",
   "metadata": {},
   "source": [
    "Code which changes the value of a variable without making it explicit how\n",
    "that change is affected, is best avoided. In order to write this cleanly,\n",
    "we need to pass the value of a into the function block, and we then need to\n",
    "return the modified value of back to the calling program. So we add the\n",
    "name of the variable to the function call, and we also add a return\n",
    "statement. Then we modify the calling program in such a way that it will\n",
    "accept the return value from our function.\n",
    "\n"
   ]
  },
  {
   "cell_type": "code",
   "execution_count": 1,
   "metadata": {},
   "outputs": [],
   "source": [
    "# define function\n",
    "def my_function(a): # a is now a parameter to the function\n",
    "    a = a + 2\n",
    "    return a        # return a to the calling code\n",
    "\n",
    "# now lets use the function in our own code\n",
    "a :int = 12\n",
    "\n",
    "# pass the value of a to the function and\n",
    "a = my_function(a) # assign the return value back to a\n",
    "print(a)"
   ]
  },
  {
   "cell_type": "markdown",
   "metadata": {},
   "source": [
    "Note that you can assign the return value to any variable you like. It does\n",
    "not have to be a. Similarly, there is no need to that the variable name in\n",
    "the function definition equals the variable name in the calling function.\n",
    "\n"
   ]
  },
  {
   "cell_type": "code",
   "execution_count": 1,
   "metadata": {},
   "outputs": [],
   "source": [
    "# define function\n",
    "def my_function(a): # a is now a parameter to the function\n",
    "    a = a + 2\n",
    "    return a        # return a to the calling code\n",
    "\n",
    "# now lets use the function in our own code\n",
    "b :int = 2\n",
    "c = my_function(b) # assign the return value back to a\n",
    "print(c)"
   ]
  },
  {
   "cell_type": "markdown",
   "metadata": {},
   "source": [
    "Most importantly, whatever you do with `a` inside your function, will not\n",
    "affect the value of a similarly named variable outside the function.\n",
    "\n"
   ]
  },
  {
   "cell_type": "code",
   "execution_count": 1,
   "metadata": {},
   "outputs": [],
   "source": [
    "# define function\n",
    "def my_function(a): \n",
    "    a = a + 2\n",
    "    return a\n",
    "\n",
    "# now lets use the function in our own code\n",
    "a: int = 12\n",
    "b :int = 2\n",
    "c = my_function(b) # assign the return value back to a\n",
    "print(c)\n",
    "print(a)"
   ]
  },
  {
   "cell_type": "markdown",
   "metadata": {},
   "source": [
    "If you execute this block, you will note that the value of a outside the\n",
    "function has not changed at all. This is the true power of grouping code\n",
    "blocks with functions: It allows us to isolate code blocks from each\n",
    "other. So we can develop and test one function, and once it works, we can\n",
    "forget about it, and then move on to the next function.  The other big\n",
    "advantage is that it allows us to re-use code. We can, e.g., write a\n",
    "function which will calculate the potential of student to achieve an A in\n",
    "this class based on his attendance record. Once this function is working,\n",
    "we can apply to any number of students without the need to rewrite the\n",
    "code. So functions allow us to abstract data.\n",
    "\n"
   ]
  },
  {
   "cell_type": "markdown",
   "metadata": {},
   "source": [
    "#### Documenting a function\n",
    "\n"
   ]
  },
  {
   "cell_type": "markdown",
   "metadata": {},
   "source": [
    "Back to our immediate problems, however. Once you have a function, we also\n",
    "need to supply some information how to use it:\n",
    "\n",
    "1.  we need to provide information what kind of data the function\n",
    "    expects, and what kind of data it will return (i.e., single value,\n",
    "    list, integer/string/float or multiple values etc).\n",
    "2.  we need to provide information on what the function does.\n",
    "\n",
    "the first problem is elegantly solved with type hints. Consider the\n",
    "following code:\n",
    "\n"
   ]
  },
  {
   "cell_type": "code",
   "execution_count": 1,
   "metadata": {},
   "outputs": [],
   "source": [
    "def my_function(a:int)->int:\n",
    "    a = a + 2\n",
    "    return a\n",
    "\n",
    "b :int = 2\n",
    "c = my_function(b) # assign the return value back to a\n",
    "print(c)"
   ]
  },
  {
   "cell_type": "markdown",
   "metadata": {},
   "source": [
    "it is pretty obvious that the function expects a single integer value, and\n",
    "returns a single integer value.  It is a little more tricky if your\n",
    "function returns more than one value though (see below).\n",
    "\n",
    "We can use regular comments to document what is happening in our\n",
    "function. However, functions should use doc-strings instead\n",
    ", since those can be displayed by the\n",
    "help system:\n",
    "\n"
   ]
  },
  {
   "cell_type": "code",
   "execution_count": 1,
   "metadata": {},
   "outputs": [],
   "source": [
    "def my_function(a:int)->int:\n",
    "    \"\"\"\n",
    "\n",
    "    my_function(a) is a silly function which adds two to value of the function argument\n",
    "\n",
    "    Parameters: a = a single integer value\n",
    "    \n",
    "    use: my_function(12)\n",
    "\n",
    "    Returns: a single integer value, in the above example 14\n",
    "\n",
    "    \"\"\"\n",
    "    \n",
    "    a = a + 2\n",
    "    return a        \n",
    "\n",
    "help(my_function)"
   ]
  },
  {
   "cell_type": "markdown",
   "metadata": {},
   "source": [
    "Now, let's consider a more useful function which will compute arbitrary exponents of the form $a^b$\n",
    "\n"
   ]
  },
  {
   "cell_type": "code",
   "execution_count": 1,
   "metadata": {},
   "outputs": [],
   "source": [
    "def my_exponent(a:float,b:float)->float:\n",
    "    \"\"\"\n",
    "\n",
    "    my_exponent(a,b) will compute a^b\n",
    "\n",
    "    Parameters: a:float = base, b:float = exponent\n",
    "    \n",
    "    use: my_exponent(2,3)\n",
    "\n",
    "    Returns: a single float value, in the above example 8\n",
    "\n",
    "    \"\"\"\n",
    "    \n",
    "    c :float = a**b\n",
    "    return c        \n",
    "\n",
    "x :float = 2.4\n",
    "y :float = 3.2\n",
    "\n",
    "e :float = my_exponent(x,y)\n",
    "print(e)"
   ]
  },
  {
   "cell_type": "markdown",
   "metadata": {},
   "source": [
    "#### Functions can be nested\n",
    "\n"
   ]
  },
  {
   "cell_type": "markdown",
   "metadata": {},
   "source": [
    " \n",
    "The output of a function can be used as\n",
    "the input to another function.\n",
    "\n"
   ]
  },
  {
   "cell_type": "code",
   "execution_count": 1,
   "metadata": {},
   "outputs": [],
   "source": [
    "x :float = 2\n",
    "y :float = 3\n",
    "\n",
    "e :float = my_exponent(2,my_exponent(x,y))\n",
    "print(e)"
   ]
  },
  {
   "cell_type": "markdown",
   "metadata": {},
   "source": [
    "in fact, most python commands are simply functions, so we use the result of\n",
    "our function directly as input to the print function\n",
    "\n"
   ]
  },
  {
   "cell_type": "code",
   "execution_count": 1,
   "metadata": {},
   "outputs": [],
   "source": [
    "print(my_exponent(2,my_exponent(x,y)))"
   ]
  },
  {
   "cell_type": "markdown",
   "metadata": {},
   "source": [
    "#### Do's and do not's\n",
    "\n"
   ]
  },
  {
   "cell_type": "markdown",
   "metadata": {},
   "source": [
    "As with all things code, there better ways, and there a ways to shoot\n",
    "yourself into the foot. Here is a perfectly ok way to create a function\n",
    "which changes capitalizes a string:\n",
    "\n"
   ]
  },
  {
   "cell_type": "code",
   "execution_count": 1,
   "metadata": {},
   "outputs": [],
   "source": [
    "def my_cap(s:str):\n",
    "    \"\"\"\n",
    "    This function takes s:str and converts all characters to capitals\n",
    "    \"\"\"\n",
    "    print(s.upper())\n",
    "\n",
    "lc :str = \"This is important\"\n",
    "my_cap(lc)"
   ]
  },
  {
   "cell_type": "markdown",
   "metadata": {},
   "source": [
    "However, in almost all cases, a function should take one or more values,\n",
    "and return one or more new values. So a better way of doing this would be\n",
    "\n"
   ]
  },
  {
   "cell_type": "code",
   "execution_count": 1,
   "metadata": {},
   "outputs": [],
   "source": [
    "def my_cap(s:str)->str:\n",
    "    \"\"\"\n",
    "    This function takes s:str and converts all characters to capitals\n",
    "    \"\"\"\n",
    "    return s.upper()\n",
    "\n",
    "lc :str = \"This is important\"\n",
    "print(my_cap(lc))"
   ]
  },
  {
   "cell_type": "markdown",
   "metadata": {},
   "source": [
    "This solution is better because it separates the printing from the\n",
    "conversion, and thus keeps `my_cap` fairly universal. We can now e.g., write\n",
    "\n"
   ]
  },
  {
   "cell_type": "code",
   "execution_count": 1,
   "metadata": {},
   "outputs": [],
   "source": [
    "ld :str = \"--- this not so much\"\n",
    "print(my_cap(lc), ld)"
   ]
  },
  {
   "cell_type": "markdown",
   "metadata": {},
   "source": [
    "You could achieve this with the previous definition as well, but it would\n",
    "be more convoluted.\n",
    "\n"
   ]
  },
  {
   "cell_type": "markdown",
   "metadata": {},
   "source": [
    "#### Functions with multiple return values\n",
    "\n"
   ]
  },
  {
   "cell_type": "markdown",
   "metadata": {},
   "source": [
    "\n",
    "There is nothing special about functions which return more than one value.\n",
    "\n"
   ]
  },
  {
   "cell_type": "code",
   "execution_count": 1,
   "metadata": {},
   "outputs": [],
   "source": [
    "def foo (a):\n",
    "    x = a\n",
    "    y = a * 2\n",
    "    return (x,y)\n",
    "\n",
    "v = 2\n",
    "(k,l) = foo(v)\n",
    "print(f\"k = {k}, l = {l}\")"
   ]
  },
  {
   "cell_type": "markdown",
   "metadata": {},
   "source": [
    "so multiple values are simply returned as a tuple. So how do we add this\n",
    "information to our type hints? As of python 3.7, type hints are only\n",
    "partially implemented. For the above case, we have to first load an\n",
    "additional library which defines type hinting for complex datatype. We will\n",
    "learn how to work with libraries in a later module, for now simply include\n",
    "the import statement at the beginning of your code.\n",
    "\n"
   ]
  },
  {
   "cell_type": "code",
   "execution_count": 1,
   "metadata": {},
   "outputs": [],
   "source": [
    "from typing import Tuple # import support fot Tuple type hints\n",
    "\n",
    "# define funnction foo\n",
    "def foo (a:float)->Tuple[float,float]:\n",
    "    x = a\n",
    "    y = a * 2\n",
    "    return (x,y)\n",
    "\n",
    "# define all variable we are using\n",
    "v :float = 2\n",
    "k :float\n",
    "l :float\n",
    "\n",
    "# call function foo\n",
    "(k,l) = foo(v)\n",
    "\n",
    "# print resulty\n",
    "print(f\"k = {k}, l = {l}\")"
   ]
  },
  {
   "cell_type": "markdown",
   "metadata": {},
   "source": [
    "#### Recursive functions\n",
    "\n"
   ]
  },
  {
   "cell_type": "markdown",
   "metadata": {},
   "source": [
    " Functions can call itself. For\n",
    "certain problem-sets this can be a rather elegant way of coding. However,\n",
    "python is not well suited to recursive programming. The following examples\n",
    "is a bit construed, but demonstrates the principle.\n",
    "\n"
   ]
  },
  {
   "cell_type": "code",
   "execution_count": 1,
   "metadata": {},
   "outputs": [
    {
     "name": "stdout",
     "output_type": "stream",
     "text": [
      "3\n"
     ]
    }
   ],
   "source": [
    "from typing import Tuple # import support fot Tuple type hints\n",
    "\n",
    "def div2(n:float,c:int)->Tuple[float,int]:\n",
    "    \"\"\"\n",
    "\n",
    "    This function devides n by 2 and will do so until the result is smaller\n",
    "    than 1. In other words, it this function returns the number of times an\n",
    "    integer value can be devided by two.\n",
    "\n",
    "    \"\"\"\n",
    "    n = n / 2\n",
    "    \n",
    "    if n >= 1:\n",
    "        c = c + 1\n",
    "        (n,c) = div2(n,c)\n",
    "    \n",
    "    return (n,c)\n",
    "\n",
    "# start of main code\n",
    "x :float = 8\n",
    "i :int = 0\n",
    "\n",
    "(n,c) = div2(x,i)\n",
    "print(c)"
   ]
  }
 ],
 "metadata": {
  "kernelspec": {
   "display_name": "Python 3",
   "language": "python",
   "name": "python3"
  },
  "language_info": {
   "codemirror_mode": {
    "name": "ipython",
    "version": 3
   },
   "file_extension": ".py",
   "mimetype": "text/x-python",
   "name": "python",
   "nbconvert_exporter": "python",
   "pygments_lexer": "ipython3",
   "version": "3.7.3"
  },
  "org": null
 },
 "nbformat": 4,
 "nbformat_minor": 1
}
