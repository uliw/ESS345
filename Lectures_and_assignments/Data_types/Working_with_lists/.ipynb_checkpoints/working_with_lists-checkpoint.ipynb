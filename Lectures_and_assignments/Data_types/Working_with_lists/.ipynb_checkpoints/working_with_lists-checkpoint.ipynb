{
 "cells": [
  {
   "cell_type": "markdown",
   "metadata": {},
   "source": [
    "### Add list addition\n",
    "\n"
   ]
  },
  {
   "cell_type": "markdown",
   "metadata": {},
   "source": [
    "## Working with lists\n",
    "\n"
   ]
  },
  {
   "cell_type": "markdown",
   "metadata": {},
   "source": [
    "Slicing lists is all good fun, but to work with lists, we\n",
    "need meaningful ways to modify it. The following code is\n",
    "straightforward to understand\n",
    "\n"
   ]
  },
  {
   "cell_type": "code",
   "execution_count": 1,
   "metadata": {},
   "outputs": [],
   "source": [
    "my_list = [1, 2, 3]\n",
    "print(my_list)\n",
    "my_list[1] = 44\n",
    "print(my_list)"
   ]
  },
  {
   "cell_type": "markdown",
   "metadata": {},
   "source": [
    "I also assume that it is clear what I am trying to do in this example\n",
    "\n"
   ]
  },
  {
   "cell_type": "code",
   "execution_count": 1,
   "metadata": {},
   "outputs": [],
   "source": [
    "my_list = [1, 2, 3]\n",
    "my_second_list = my_list"
   ]
  },
  {
   "cell_type": "markdown",
   "metadata": {},
   "source": [
    "but explain the following:\n",
    "\n"
   ]
  },
  {
   "cell_type": "code",
   "execution_count": 1,
   "metadata": {},
   "outputs": [],
   "source": [
    "my_list = [1, 2, 3]\n",
    "my_second_list = my_list\n",
    "my_list[1] = 44\n",
    "print(my_second_list)"
   ]
  },
  {
   "cell_type": "markdown",
   "metadata": {},
   "source": [
    "To understand this result, we need to make a detour into what\n",
    "lists actually are, and how python handles them.\n",
    "\n"
   ]
  },
  {
   "cell_type": "markdown",
   "metadata": {},
   "source": [
    "### A quick detour into the world of object-oriented programming (OOP)\n",
    "\n"
   ]
  },
  {
   "cell_type": "markdown",
   "metadata": {},
   "source": [
    "There are several ideas how to best represent a real world problem in\n",
    "terms of a program. The two most prominent approaches are functional\n",
    "programming, and object oriented programming.\n",
    "\n",
    "In a functional program, we have self contained program code which\n",
    "expects input data, then does it's thing, and returns output data. The\n",
    "python function `len()` is a good example. In the following, I pass\n",
    "the list `my_list` as an argument to the function=len()= which then\n",
    "determines the length of the list `my_list`, and returns the length of `my_list` as a\n",
    "numeric value which we can store in `l`\n",
    "\n"
   ]
  },
  {
   "cell_type": "code",
   "execution_count": 1,
   "metadata": {},
   "outputs": [],
   "source": [
    "my_list = [6,2,1]\n",
    "l = len(my_list)\n",
    "print(l)"
   ]
  },
  {
   "cell_type": "markdown",
   "metadata": {},
   "source": [
    "This approach is very straight forward and clean (and what we will be\n",
    "using for this course)\n",
    "\n",
    "The other programming paradigm, is called object oriented\n",
    "programming. In this case a set of self contained code, not only\n",
    "contains instructions of how to modify data, but it also contains the\n",
    "data.  .  While python\n",
    "allows for both programming styles, the actual python language itself\n",
    "is written object oriented code. So far, we considered `my_list` just\n",
    "a special type of variable. It is however much more. `my_list` is in\n",
    "fact list-object, which contains the list-data, but also knows several\n",
    "methods to manipulate this data.\n",
    "\n",
    "So, if you want to sort the data using the functional approach, we could write\n",
    "\n"
   ]
  },
  {
   "cell_type": "code",
   "execution_count": 1,
   "metadata": {},
   "outputs": [],
   "source": [
    "my_sorted_list = sorted(my_list)\n",
    "print(my_sorted_list)"
   ]
  },
  {
   "cell_type": "markdown",
   "metadata": {},
   "source": [
    "Again, we pass `my_list` as argument to the `sort()` function, which\n",
    "will return the a sorted list which we then can store in\n",
    "`my_sorted_list`\n",
    "\n",
    "Now let's do this the object oriented way.\n",
    "\n"
   ]
  },
  {
   "cell_type": "code",
   "execution_count": 1,
   "metadata": {},
   "outputs": [],
   "source": [
    "my_list.sort()\n",
    "print(my_list)"
   ]
  },
  {
   "cell_type": "markdown",
   "metadata": {},
   "source": [
    "Here, we call the `sort()` method of the list-object, which will then\n",
    "sort the list. Nice and compact, but now, we have modified the actual\n",
    "list, whereas in the functional example, the original data was left\n",
    "untouched.\n",
    "\n",
    "We can explore what methods \n",
    "  are known to a\n",
    " given object.  Try the following:\n",
    "\n"
   ]
  },
  {
   "cell_type": "code",
   "execution_count": 1,
   "metadata": {},
   "outputs": [],
   "source": [
    "dir(my_list)"
   ]
  },
  {
   "cell_type": "markdown",
   "metadata": {},
   "source": [
    "This will print a lengthy list of methods available with this\n",
    "object. All the methods which start with a double underscore are meant\n",
    "for internal use only (so-called \"dunders\"), , so we\n",
    "will not worry about them in this course. In our examples above, when\n",
    "you call the list without anything, the `__str__` method is executed\n",
    "and prints a string with the list data. And that is all you need to\n",
    "know about double underscore methods (dunders).\n",
    "\n",
    "How do we use these methods? Try this\n",
    "\n"
   ]
  },
  {
   "cell_type": "code",
   "execution_count": 1,
   "metadata": {},
   "outputs": [],
   "source": [
    "my_list  # this will activate the __str__ method"
   ]
  },
  {
   "cell_type": "code",
   "execution_count": 1,
   "metadata": {},
   "outputs": [],
   "source": [
    "## but we can also use it explicitly\n",
    "my_list.__str__()"
   ]
  },
  {
   "cell_type": "markdown",
   "metadata": {},
   "source": [
    "The results of both expressions are identical. Note, however, the use\n",
    "of the brackets. Without this, the second example will fail (methods\n",
    "like functions, always require brackets!)\n",
    "\n",
    "More interesting (to us), are the methods which are meant to be used\n",
    "by a user of this object (i.e., without underscores). If you check\n",
    "the above, you will find a method called reverse. So let's try this. You\n",
    "already noticed that we can call an object method by appending the\n",
    "method name to the object. Also, for the sake of readability, I prefer\n",
    "to explicitly call the print function as this makes it evident of what\n",
    "you are trying todo. \n",
    "\n"
   ]
  },
  {
   "cell_type": "code",
   "execution_count": 1,
   "metadata": {},
   "outputs": [],
   "source": [
    "print(my_list)\n",
    "my_list.reverse()\n",
    "print(my_list)"
   ]
  },
  {
   "cell_type": "markdown",
   "metadata": {},
   "source": [
    "Notice that the reverse method does not return the list values in\n",
    "reversed order, rather, it reverses the list in place! \n",
    "\n"
   ]
  },
  {
   "cell_type": "code",
   "execution_count": 1,
   "metadata": {},
   "outputs": [],
   "source": [
    "print(my_list)\n",
    "my_list.sort()\n",
    "print(my_list)"
   ]
  },
  {
   "cell_type": "markdown",
   "metadata": {},
   "source": [
    "Since you may lose the original list,  sorting a list in place may, or\n",
    "may not  be what you want!  See the above  example on how to  return a\n",
    "sorted copy.\n",
    "\n",
    "**Take me home:**\n",
    "\n",
    "-   python objects consist of data and methods to manipulate the data\n",
    "-   methods with a double underscore are not meant for external use\n",
    "-   object methods are called by appending the method name with a dot\n",
    "    to the object name (i.e., `my_list.sort()`).\n",
    "-   Most object methods do not generate return values, rather they\n",
    "    modify data in place.\n",
    "-   functions are called by typing the function name and providing the\n",
    "    argument to the function in brackets (i.e., `sorted(my_list)`)\n",
    "-   most functions return a modified copy of the data which then needs\n",
    "    to be stored in a new variable.\n",
    "\n"
   ]
  },
  {
   "cell_type": "markdown",
   "metadata": {},
   "source": [
    "#### How to find out what those methods do\n",
    "\n"
   ]
  },
  {
   "cell_type": "markdown",
   "metadata": {},
   "source": [
    " \n",
    "But how do I know what all of these methods do? Thankfully, there is a\n",
    "simple help system available: Let's try this with the sort method\n",
    "\n"
   ]
  },
  {
   "cell_type": "code",
   "execution_count": 1,
   "metadata": {},
   "outputs": [],
   "source": [
    "help(my_list.sort)"
   ]
  },
  {
   "cell_type": "markdown",
   "metadata": {},
   "source": [
    "Some gibberish here, but the key info is `Stable sort *IN PLACE*.`\n",
    "which tells you that it will modify the actual list in place, and not\n",
    "return a sorted copy. Contrast this with the output of\n",
    "\n"
   ]
  },
  {
   "cell_type": "code",
   "execution_count": 1,
   "metadata": {},
   "outputs": [],
   "source": [
    "help(sorted)"
   ]
  },
  {
   "cell_type": "markdown",
   "metadata": {},
   "source": [
    "which tells you that this function expects some sort of list (i.e.,\n",
    "iterable), and will return a new list which is sorted.  If you are\n",
    "still lost, use Google, and search for `python list sort`, which\n",
    "likely directs you to `programiz` where you will find a clear\n",
    "explanation and examples! And if this does not help, pipe up and get\n",
    "in touch with your TA or instructor!\n",
    "\n"
   ]
  },
  {
   "cell_type": "markdown",
   "metadata": {},
   "source": [
    "### Referencing objects\n",
    "\n"
   ]
  },
  {
   "cell_type": "markdown",
   "metadata": {},
   "source": [
    " So most things python, are actually\n",
    "objects which we can reference by name. The name in turn, is simply a\n",
    "reference to a memory location where this object is stored. Thus,\n",
    "`my_list` is merely an object handle, not the actual variable.  This\n",
    "is why the following code does not produce the expected results:\n",
    "\n"
   ]
  },
  {
   "cell_type": "code",
   "execution_count": 1,
   "metadata": {},
   "outputs": [],
   "source": [
    "my_list = [1, 2, 3]       # create list object\n",
    "my_second_list = my_list  # copy object handle\n",
    "my_list[1] = 44           # use the copied object handle to modify a list element\n",
    "print(my_second_list)"
   ]
  },
  {
   "cell_type": "markdown",
   "metadata": {},
   "source": [
    "\n",
    "So the second line does not produce a copy of the data in `my_list`,\n",
    "rather, it copies the reference (i.e., the memory location of the list\n",
    "object) to `my_list`. Let's verify this by querying python for the address of `my_list` and `my_second_list`\n",
    "\n"
   ]
  },
  {
   "cell_type": "code",
   "execution_count": 1,
   "metadata": {},
   "outputs": [],
   "source": [
    "print(id(my_list))\n",
    "print(id(my_second_list))"
   ]
  },
  {
   "cell_type": "markdown",
   "metadata": {},
   "source": [
    "as you can see, they are identical. So if we modify the content of\n",
    "`my_second_list`, and then ask python to print the data at the memory\n",
    "location `my_list` points to, we obviously get the very same data as\n",
    "in `my_second_list`. Confused? You are in good company!\n",
    "\n",
    "Python provides several methods around this problem, and as long as\n",
    "you deal with simple lists that do not contain other lists, we can use\n",
    "the `copy` method of the list object. This kind of copy is known as\n",
    "shallow copy  function, but deep copies involve some\n",
    "interesting problems which are beyond the scope of this course.\n",
    "\n"
   ]
  },
  {
   "cell_type": "code",
   "execution_count": 1,
   "metadata": {},
   "outputs": [],
   "source": [
    "my_list = [1, 2, 3]\n",
    "my_second_list = my_list.copy()\n",
    "my_list[1] = 44\n",
    "print(my_list)\n",
    "print(my_second_list)"
   ]
  },
  {
   "cell_type": "markdown",
   "metadata": {},
   "source": [
    "#### Take me home\n",
    "\n"
   ]
  },
  {
   "cell_type": "markdown",
   "metadata": {},
   "source": [
    "-   most things python are objects\n",
    "    -   objects are programming constructs which contain data and methods\n",
    "        to manipulate the data.\n",
    "    -   you can query the object methods via `dir(object_name)`\n",
    "    -   you can call object methods via `object_name.method_name()`\n",
    "    -   object names are really just a handle to their memory location\n",
    "    -   copying the object handle, does not copy the data!\n",
    "    -   functions expect data as argument, and will return a copy of the\n",
    "        processes data (aka result)\n",
    "\n"
   ]
  },
  {
   "cell_type": "markdown",
   "metadata": {},
   "source": [
    "### Manipulating lists\n",
    "\n"
   ]
  },
  {
   "cell_type": "markdown",
   "metadata": {},
   "source": [
    " Back to our main\n",
    "task. You have a list, and you want to append a value  \n",
    "\n"
   ]
  },
  {
   "cell_type": "code",
   "execution_count": 1,
   "metadata": {},
   "outputs": [],
   "source": [
    "my_list = [ 4, 2, 3]\n",
    "my_list.append(1)\n",
    "print(my_list)"
   ]
  },
  {
   "cell_type": "markdown",
   "metadata": {},
   "source": [
    "lets, insert a new number at index position 2   \n",
    "\n"
   ]
  },
  {
   "cell_type": "code",
   "execution_count": 1,
   "metadata": {},
   "outputs": [],
   "source": [
    "my_list.insert(1,44)\n",
    "print(my_list)"
   ]
  },
  {
   "cell_type": "markdown",
   "metadata": {},
   "source": [
    "lets remove the last item on the list  \n",
    "\n"
   ]
  },
  {
   "cell_type": "code",
   "execution_count": 1,
   "metadata": {},
   "outputs": [],
   "source": [
    "my_list.pop()\n",
    "print(my_list)"
   ]
  },
  {
   "cell_type": "markdown",
   "metadata": {},
   "source": [
    "we can also be specific and remove the item at a given index\n",
    "\n"
   ]
  },
  {
   "cell_type": "code",
   "execution_count": 1,
   "metadata": {},
   "outputs": [],
   "source": [
    "my_list = [6,3,4,6,9]\n",
    "my_list.pop(1)\n",
    "print(my_list)"
   ]
  },
  {
   "cell_type": "markdown",
   "metadata": {},
   "source": [
    "we can remove a value. Unlike `.pop()` this will remove the first\n",
    "occurrence of the number 6.\n",
    "\n"
   ]
  },
  {
   "cell_type": "code",
   "execution_count": 1,
   "metadata": {},
   "outputs": [],
   "source": [
    "print(my_list)\n",
    "my_list.remove(6)\n",
    "print(my_list)"
   ]
  },
  {
   "cell_type": "markdown",
   "metadata": {},
   "source": [
    "rather than adding a single value, we can add list of values\n",
    "\n"
   ]
  },
  {
   "cell_type": "code",
   "execution_count": 1,
   "metadata": {},
   "outputs": [],
   "source": [
    "my_list = [6,3,4,6,9]\n",
    "my_list.extend([1,2,3])\n",
    "print(my_list)"
   ]
  },
  {
   "cell_type": "markdown",
   "metadata": {},
   "source": [
    "a variation of the above is when we have two lists which we can add together in the following way:\n",
    "\n"
   ]
  },
  {
   "cell_type": "code",
   "execution_count": 1,
   "metadata": {},
   "outputs": [],
   "source": [
    "second_list = [12, 16, 3, 0]\n",
    "new_list = my_list + second_list\n",
    "print(new_list)"
   ]
  },
  {
   "cell_type": "markdown",
   "metadata": {},
   "source": [
    "Will the above also work for subtracting two list from each other?\n",
    "\n",
    "We can find out at which index position we will find a given\n",
    "value. For this you can use the `index()` method which will return the\n",
    "first occurrence of a given value. Note, it will **only return the\n",
    "first match!** We will explore how to find all matches in a later\n",
    "chapter.\n",
    "\n"
   ]
  },
  {
   "cell_type": "code",
   "execution_count": 1,
   "metadata": {},
   "outputs": [],
   "source": [
    "print(my_list)\n",
    "my_list.index(3)"
   ]
  },
  {
   "cell_type": "markdown",
   "metadata": {},
   "source": [
    "we can count how many times a value occurs in the list\n",
    "\n"
   ]
  },
  {
   "cell_type": "code",
   "execution_count": 1,
   "metadata": {},
   "outputs": [],
   "source": [
    "print(my_list)\n",
    "my_list.count(6)"
   ]
  },
  {
   "cell_type": "markdown",
   "metadata": {},
   "source": [
    "and we can remove a value. **Note, that this will only remove the first\n",
    "occurrence!**\n",
    "\n"
   ]
  },
  {
   "cell_type": "code",
   "execution_count": 1,
   "metadata": {},
   "outputs": [],
   "source": [
    "print(my_list)\n",
    "my_list.remove(6)\n",
    "print(my_list)"
   ]
  },
  {
   "cell_type": "markdown",
   "metadata": {},
   "source": [
    "and reverse a list (which is different than sorting!)  \n",
    "\n"
   ]
  },
  {
   "cell_type": "code",
   "execution_count": 1,
   "metadata": {},
   "outputs": [],
   "source": [
    "print(my_list)\n",
    "my_list.reverse()\n",
    "print(my_list)"
   ]
  },
  {
   "cell_type": "markdown",
   "metadata": {},
   "source": [
    "sometimes it come in handy to know how many elements are in a\n",
    "list. For this we can use the python function `len()`. Note how this\n",
    "is a function, and not a list method. I.e., we call it by passing the\n",
    "list as an argument to the function, rather then calling the list\n",
    "method (i.e., `my_list.len()`)\n",
    "\n"
   ]
  },
  {
   "cell_type": "code",
   "execution_count": 1,
   "metadata": {},
   "outputs": [],
   "source": [
    "len(my_list)"
   ]
  },
  {
   "cell_type": "markdown",
   "metadata": {},
   "source": [
    "and for good measure, we can delete all list items\n",
    "\n"
   ]
  },
  {
   "cell_type": "code",
   "execution_count": 1,
   "metadata": {},
   "outputs": [],
   "source": [
    "print(my_list)\n",
    "my_list.clear()\n",
    "print(my_list)"
   ]
  },
  {
   "cell_type": "markdown",
   "metadata": {},
   "source": [
    "the\n",
    "the following\n",
    "\n"
   ]
  },
  {
   "cell_type": "markdown",
   "metadata": {},
   "source": [
    "### Take me home\n",
    "\n"
   ]
  },
  {
   "cell_type": "markdown",
   "metadata": {},
   "source": [
    "-   There are numerous ways to manipulate lists:\n",
    "    -   You can join lists\n",
    "    -   You can add elements to a list at arbitrary positions\n",
    "    -   You can remove elements from a list\n",
    "    -   You can find out where elements are located in a list\n",
    "    -   You can count the nu\n",
    "    -   You have practiced using methods which belong to the list\n",
    "        objects (e.g., `pop()`, `index()` etc.)\n",
    "    -   Many of the above methods\n",
    "\n"
   ]
  }
 ],
 "metadata": {
  "kernelspec": {
   "display_name": "Python 3",
   "language": "python",
   "name": "python3"
  },
  "language_info": {
   "codemirror_mode": {
    "name": "ipython",
    "version": 3
   },
   "file_extension": ".py",
   "mimetype": "text/x-python",
   "name": "python",
   "nbconvert_exporter": "python",
   "pygments_lexer": "ipython3",
   "version": "3.7.6"
  },
  "org": null
 },
 "nbformat": 4,
 "nbformat_minor": 1
}
