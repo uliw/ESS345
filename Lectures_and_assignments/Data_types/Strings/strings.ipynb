{
 "cells": [
  {
   "cell_type": "markdown",
   "metadata": {},
   "source": [
    "## Strings\n",
    "\n"
   ]
  },
  {
   "cell_type": "markdown",
   "metadata": {},
   "source": [
    "\n",
    " Previously, we explored how\n",
    "numbers are stored in memory. This was achieved by changing a number\n",
    "from its representation in the decimal system to the binary system.\n",
    "\n",
    "There is no simple way to do the same for letters\n",
    " and symbols\n",
    ". However, nothing prevents us from mapping\n",
    "letters to numbers and then storing the number. The only extra step\n",
    "required is to tell the program that this number is meant to be a\n",
    "letter. Python will then use a lookup table to figure out which letter\n",
    "to print as output. Obviously, this will only work if everyone agrees\n",
    "to use the same lookup-table&#x2026;\n",
    "\n",
    "We can use the `chr()` function to show the character associated with\n",
    "a given number   \\index{number to\n",
    "ASCII}\n",
    "\n"
   ]
  },
  {
   "cell_type": "code",
   "execution_count": 1,
   "metadata": {},
   "outputs": [
    {
     "name": "stdout",
     "output_type": "stream",
     "text": [
      "# Out [1]: \n",
      "# output\n",
      "A"
     ]
    }
   ],
   "source": [
    "print(chr(65))"
   ]
  },
  {
   "cell_type": "markdown",
   "metadata": {},
   "source": [
    "But how do we tell python that a given value should be interpreted as\n",
    "a character? Using `chr()` each time we would like to see a character\n",
    "would be pretty tedious.\n",
    "\n",
    "In our last module, we discovered that each variable is assigned a\n",
    "type (int, float, etc.). These assignments are done when you assign a\n",
    "value to the variable. E.g., if you type `a=12` python will assign an\n",
    "integer-type. If you type `a=12.1` python will assign an float-type.\n",
    "\n",
    "However, we can't simply write `a=b` to assign the letter `b` to the\n",
    "variable a, because b could also be the name of a variable. Most\n",
    "programming languages thus use quotation marks to indicate that you\n",
    "are assigning a character to a variable. Consider the following\n",
    "\n"
   ]
  },
  {
   "cell_type": "code",
   "execution_count": 1,
   "metadata": {},
   "outputs": [
    {
     "name": "stdout",
     "output_type": "stream",
     "text": [
      "# Out [2]: \n",
      "# output\n",
      "12\n",
      "12\n",
      "b\n",
      "a"
     ]
    }
   ],
   "source": [
    "b = 12     # the value of the variable b is 12\n",
    "print(b)\n",
    "a = b      # the value of the variable a is 12\n",
    "print(a)\n",
    "a = \"b\"    # the value of the variable a is the letter b\n",
    "print(a)\n",
    "print(\"a\") # print the character \"a\""
   ]
  },
  {
   "cell_type": "markdown",
   "metadata": {},
   "source": [
    "you can use either single quotation marks or double ones\n",
    "\n"
   ]
  },
  {
   "cell_type": "code",
   "execution_count": 1,
   "metadata": {},
   "outputs": [
    {
     "name": "stdout",
     "output_type": "stream",
     "text": [
      "# Out [3]: \n",
      "# output\n",
      "b\n",
      "b"
     ]
    }
   ],
   "source": [
    "a = 'b'  # OK\n",
    "print(a)\n",
    "a = \"b\"  # OK\n",
    "print(a)"
   ]
  },
  {
   "cell_type": "markdown",
   "metadata": {},
   "source": [
    "but this will not work\n",
    "\n"
   ]
  },
  {
   "cell_type": "code",
   "execution_count": 1,
   "metadata": {},
   "outputs": [
    {
     "name": "stdout",
     "output_type": "stream",
     "text": [
      "# Out [4]: \n",
      "# output\n",
      "  File \"<ipython-input-4-f49d06fb6a41>\", line 1\n",
      "    a = \"a'\n",
      "           ^\n",
      "SyntaxError: EOL while scanning string literal"
     ]
    }
   ],
   "source": [
    "a = \"a'"
   ]
  },
  {
   "cell_type": "markdown",
   "metadata": {},
   "source": [
    "Lastly, We can use the `ord()` function to show which number belongs\n",
    "to a given letter   \\index{ASCII to\n",
    "number}\n",
    "\n"
   ]
  },
  {
   "cell_type": "code",
   "execution_count": 1,
   "metadata": {},
   "outputs": [
    {
     "name": "stdout",
     "output_type": "stream",
     "text": [
      "# Out [5]: \n",
      "# output\n",
      "97"
     ]
    }
   ],
   "source": [
    "print(ord(\"a\"))"
   ]
  },
  {
   "cell_type": "markdown",
   "metadata": {},
   "source": [
    "### The ASCII table\n",
    "\n"
   ]
  },
  {
   "cell_type": "markdown",
   "metadata": {},
   "source": [
    " ASCII stands for \"American Standard Code for\n",
    "Information Interchange\" and defines a way to map characters to\n",
    "numbers (see the below table for a short excerpt).\n",
    "\n",
    "| Dec|Hex|Char|Description|\n",
    "| 65|41|A|Capital A|\n",
    "| 66|42|B|Capital B|\n",
    "| 67|43|C|Capital C|\n",
    "| 68|44|D|Capital D|\n",
    "| 69|45|E|Capital E|\n",
    "| 70|46|F|Capital F|\n",
    "| 71|47|G|Capital G|\n",
    "| 72|48|H|Capital H|\n",
    "| 73|49|I|Capital I|\n",
    "\n",
    "The full table is available at [https://en.wikipedia.org/wiki/ASCII](https://en.wikipedia.org/wiki/ASCII) The\n",
    "ASCII standard is the oldest and most widely accepted way to map\n",
    "characters to numbers. However, due to its age and country of origin,\n",
    "it comes with considerable limitations. It was originally designed to\n",
    "store text characters with a bit-width of 1 byte. I.e., with numbers\n",
    "between 0 and 255. This implies that there are not enough mappings to\n",
    "considers special characters, like umlauts, let alone other alphabets.\n",
    "\n",
    "  It is only recently that a globally accepted mapping\n",
    "between numbers and text has become available\n",
    "([https://en.wikipedia.org/wiki/Unicode](https://en.wikipedia.org/wiki/Unicode)), but even there, different\n",
    "variants exists, and not every operating system supports them in the\n",
    "same way. This is one of the reasons why we will only use letters\n",
    "which are defined in the original ASCII-table.\n",
    "\n"
   ]
  },
  {
   "cell_type": "markdown",
   "metadata": {},
   "source": [
    "### Strings\n",
    "\n"
   ]
  },
  {
   "cell_type": "markdown",
   "metadata": {},
   "source": [
    " Working with\n",
    "single letters is not convenient. Thus, every computer languages knows\n",
    "about sequences of letters, which are called strings. We can think of\n",
    "strings simply as a special type of list. It should, therefore, be no\n",
    "problem for you to print, e.g., the 3<sup>rd</sup> letter of this string.\n",
    "\n"
   ]
  },
  {
   "cell_type": "code",
   "execution_count": 1,
   "metadata": {},
   "outputs": [
    {
     "name": "stdout",
     "output_type": "stream",
     "text": [
      "# Out [6]: \n",
      "# output\n",
      "This is an example of a string"
     ]
    }
   ],
   "source": [
    "a = \"This is an example of a string\"\n",
    "print(a)\n",
    "# now print the 3rd letter of this string"
   ]
  },
  {
   "cell_type": "markdown",
   "metadata": {},
   "source": [
    "Unlike lists, you cannot modify elements of a string (i.e., they are immutable):\n",
    "\n"
   ]
  },
  {
   "cell_type": "code",
   "execution_count": 1,
   "metadata": {},
   "outputs": [
    {
     "name": "stdout",
     "output_type": "stream",
     "text": [
      "#+begin_example\n",
      "# Out [1]: \n",
      "# output\n",
      "\n",
      "TypeErrorTraceback (most recent call last)\n",
      "<ipython-input-1-b0243790d60c> in <module>\n",
      "      1 a = \"Joe\"\n",
      "      2 a = \"Jessie\" # this is ok\n",
      "----> 3 a[2] = \"x\"   # this is not\n",
      "\n",
      "TypeError: 'str' object does not support item assignment\n",
      "#+end_example"
     ]
    }
   ],
   "source": [
    "a = \"Joe\"\n",
    "a = \"Jessie\" # this is ok\n",
    "a[2] = \"x\"   # this is not"
   ]
  },
  {
   "cell_type": "markdown",
   "metadata": {},
   "source": [
    "Similarly to lists, you can work with ranges, and you can query a\n",
    "string object to see which methods it provides.\n",
    "\n"
   ]
  }
 ],
 "metadata": {
  "kernelspec": {
   "display_name": "Python 3",
   "language": "python",
   "name": "python3"
  },
  "language_info": {
   "codemirror_mode": {
    "name": "ipython",
    "version": 3
   },
   "file_extension": ".py",
   "mimetype": "text/x-python",
   "name": "python",
   "nbconvert_exporter": "python",
   "pygments_lexer": "ipython3",
   "version": "3.7.9"
  },
  "org": null
 },
 "nbformat": 4,
 "nbformat_minor": 1
}
