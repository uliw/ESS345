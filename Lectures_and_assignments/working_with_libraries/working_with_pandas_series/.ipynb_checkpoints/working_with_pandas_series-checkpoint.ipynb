{
 "cells": [
  {
   "cell_type": "markdown",
   "metadata": {},
   "source": [
    "## Working with pandas series data object\n",
    "\n"
   ]
  },
  {
   "cell_type": "markdown",
   "metadata": {},
   "source": [
    "The pandas dataframe is composed of smaller units, the so called\n",
    "pandas series. You already used this data type implicitly in our last\n",
    "module, but here we will explore it more fully. Lets create a\n",
    "data-frame first. Since I am lazy, use a function from the numpy\n",
    "library to generate an array of random distributed integer values\n",
    "between 0 and 10, and yes, I simply googled \"pandas generate list of\n",
    "random integers\"\n",
    "\n"
   ]
  },
  {
   "cell_type": "code",
   "execution_count": 1,
   "metadata": {},
   "outputs": [],
   "source": [
    "from typing import TypeVar\n",
    "import pandas as pd\n",
    "import numpy as np\n",
    "\n",
    "pdf = TypeVar('pandas.core.frame.DataFrame')\n",
    "pds = TypeVar('pandas.core.series.Series')\n",
    "\n",
    "df :pdf = pd.DataFrame(np.random.randint(0,10,size=(4, 4)),\n",
    "                       columns=list('ABCD'))\n",
    "print(df)"
   ]
  },
  {
   "cell_type": "markdown",
   "metadata": {},
   "source": [
    "Now lets extract the data from column A, and execute the following\n",
    "\n"
   ]
  },
  {
   "cell_type": "code",
   "execution_count": 1,
   "metadata": {},
   "outputs": [],
   "source": [
    "A = df['A']\n",
    "print(A * 2)"
   ]
  },
  {
   "cell_type": "markdown",
   "metadata": {},
   "source": [
    "You probably remember that this was not possible with a list because\n",
    "lists can contain numbers, letters, other lists, tuples etc. A pandas\n",
    "series on the other hand, must only have one data-type per column. I\n",
    "other words, a column can contain either letter, or numbers, but you\n",
    "can't mix both within the same column. Since A consists of only of\n",
    "numbers, python can directly multiply each element with 2. What\n",
    "happens if you multiply A\\*B is the multiplication element by element?\n",
    "What happens if you write `A**B`? Hurray! no more loops! (kinda)\n",
    "\n",
    "In a way python treats a pandas series object like a vector, not\n",
    "unlike matlab. The numpy library even provides a vector datatype which\n",
    "behaves similar to matlab. There is some cool stuff we can do with\n",
    "this. We can e.g., apply a comparison operator on a pandas series\n",
    "\n"
   ]
  },
  {
   "cell_type": "code",
   "execution_count": 1,
   "metadata": {},
   "outputs": [],
   "source": [
    "print(A>2)"
   ]
  },
  {
   "cell_type": "markdown",
   "metadata": {},
   "source": [
    "Now why would this be useful? Remember that `False` equals zero,\n",
    "whereas `True` euqals 1. So if we want to count the number of values\n",
    "in A which are larger then 2, we can simply write\n",
    "\n"
   ]
  },
  {
   "cell_type": "code",
   "execution_count": 1,
   "metadata": {},
   "outputs": [],
   "source": [
    "n :int = sum(A>2)\n",
    "print (n)\n",
    "# or even shorter\n",
    "print(sum(A>2))"
   ]
  },
  {
   "cell_type": "markdown",
   "metadata": {},
   "source": [
    "## Assignment\n",
    "\n"
   ]
  },
  {
   "cell_type": "markdown",
   "metadata": {},
   "source": [
    "In the following exercises, we will practice some of the\n",
    "above. However, some tasks have not been explained. I recommend to\n",
    "refer to\n",
    "[https://pandas.pydata.org/pandas-docs/stable/user\\_guide/indexing.html](https://pandas.pydata.org/pandas-docs/stable/user_guide/indexing.html)\n",
    "or\n",
    "[https://pandas.pydata.org/pandas-docs/stable/getting\\_started/basics.html#basics](https://pandas.pydata.org/pandas-docs/stable/getting_started/basics.html#basics)\n",
    "or [https://www.tutorialspoint.com/python\\_pandas/python\\_pandas\\_dataframe.htm](https://www.tutorialspoint.com/python_pandas/python_pandas_dataframe.htm)\n",
    "\n",
    "Notes: \n",
    "\n",
    "-   Create a notebook ino your submissions folder with this name:\n",
    "    \"pandas-1-FirstName-LastName\". In order to submit your\n",
    "    assignment, you need to download it and submit it on Quercus\n",
    "    (ipynb and pdf format).  Please have the usual header with date, name etc.\n",
    "\n",
    "-   All questions should be solved with pandas methods. You may have\n",
    "    to look up syntax or options either through the help system, or\n",
    "    by using the above links.\n",
    "\n",
    "-   Marking Scheme (per question):\n",
    "    -   All variables declared and type hinting used throughout 1pt. No partial marks\n",
    "    -   Code produces correct output 2pt. 1pt if code is sort of correct\n",
    "    -   Proper use of comments 1pt. There is no need for doc-strings\n",
    "        though\n",
    "    -   Code is self contained 1pt.\n",
    "    -   Max points per question: 5pts for a total of 14\\*5 = 70 pts\n",
    "\n"
   ]
  },
  {
   "cell_type": "markdown",
   "metadata": {},
   "source": [
    "### Exercises:\n",
    "\n"
   ]
  },
  {
   "cell_type": "markdown",
   "metadata": {},
   "source": [
    "For each answer, please write self contained code, that is, it imports\n",
    "all libraries, declares all variables, imports all data etc., rather\n",
    "then writing code which relies on data imported in a previous\n",
    "cell. Cut copy paste is your friend here.\n",
    "\n",
    "1.  Using the above methods to find a way to set all values in A which\n",
    "    are smaller than say 4 to 0. Write the result into a new variable\n",
    "    `X`, rather then replacing the values in A. Note, do not use\n",
    "    builtin methods like replace for this operation, nor use a\n",
    "    loop. Rather use a comparison operator.\n",
    "\n"
   ]
  },
  {
   "cell_type": "code",
   "execution_count": 1,
   "metadata": {},
   "outputs": [],
   "source": [
    "n = A < 6\n",
    "X = A * n\n",
    "print(X.mean)"
   ]
  },
  {
   "cell_type": "markdown",
   "metadata": {},
   "source": [
    "2.  Write a short function and code snippet which calculates the\n",
    "    mean of a pandas series containing numbers. Do not use the builtin\n",
    "    functions or the pandas method for mean. Rather use your own code\n",
    "    to compute the mean as\n",
    "    \n",
    "    \\begin{equation}\n",
    "    \\mu = \\frac{\\sum\\limits_{i=0}^{i=N} X_i}{N}\n",
    "    \\end{equation}\n",
    "    \n",
    "    where N is equal to the number of elements in the series, and\n",
    "    `X_i` denotes the individual elements (i.e. `X[i]`). Use this\n",
    "    template, and add the missing code statements to make this a self\n",
    "    contained example.\n",
    "\n"
   ]
  },
  {
   "cell_type": "code",
   "execution_count": 1,
   "metadata": {},
   "outputs": [],
   "source": [
    "pds = TypeVar('pandas.core.series.Series')\n",
    "\n",
    "def my_mean(X :pds)->float:\n",
    "    \"\"\"\n",
    "    Arguments: S, a pandas series\n",
    "    \"\"\"\n",
    "    mu :float = 0 # this is the mean value of the pandas series S\n",
    "\n",
    "    \n",
    "    return mu\n",
    "\n",
    "print(A)\n",
    "print(f\"The mean value of A using my_mean = {my_mean(A)}\")\n",
    "print(f\"The mean value of A using A.mean() = {A.mean()}\")"
   ]
  },
  {
   "cell_type": "markdown",
   "metadata": {},
   "source": [
    "3.  As before, but now we will compute the population standard deviation which is defined as\n",
    "    \n",
    "    \\begin{equation}\n",
    "    \\sigma = \\sqrt{\\frac{\\sum\\limits_{i=0}^{i=N} (X_i - \\mu)^2}{N}}\n",
    "    \\end{equation}\n",
    "    \n",
    "    where $\\mu$ is the mean value. Note, since your code regenerates the\n",
    "    dataframe from random numbers each time, you need to compute $\\mu$\n",
    "    each time. Thus, this code also needs to define `my_mean()` (you can\n",
    "    obviously cut/copy/paste).  Again, your code should be self\n",
    "    contained, and compare your result against the builtin pandas series\n",
    "    method `.std`. Again, do not use loops.\n",
    "    \n",
    "    1.  Write a program wich imports the isotope data from the last\n",
    "        lecture as dataframe. Extract the delta values as pandas\n",
    "        series. Next, use the following two equations to first split the\n",
    "        delta values into ^{32}S and ^{34}S and append the results to the\n",
    "        dataframe. Next compute the delta values from ^{32}S and ^{34},\n",
    "        and append the results to the dataframe as `delta-new`. Compute\n",
    "        the difference (it should be very small or zero). Export the data\n",
    "        frame to a csv file.\n",
    "        \n",
    "        \\begin{equation}\n",
    "        ^{32}S = \\frac{1000}{(\\delta +1000) \\times R + 1000}\n",
    "        \\end{equation}\n",
    "        \n",
    "        \\begin{equation}\n",
    "        ^{34}S = \\frac{(\\delta + 1000) \\times R}{(\\delta + 1000) \\times R + 1000}    \t\n",
    "        \\end{equation}\n",
    "\n",
    "\\begin{equation}\n",
    "\\delta^{34}S = \\left(\n",
    "  \\frac{\n",
    "    \\left(\\frac{^{34}S}{^{32}S}\\right) _{Sample}}\n",
    "  {\n",
    "    \\left(\\frac{^{34}S}{^{32}S}\\right) _{VCDT}}\n",
    "  -1\n",
    "  \\right) \\times 1000 \\quad [^0/_{00}]\n",
    "  \\end{equation}\n",
    "\n"
   ]
  }
 ],
 "metadata": {
  "kernelspec": {
   "display_name": "Python 3",
   "language": "python",
   "name": "python3"
  },
  "language_info": {
   "codemirror_mode": {
    "name": "ipython",
    "version": 3
   },
   "file_extension": ".py",
   "mimetype": "text/x-python",
   "name": "python",
   "nbconvert_exporter": "python",
   "pygments_lexer": "ipython3",
   "version": "3.7.3"
  },
  "org": null
 },
 "nbformat": 4,
 "nbformat_minor": 1
}
