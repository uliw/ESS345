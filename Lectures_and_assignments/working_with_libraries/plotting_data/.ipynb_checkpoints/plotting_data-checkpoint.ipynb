{
 "cells": [
  {
   "cell_type": "markdown",
   "metadata": {},
   "source": [
    "## Plotting Data\n",
    "\n"
   ]
  },
  {
   "cell_type": "markdown",
   "metadata": {},
   "source": [
    "Creating graphical output with python, is typically achieved by using\n",
    "third party libraries. Each of these libraries has their own way of\n",
    "describing graphical output, which can be very confusing. Here we will\n",
    "restrict ourselves to the two most popular libraries, for creating X-Y\n",
    "type plots: A) matplotlib pyplot and B) seaborn.  \n",
    "\n",
    "In the below code, I will also use a library which can test whether a\n",
    "file is present or not. I spend 20 minutes debugging my code without\n",
    "realizing that I had the wrong filename. So I decided to include this\n",
    "here. It may prove useful. The code is straightforward, and simply\n",
    "raises an error if the file is not present. In order to first test\n",
    "whether the file is present, we import the os-library, which imports\n",
    "tools to deal with operating system related tasks, like checking\n",
    "whether a file is present.\n",
    "\n"
   ]
  },
  {
   "cell_type": "code",
   "execution_count": 1,
   "metadata": {},
   "outputs": [
    {
     "name": "stdout",
     "output_type": "stream",
     "text": [
      "   Birth rate (10^3 /yr)  Storks (pairs)\n",
      "0                     83             100\n",
      "1                     87             300\n",
      "2                    118               1\n",
      "3                    117            5000\n",
      "4                     59               9\n"
     ]
    }
   ],
   "source": [
    "from typing import TypeVar\n",
    "import os  # no need to alias, since os is already short\n",
    "import pandas as pd\n",
    "import matplotlib\n",
    "import matplotlib.pyplot as plt \n",
    "\n",
    "pdf = TypeVar('pandas.core.frame.DataFrame')\n",
    "pds = TypeVar('pandas.core.series.Series')\n",
    "\n",
    "# lets get some data\n",
    "fn :str = \"storks_vs_birth_rate.csv\" # file name\n",
    "\n",
    "# this little piece of code could have saved me 20 minutes\n",
    "if os.path.exists(fn): # check if the file is actually there\n",
    "     df :pdf = pd.read_csv(fn) # read data\n",
    "     X :pds = df[\"Birth rate (10^3 /yr)\"]\n",
    "     Y :pds = df[\"Storks (pairs)\"]\n",
    "     print(df.head())\n",
    "else:\n",
    "     print(f\"{fn} not found\")\n",
    "     exit()"
   ]
  },
  {
   "cell_type": "markdown",
   "metadata": {},
   "source": [
    "### Matplotlib Pyplot\n",
    "\n"
   ]
  },
  {
   "cell_type": "markdown",
   "metadata": {},
   "source": [
    "Creating plots is straightfoward, and only requires certain sequence\n",
    "of commands. However, both, searborn and matplotlib, provide two\n",
    "different interfaces through which you can control the elements of a\n",
    "graph. We will first use the procedural interface, which is the one\n",
    "you will find in most online examples\n",
    "\n"
   ]
  },
  {
   "cell_type": "markdown",
   "metadata": {},
   "source": [
    "#### Using the procedural interface\n",
    "\n"
   ]
  },
  {
   "cell_type": "markdown",
   "metadata": {},
   "source": [
    "In the following example, I give typical command sequence. Not all of\n",
    "these commands are required to just see a quick graph, but this more\n",
    "explicit way demonstrates how to manipulate the individual graph\n",
    "elements. When we talk about creating graphical output, we need to be\n",
    "aware where the output should be shown. Will it be in a new window,\n",
    "will it be an embedded graph inside your notebook, or will the graph\n",
    "be created as pdf-file on your drive? Line 1 in the code below\n",
    "instructs the jupyter notebook to show graphical output inside the\n",
    "jupyter-notebook. Note that this line is not valid python code,\n",
    "rather, it is command which is specific to the jupyter notebooks.\n",
    "Also, you cannot add a comment behind this line. It has to be all by\n",
    "its own. Line 2 creates a scatter plot (i.e., each coordinate pair is\n",
    "represented by a point), and line 3 makes the plot appear.\n",
    "\n"
   ]
  },
  {
   "cell_type": "code",
   "execution_count": 2,
   "metadata": {},
   "outputs": [
    {
     "data": {
      "image/png": "[encoded data removed]",
      "text/plain": [
       "<Figure size 432x288 with 1 Axes>"
      ]
     },
     "metadata": {
      "needs_background": "light"
     },
     "output_type": "display_data"
    }
   ],
   "source": [
    "%matplotlib inline\n",
    "plt.scatter(X,Y)      # create a scatter plot\n",
    "plt.show()            # show the plot"
   ]
  },
  {
   "cell_type": "markdown",
   "metadata": {},
   "source": [
    "now, lets add a few bells and whistles\n",
    "\n"
   ]
  },
  {
   "cell_type": "code",
   "execution_count": 3,
   "metadata": {},
   "outputs": [
    {
     "data": {
      "image/png": "[encoded data removed]",
      "text/plain": [
       "<Figure size 360x288 with 1 Axes>"
      ]
     },
     "metadata": {
      "needs_background": "light"
     },
     "output_type": "display_data"
    }
   ],
   "source": [
    "%matplotlib inline\n",
    "plt.figure(figsize=(5, 4)) # control figure size\n",
    "plt.scatter(X,Y)           # create a scatter plot\n",
    "plt.title(\"My first Plot\")\n",
    "plt.xlabel(\"Birth Rate [10^3/yr]\")\n",
    "plt.ylabel(\"Stork Pairs\")\n",
    "plt.show()                 # show the plot"
   ]
  },
  {
   "cell_type": "markdown",
   "metadata": {},
   "source": [
    "\\#+END\\_SRC\n",
    "\n",
    "we can also add math symbols to the text\n",
    "\n"
   ]
  },
  {
   "cell_type": "code",
   "execution_count": 4,
   "metadata": {},
   "outputs": [
    {
     "data": {
      "image/png": "[encoded data removed]",
      "text/plain": [
       "<Figure size 432x288 with 1 Axes>"
      ]
     },
     "metadata": {
      "needs_background": "light"
     },
     "output_type": "display_data"
    }
   ],
   "source": [
    "plt.scatter(X,Y)           # create a scatter plot\n",
    "plt.ylabel(\"Stork Pairs\")\n",
    "plt.xlabel(\"Birth Rate [10^3/yr]\")    # No math\n",
    "plt.xlabel(\"Birth Rate [$10^3$/yr]\")  # with math\n",
    "plt.show()"
   ]
  },
  {
   "cell_type": "markdown",
   "metadata": {},
   "source": [
    "#### Using the object oriented interface\n",
    "\n"
   ]
  },
  {
   "cell_type": "markdown",
   "metadata": {},
   "source": [
    "Using the procedural interface is straightforward, but\n",
    "limited. Imagine you have two plots in the same figure. If you try to\n",
    "set the xlabel, with `plt.xlabel` which of the two xlabels will you\n",
    "change?\n",
    "\n",
    "Using the object oriented approach avoids this problem quite\n",
    "elegantly. First, we create (instantiate) a figure object. This object\n",
    "is a container for one or more plots. In order to create a plot, we\n",
    "then create a plot object. Since each plot object has a name, we can\n",
    "then use the plot object name to manipulate each plot object\n",
    "independently. Somewhat confusingly, plot python refers to plot\n",
    "objects as axes&#x2026;. Have a look at this example:\n",
    "\n"
   ]
  },
  {
   "cell_type": "code",
   "execution_count": 5,
   "metadata": {},
   "outputs": [
    {
     "name": "stderr",
     "output_type": "stream",
     "text": [
      "/usr/lib/python3.7/site-packages/ipykernel_launcher.py:5: UserWarning: Matplotlib is currently using module://ipykernel.pylab.backend_inline, which is a non-GUI backend, so cannot show the figure.\n",
      "  \"\"\"\n"
     ]
    },
    {
     "data": {
      "image/png": "[encoded data removed]",
      "text/plain": [
       "<Figure size 432x288 with 1 Axes>"
      ]
     },
     "metadata": {
      "needs_background": "light"
     },
     "output_type": "display_data"
    }
   ],
   "source": [
    "# Now lets create the actual figure\n",
    "fig = plt.figure()  # Create a figure instance called fig\n",
    "ax  = plt.subplot()  # Create a plot instance called ax\n",
    "ax.scatter(X,Y)     # Create a scatter plot for ax\n",
    "fig.show()          # Show the figure instance"
   ]
  },
  {
   "cell_type": "markdown",
   "metadata": {},
   "source": [
    "here a more complete example\n",
    "\n"
   ]
  },
  {
   "cell_type": "code",
   "execution_count": 1,
   "metadata": {},
   "outputs": [],
   "source": [
    "%matplotlib inline\n",
    "# Now lets create the actual figure\n",
    "fig = plt.figure()  # Create a figure instance called fig\n",
    "ax  = plt.subplot()  # Create a plot instance called ax\n",
    "ax.scatter(X,Y)     # Create a scatter plot for ax\n",
    "ax.set_title(\"My first plot\")\n",
    "ax.set_xlabel(\"Birth Rate [$10^3$/yr]\")\n",
    "ax.set_ylabel(\"Stork pairs\")\n",
    "ax.legend([\"Mathews 2000\"])\n",
    "ax.text(100,28000,\"Some text\")\n",
    "fig.show()          # Show the figure instance"
   ]
  },
  {
   "cell_type": "markdown",
   "metadata": {},
   "source": [
    "### Seaborn\n",
    "\n"
   ]
  },
  {
   "cell_type": "code",
   "execution_count": 1,
   "metadata": {},
   "outputs": [],
   "source": [
    "import pandas as pd\n",
    "import statsmodels.api as sm\n",
    "import matplotlib.pyplot as plt\n",
    "import seaborn as sns\n",
    "\n",
    "\n",
    "%matplotlib inline\n",
    "plt.figure(figsize=(5, 4))\n",
    "sns.set(style='darkgrid')\n",
    "\n",
    "fn :str = \"storks_vs_birthrate.csv\" # file name\n",
    "df = pd.read_csv(fn)\n",
    "df.head()"
   ]
  },
  {
   "cell_type": "code",
   "execution_count": 1,
   "metadata": {},
   "outputs": [],
   "source": [
    "sns.set(style='darkgrid')\n",
    "sns.scatterplot(data=df,x=\"Birth rate (10^3 /yr)\", y=\"Storks (pairs)\")"
   ]
  },
  {
   "cell_type": "code",
   "execution_count": 1,
   "metadata": {},
   "outputs": [],
   "source": [
    "sns.regplot(data=df,\n",
    "                x=\"Birth rate (10^3 /yr)\",\n",
    "                y=\"Storks (pairs)\")"
   ]
  },
  {
   "cell_type": "code",
   "execution_count": 1,
   "metadata": {},
   "outputs": [],
   "source": [
    "import pandas as pd\n",
    "import statsmodels.api as sm\n",
    "import matplotlib.pyplot as plt\n",
    "import seaborn as sns\n",
    "from typing import TypeVar, Tuple\n",
    "\n",
    "pds = TypeVar('pandas.core.series.Series')\n",
    "smw = TypeVar('statsmodels.regression.linear_model.RegressionResultsWrapper')\n",
    "\n",
    "\n",
    "\n",
    "def reg_model (X :pds, Y :pds)->Tuple[smw, str, float]:\n",
    "    \"\"\"A little helper function which calculates an ordinary least squares\n",
    "    fit model, based on two variables.  Parameters: X values as pandas\n",
    "    data series, Y values as pandas data series. It returne the full\n",
    "    regression model, and a string.  The string can be used to display\n",
    "    the regression euqtion, the r-square and the p-value\n",
    "    \"\"\"\n",
    "    \n",
    "    # calculate the regression model. The add_constant term is needed\n",
    "    # to calculate the y-intercept\n",
    "    model :smw  = sm.OLS(Y,sm.tools.add_constant(X)).fit()\n",
    "    yp :pds = Y\n",
    "\n",
    "    # extract the data we are interested in\n",
    "    p  :float = model.pvalues[1] # the p-value\n",
    "    r2 :float = model.rsquared   # the r-squared value\n",
    "    s  :float = model.params[1]  # the slope\n",
    "    y0 :float = model.params[0]  # the y-intercept\n",
    "\n",
    "    # calculate the predicted Y-values\n",
    "    yp :pds = y0 + s * X\n",
    "        \n",
    "    # create the display string\n",
    "    ds : str  = (f\"y = {y0:1.4f}+x*{s:1.4f}\\n\"\n",
    "                 f\"$r^2$ = {r2:1.2f}\\n\"\n",
    "                 f\"p = {p:1.4f}\")\n",
    "    \n",
    "    return (model, ds, yp)\n",
    "\n",
    "\n",
    "\n",
    "%matplotlib inline\n",
    "plt.figure(figsize=(5, 4))\n",
    "sns.set(style='darkgrid')\n",
    "\n",
    "fn :str = \"storks_vs_birthrate.csv\" # file name\n",
    "df = pd.read_csv(fn)\n",
    "df.head()\n",
    "\n",
    "X :pds = df[\"Birth rate (10^3 /yr)\"]\n",
    "Y :pds = df[\"Storks (pairs)\"]\n",
    "\n",
    "model, ds, yp = reg_model(X,Y)\n",
    "print(ds)\n",
    "ax = sns.regplot(X,Y)\n",
    "ax.text(100,40000,ds,verticalalignment='top')\n",
    "plt.tight_layout()\n",
    "plt.savefig(\"ggg1.pdf\")\n",
    "plt.show()"
   ]
  },
  {
   "cell_type": "code",
   "execution_count": 1,
   "metadata": {},
   "outputs": [],
   "source": [
    "sns.jointplot(X,Y,kind='kde')"
   ]
  },
  {
   "cell_type": "code",
   "execution_count": 1,
   "metadata": {},
   "outputs": [],
   "source": []
  },
  {
   "cell_type": "markdown",
   "metadata": {},
   "source": [
    "\\*\\*\n",
    "\n"
   ]
  },
  {
   "cell_type": "markdown",
   "metadata": {},
   "source": [
    "\\*\n",
    "\n"
   ]
  }
 ],
 "metadata": {
  "kernelspec": {
   "display_name": "Python 3",
   "language": "python",
   "name": "python3"
  },
  "language_info": {
   "codemirror_mode": {
    "name": "ipython",
    "version": 3
   },
   "file_extension": ".py",
   "mimetype": "text/x-python",
   "name": "python",
   "nbconvert_exporter": "python",
   "pygments_lexer": "ipython3",
   "version": "3.7.3"
  },
  "org": null
 },
 "nbformat": 4,
 "nbformat_minor": 1
}
