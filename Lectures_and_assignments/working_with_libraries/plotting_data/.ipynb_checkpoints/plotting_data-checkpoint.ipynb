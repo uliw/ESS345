{
 "cells": [
  {
   "cell_type": "markdown",
   "metadata": {},
   "source": [
    "## Plotting Data\n",
    "\n"
   ]
  },
  {
   "cell_type": "markdown",
   "metadata": {},
   "source": [
    "\\index{graphical output} \\index{python!graphical output} Creating\n",
    "graphical output with python is typically achieved by using third\n",
    "party libraries. Each of these libraries has their own way of\n",
    "describing graphical output, which can be very confusing. Furthermore,\n",
    "some libraries provide an object oriented interface and procedural\n",
    "interface. And to top it all, some libraries like pandas implement\n",
    "their own interface to some of the graphics libraries (and vice versa\n",
    "&#x2026;.). So if you start looking for help, you can find all sorts of\n",
    "messy/conflicting advice\n",
    "\n",
    "For this course we will matplotlib with the pyplot object oriented\n",
    "interface. Matplotlib is widely used in the sciences, and the\n",
    "interface is similar to Matlab. Furthermore, plotting is not really\n",
    "magic, it is simply a series of commands. So let's get to it!\n",
    "\n",
    "First, we import our well known dataset, so we have some data to play\n",
    "with. As a new twist, I will also use a library which can test whether\n",
    "a file is present or not. This is because I spend 20 minutes debugging\n",
    "my code without realizing that I had the wrong filename. So I decided\n",
    "to include this here. It may prove useful. The code is\n",
    "straightforward, and simply raises an error if the file is not\n",
    "present. In order to first test whether the file is present, we import\n",
    "the os-library, which imports tools to deal with operating system\n",
    "related tasks, like checking whether a file is present. I recommend to\n",
    "use this code snippet in your own\n",
    "submissions.  Towards\n",
    "this end, I recommend to start building repository of useful code\n",
    "snippets (i.e., reading an excel file, plotting XY data, etc.. This\n",
    "can be as simple as keeping a notebook file which contains all your\n",
    "code fragments.)\n",
    "\n",
    "So try this with a filename which know does not exist to see what will\n",
    "happen!\n",
    "\n"
   ]
  },
  {
   "cell_type": "code",
   "execution_count": 3,
   "metadata": {},
   "outputs": [
    {
     "name": "stdout",
     "output_type": "stream",
     "text": [
      "  Core,section,interval(cm)  Depth [mbsf]  Age [Ma]       d34S  d34S error\n",
      "0           1221C 11-3X 0-3        153.40   55.0011  17.516152    0.208391\n",
      "1           1221C 11-3X 5-8        153.45   55.0184  17.575390    0.208391\n",
      "2           1221C 11-3X 5-8        153.45   55.0184  17.680569    0.208391\n",
      "3         1221C 11-3X 10-13        153.50   55.0358  17.737390    0.208391\n",
      "4         1221C 11-3X 15-18        153.55   55.0531  17.886092    0.208391\n"
     ]
    }
   ],
   "source": [
    "import pandas as pd  # import pandas as pd\n",
    "import os  # no need to set an alias, since os is already short\n",
    "\n",
    "# define the file and sheetname we want to read. Note that the file\n",
    "# has to be present in the local working directory!\n",
    "fn: str = \"Yao_2018-b.xlsx\"  # file name\n",
    "sn: str = \"both\"  # sheet name\n",
    "\n",
    "# this little piece of code could have saved me 20 minutes\n",
    "if not os.path.exists(fn):  # check if the file is actually there\n",
    "    raise FileNotFoundError(f\"Cannot find file {fn}\")\n",
    "\n",
    "# read the excel sheet using pandas read_excel function and add it to\n",
    "df: pd.DataFrame = pd.read_excel(fn, sheet_name=sn)  # the pandas\n",
    "# dataframe\n",
    "\n",
    "# lets test that we got the right dataset\n",
    "print(df.head())\n",
    "\n",
    "# extract the data we need for plotting\n",
    "Depth: pd.Series = df.iloc[:, 1]\n",
    "Age: pd.Series = df.iloc[:, 2]\n",
    "d34S: pd.Series = df.iloc[:, 3]"
   ]
  },
  {
   "cell_type": "markdown",
   "metadata": {},
   "source": [
    "### Matplotlib Pyplot\n",
    "\n"
   ]
  },
  {
   "cell_type": "markdown",
   "metadata": {},
   "source": [
    "Creating plots is straightfoward and only requires a certain sequence\n",
    "of commands. However, both, searborn and matplotlib, provide two\n",
    "different interfaces through which you can control the elements of a\n",
    "graph. We will first use the procedural interface, which is the one\n",
    "you will find in most online examples.\n",
    "\n"
   ]
  },
  {
   "cell_type": "markdown",
   "metadata": {},
   "source": [
    "#### Thee procedural interface versus the object oriented interface\n",
    "\n"
   ]
  },
  {
   "cell_type": "markdown",
   "metadata": {},
   "source": [
    "\\index{library!matplotlib!pyplot!procedural interface}\n",
    "\\index{matplotlib!pyplot!procedural interface} In the following\n",
    "example, I give a typical command sequence. When we talk about\n",
    "creating graphical output, we need to be aware where the output should\n",
    "be shown. Will it be in a new window, will it be an embedded graph\n",
    "inside your notebook, or will the graph be created as pdf-file on your\n",
    "drive? Line 1 in the code below instructs the jupyter notebook to show\n",
    "graphical output inside the jupyter-notebook. Note that this line is\n",
    "not valid python code, rather, it is command which is specific to the\n",
    "jupyter notebooks.  Also, you cannot add a comment behind this\n",
    "line. It has to be all by its own. Line 2 creates a scatter plot\n",
    "(i.e., each coordinate pair is represented by a point), and line 3\n",
    "makes the plot appear. You may ask, why would we need a command to\n",
    "make the plot appear? Plotting can be computational expensive if you\n",
    "have a large dataset. So you don't want to redraw your plot window\n",
    "each time you change a label etc. So we first create all plot elements\n",
    "and then request that the plot is being rendered with the `plt.show()`\n",
    "command. \\index{plot!show} \\index{plot!scatter}\n",
    "\n"
   ]
  },
  {
   "cell_type": "code",
   "execution_count": 4,
   "metadata": {},
   "outputs": [
    {
     "data": {
      "image/png": "[encoded data removed]",
      "text/plain": [
       "<Figure size 432x288 with 1 Axes>"
      ]
     },
     "metadata": {
      "needs_background": "light"
     },
     "output_type": "display_data"
    }
   ],
   "source": [
    "import matplotlib.pyplot as plt\n",
    "plt.scatter(Age,d34S)      # create a scatter plot\n",
    "plt.show()"
   ]
  },
  {
   "cell_type": "markdown",
   "metadata": {},
   "source": [
    "Note that plot command does not care about your variable names, the\n",
    "first variable will be your X-axis, and the second will be your\n",
    "Y-axis.  Now, lets add a few bells and whistles to our plot (as usual,\n",
    "`dir(plt)` will show you what else is possible). \\index{plot!title}\n",
    "\\index{plot!label} \\index{figure!size} \\index{matplotlib!figure size}\n",
    "\n"
   ]
  },
  {
   "cell_type": "code",
   "execution_count": 1,
   "metadata": {},
   "outputs": [],
   "source": [
    "%matplotlib inline\n",
    "plt.figure(figsize=(5, 4)) # control figure size\n",
    "plt.scatter(X,Y)           # create a scatter plot\n",
    "plt.title(\"My first Plot\")\n",
    "plt.xlabel(\"Birth Rate [10^3/yr]\")\n",
    "plt.ylabel(\"Stork Pairs\")\n",
    "plt.show()"
   ]
  },
  {
   "cell_type": "markdown",
   "metadata": {},
   "source": [
    "we can also add math symbols to the text. Matplotlib understands most\n",
    "LaTeX math symbols and will render them correctly if they are enclosed\n",
    "in dollar signs (see below). [See this link for a fairly complete list.](https://oeis.org/wiki/List_of_LaTeX_mathematical_symbols)\n",
    "\n"
   ]
  },
  {
   "cell_type": "code",
   "execution_count": 1,
   "metadata": {},
   "outputs": [],
   "source": [
    "plt.scatter(X,Y)           # create a scatter plot\n",
    "plt.ylabel(\"Stork Pairs\")\n",
    "plt.xlabel(\"Birth Rate [10^3/yr]\")    # No math\n",
    "plt.xlabel(\"Birth Rate [$10^3$/yr]\")  # with math\n",
    "plt.show()"
   ]
  },
  {
   "cell_type": "markdown",
   "metadata": {},
   "source": [
    "#### Using the object oriented interface\n",
    "\n"
   ]
  },
  {
   "cell_type": "markdown",
   "metadata": {},
   "source": [
    "\\index{library!matplotlib!pyplot!object interface}\n",
    "\\index{matplotlib!pyplot!object interface} Using the procedural\n",
    "interface is straightforward, but limited. Imagine you have two plots\n",
    "in the same figure. If you try to set the x-axis label with\n",
    "`plt.xlabel` which of the two xlabels will you change?\n",
    "\n",
    "Using the object oriented approach avoids this problem quite\n",
    "elegantly. First, we create (instantiate) a figure object. This object\n",
    "is a container for one or more plots. In order to create a plot, we\n",
    "then create a plot object. Since each plot object has a name, we can\n",
    "then use the plot object name to manipulate each plot object\n",
    "independently. Somewhat confusingly, matplotlib refers to plot\n",
    "objects as axes&#x2026;. Have a look at this example:\n",
    "\n"
   ]
  },
  {
   "cell_type": "code",
   "execution_count": 1,
   "metadata": {},
   "outputs": [],
   "source": [
    "# Now lets create the actual figure\n",
    "fig = plt.figure()  # Create a figure instance called fig\n",
    "ax  = plt.subplot()  # Create a plot instance called ax\n",
    "ax.scatter(X,Y)     # Create a scatter plot for ax\n",
    "plt.show()"
   ]
  },
  {
   "cell_type": "markdown",
   "metadata": {},
   "source": [
    "I would also have expected that the `plt.show()` function now changes\n",
    "to `fig.show()` but this is not the case, and I was unable to find a\n",
    "good explanation of that is so. Below a more complete example. As you\n",
    "can see, the plot commands are similar, but this time they are\n",
    "specific to each plot object: \\index{plot!title} \n",
    "\\index{plot!legend} \n",
    "\\index{legend} \\index{plot!text} \\index{plot!label} \n",
    "\\index{figure!label} \\index{matplotlib!figure!label} \\index{matplotlib!tight layout}\n",
    "\n"
   ]
  },
  {
   "cell_type": "code",
   "execution_count": 1,
   "metadata": {},
   "outputs": [],
   "source": [
    "#+BEGIN_SRC ipython\n",
    "%matplotlib inline\n",
    "\n",
    "# Create figure instance and set its attributes\n",
    "fig = plt.figure()  # Create a figure instance called fig\n",
    "fig.set_size_inches(5,4) # Set figure size in inches\n",
    "fig.set_dpi(100)  # Set resolution in dots per inch\n",
    "\n",
    "# create the plot instances and plot some data\n",
    "ax  = plt.subplot()  # Create a plot instance called ax\n",
    "ax.scatter(X,Y)      # Create a scatter plot for ax\n",
    "\n",
    "# change plot (not figure) attributes. To see all possible\n",
    "# attributes, run dir(ax)\n",
    "ax.set_title(\"My first plot\")           # Set the plot title\n",
    "ax.set_xlabel(\"Birth Rate [$10^3$/yr]\") # Xlabel\n",
    "ax.set_ylabel(\"Stork pairs\")            # Ylabek\n",
    "ax.legend([\"Mathews 2000\"])             # The legend\n",
    "ax.text(100,28000,\"Some text\")          # Some arbitrary text\n",
    "\n",
    "# optimize figure (not plot), save as pdf, and show figure\n",
    "fig.set_tight_layout('tight')           # resize all elements to fit\n",
    "fig.savefig(\"test.pdf\")                 # save the figure in pdf format\n",
    "plt.show()"
   ]
  },
  {
   "cell_type": "markdown",
   "metadata": {},
   "source": [
    "### Seaborn\n",
    "\n"
   ]
  },
  {
   "cell_type": "markdown",
   "metadata": {},
   "source": [
    "\\index{seaborn}\n",
    "Seaborn is a graphics library which builds on top of matplotlib. It\n",
    "provides a high level interface to a variety of typical graphing\n",
    "problems, particularly withe respect to data analysis. Since it builds\n",
    "on matplotlib, most matplotlib commands work as expected. In fact, in\n",
    "its most basic form, we can simply use the searborn style with our\n",
    "normal matplotlib commands:\n",
    "\n"
   ]
  },
  {
   "cell_type": "code",
   "execution_count": 1,
   "metadata": {},
   "outputs": [],
   "source": [
    "import pandas as pd\n",
    "import matplotlib.pyplot as plt\n",
    "import seaborn as sns\n",
    "\n",
    "%matplotlib inline\n",
    "\n",
    "sns.set(style='darkgrid') # use searborn style with a dark grid\n",
    "\n",
    "# create figure, as before.\n",
    "fig = plt.figure()  # Create a figure instance called fig\n",
    "ax  = plt.subplot()  # Create a plot instance called ax\n",
    "ax.scatter(X,Y)     # Create a scatter plot for ax\n",
    "plt.show()"
   ]
  },
  {
   "cell_type": "markdown",
   "metadata": {},
   "source": [
    "and now, we use the seaborn scatterplot command and mix it with\n",
    "matplotlib syntax to do the same. This results in slightly different\n",
    "styling, but demonstrates that we can manipulate the plot with the\n",
    "usual matplotlib commands.\n",
    "\\index{seaborn!scatterplot}\n",
    "\n"
   ]
  },
  {
   "cell_type": "code",
   "execution_count": 1,
   "metadata": {},
   "outputs": [],
   "source": [
    "sns.set(style='darkgrid')  # us the darkgrid style\n",
    "\n",
    "# create figure instance\n",
    "fig = plt.figure()  # Create a figure instance called fig\n",
    "\n",
    "# but this time we use the seaborn scatterplot function\n",
    "ax = sns.scatterplot(X,Y)     # Create a scatter plot for ax\n",
    "\n",
    "# now we use matplotlib to change the attributes of ax\n",
    "ax.set_xlabel(\"Birth Rate [$10^3$/yr]\") # Xlabel\n",
    "ax.set_ylabel(\"Stork pairs\")            # Ylabek\n",
    "ax.legend([\"Mathews 2000\"])             # The legend\n",
    "ax.text(100,28000,\"Some text\")          # Some arbitrary text\n",
    "fig.set_tight_layout('tight')           # resize all elements to fit\n",
    "plt.show()"
   ]
  },
  {
   "cell_type": "markdown",
   "metadata": {},
   "source": [
    "Note: In the above examples, you made use of lot's of different\n",
    "prefixes, e.g., `plt`, `fig`, `np`, `ax`, `sns`, `pd` etc. It is\n",
    "important that you keep in mind of what these are. Some like `sns`\n",
    "refer to a library alias, where others like `ax` are simply the name\n",
    "of an object. So `ax.scatter` calls the scatter method of the plot\n",
    "handle `ax`, whereas `sns.scatterplot` calls the scatterplot function\n",
    "of the searborn library&#x2026;..\n",
    "\n"
   ]
  },
  {
   "cell_type": "markdown",
   "metadata": {},
   "source": [
    "### Adding more than one dataset\n",
    "\n"
   ]
  },
  {
   "cell_type": "markdown",
   "metadata": {},
   "source": [
    "First, lets create some data. I use the same approach as last time\n",
    "\n"
   ]
  },
  {
   "cell_type": "code",
   "execution_count": 1,
   "metadata": {},
   "outputs": [],
   "source": [
    "from typing import TypeVar\n",
    "import pandas as pd\n",
    "import numpy as np\n",
    "import matplotlib.pyplot as plt\n",
    "import seaborn as sns\n",
    "\n",
    "%matplotlib inline\n",
    "\n",
    "# declare pandas types for type hinting\n",
    "pdf = TypeVar('pandas.core.frame.DataFrame')\n",
    "pds = TypeVar('pandas.core.series.Series')\n",
    "\n",
    "# create a dataframe with filled with random integer values\n",
    "# between 0 and 9, the dataframe will have 15 rows and 4\n",
    "# columns which are named named A, B, C, D\n",
    "df :pdf = pd.DataFrame(np.random.randint(0,9,size=(15, 4)),\n",
    "                       columns=list('ABCD'))\n",
    "print(df.head())"
   ]
  },
  {
   "cell_type": "markdown",
   "metadata": {},
   "source": [
    "#### Mutiple datasets in the same graph\n",
    "\n"
   ]
  },
  {
   "cell_type": "markdown",
   "metadata": {},
   "source": [
    "\\index{multiple axes} \\index{matplotlib!multiple axes}\n",
    "\\index{matplotlib!twinx()} \\index{twinx()} This case can either have\n",
    "data which shares the same X-axis, or data which requires a second\n",
    "X-axis.  Here we only explore the first case. If you need a second\n",
    "X-axis, google \"matplotlib twinx\". I first use matplotlib to do this,\n",
    "since it is a bit more straightforward than the seaborn approach:\n",
    "\n"
   ]
  },
  {
   "cell_type": "code",
   "execution_count": 1,
   "metadata": {},
   "outputs": [],
   "source": [
    "sns.set(style='darkgrid')\n",
    "fig = plt.figure()  # Create a figure instance called fig\n",
    "ax  = plt.subplot()  # Create a plot instance called ax\n",
    "\n",
    "# here comes the code to create the scatterplot. We simply call\n",
    "# the scatter method of ax twice, which will add both dataset to\n",
    "# the same plot\n",
    "ax.scatter(df['A'], df['B'],label='A vs B')     # Create a scatter plot for A/B\n",
    "ax.scatter(df['C'], df['D'],label='C vs D')     # Create scatter plot for C/D\n",
    "\n",
    "# create a legend based on the labels given in the scatter call\n",
    "ax.legend(loc='upper left')                     \n",
    "plt.show()"
   ]
  },
  {
   "cell_type": "markdown",
   "metadata": {},
   "source": [
    "\\index{seaborn!mutiple axes} and now for the searborn version. The\n",
    "main difference is that the seaborn call is not itself a method of the\n",
    "axis object `ax`. Rather we have to specify the axis object as a\n",
    "parameter to the seaborn call.\n",
    "\n"
   ]
  },
  {
   "cell_type": "code",
   "execution_count": 1,
   "metadata": {},
   "outputs": [],
   "source": [
    "fig = plt.figure()  # Create a figure instance called fig\n",
    "ax  = plt.subplot()  # Create a plot instance called ax\n",
    "\n",
    "# here comes the code to create the scatterplot\n",
    "sns.scatterplot(df['A'], df['B'],label='A vs B',ax=ax) # plot for A/B\n",
    "sns.scatterplot(df['C'], df['D'],label='C vs D',ax=ax) # plot for C/D\n",
    "ax.legend(loc='upper left')\n",
    "plt.show()"
   ]
  },
  {
   "cell_type": "markdown",
   "metadata": {},
   "source": [
    "#### Multiple plots in the same figure\n",
    "\n"
   ]
  },
  {
   "cell_type": "markdown",
   "metadata": {},
   "source": [
    "\\index{multiple plots} \\index{matplotlib!multiple plots}\n",
    "\\index{matplotlib!plot size} \\index{matplotlib!subplot()}\n",
    "\\index{subplot()} Adding multiple plots to the same figure requires us\n",
    "to specify the location inside the figure. This is done with the\n",
    "subplot command. The first argument to the subplot command specifies\n",
    "how many rows your figure will have, the second argument specifies how\n",
    "many columns, and the third argument states where the image will be\n",
    "plotted (i.e., its index position). So in a 2x2 grid, index=1 would be\n",
    "in the top left corner, index=2 would be in the top right, index=3\n",
    "would be in bottom left etc.\n",
    "\n"
   ]
  },
  {
   "cell_type": "code",
   "execution_count": 1,
   "metadata": {},
   "outputs": [],
   "source": [
    "fig = plt.figure()  # Create a figure instance called fig\n",
    "# adjust the figure size to accomodate 2 images\n",
    "fig.set_size_inches(10,4) # Set figure size in inches\n",
    "\n",
    "# create the subplot objects. Here we will arrange them on a grid\n",
    "# with one row and two columsn\n",
    "ax1  = plt.subplot(1,2,1) # this is the image in the left\n",
    "ax2  = plt.subplot(1,2,2) # this is the image on the right\n",
    "\n",
    "# now we can create the actual scatter plots\n",
    "ax1.scatter(df['A'], df['B'],label='A vs B')\n",
    "ax2.scatter(df['C'], df['D'],label='C vs D')\n",
    "plt.show()"
   ]
  }
 ],
 "metadata": {
  "kernelspec": {
   "display_name": "Python 3",
   "language": "python",
   "name": "python3"
  },
  "language_info": {
   "codemirror_mode": {
    "name": "ipython",
    "version": 3
   },
   "file_extension": ".py",
   "mimetype": "text/x-python",
   "name": "python",
   "nbconvert_exporter": "python",
   "pygments_lexer": "ipython3",
   "version": "3.7.6"
  },
  "org": null
 },
 "nbformat": 4,
 "nbformat_minor": 1
}
