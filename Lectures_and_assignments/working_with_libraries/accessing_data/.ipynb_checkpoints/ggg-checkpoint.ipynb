{
 "cells": [
  {
   "cell_type": "markdown",
   "metadata": {},
   "source": [
    "## Working with libraries - an introduction\n",
    "\n"
   ]
  },
  {
   "cell_type": "markdown",
   "metadata": {},
   "source": [
    " A python library is\n",
    "simply a file which contains function definitions. The key, here, is\n",
    "that this file contains only function definitions, and no other\n",
    "program code. The file must also be written in plain python, it can't\n",
    "be in notebook format. This is no major inconvenience since most of\n",
    "the time, we only want to use the functions in the file, rather than\n",
    "changing them. Library development is hower best done with a full\n",
    "fledged python IDE (Integrated Development\n",
    "Environment). \n",
    "\n",
    "So why would we want that?\n",
    "\n",
    "1.  Moving often used functions into a library declutters your code.\n",
    "2.  Python has myriads of libraries which greatly extend the\n",
    "    functionality of the language.\n",
    "3.  Another important reason why we prefer to use libraries (rather\n",
    "    than writing our own code) is that the developers of the\n",
    "    libraries usually spend more time in optimizing the performances\n",
    "    and improving the compatibilities of the code. Also, it we\n",
    "    encounter problems using public libraries, we often can find\n",
    "    solutions or helpful information on the Internet. In that sense,\n",
    "    by using the public libraries, we are collaborating with the\n",
    "    whole community.\n",
    "\n",
    "Why you would not want to use a library:\n",
    "\n",
    "1.  Unless it's your own library, you depend on someone else. Imagine\n",
    "    this great library you found, but it has this nasty bug, and the\n",
    "    guy who wrote this library is no longer responding to\n",
    "    e-mail&#x2026;. it might be just easier to implement your desired\n",
    "    functionality yourself&#x2026;\n",
    "2.  Libraries can introduce considerable complexities, which may be\n",
    "    overkill in your situation&#x2026;.\n",
    "3.  While python itself is in the public domain, third party\n",
    "    libraries are often under more restrictive licenses. Not a big\n",
    "    deal for your private code, but if you work in a commercial\n",
    "    environment, it may be a real show stopper.\n",
    "\n"
   ]
  },
  {
   "cell_type": "markdown",
   "metadata": {},
   "source": [
    "### Using a library in your code\n",
    "\n"
   ]
  },
  {
   "cell_type": "markdown",
   "metadata": {},
   "source": [
    "Consider the following simple library [mylib.py](mylib.py). It only provides two\n",
    "functions. In order to access these functions, we first need to import\n",
    "the library, and then we can inspect its\n",
    "content. \n",
    "\n"
   ]
  },
  {
   "cell_type": "code",
   "execution_count": 1,
   "metadata": {},
   "outputs": [],
   "source": [
    "import mylib\n",
    "dir(mylib)"
   ]
  },
  {
   "cell_type": "markdown",
   "metadata": {},
   "source": [
    "Note, the file mylib.py is present in this module folder. However, if\n",
    "you moved your assignment to the submission folder, you need to copy\n",
    "the file `mylib.py` as well! As you can see from the output of the\n",
    "above code, the `mylib` library provides two functions, =hello<sub>world</sub>()\n",
    "and =square() Can you imagine what would happen if you load another\n",
    "library which provides the same functions? Yes, the earth would stop\n",
    "spinning, and we all would float helplessly into outer space&#x2026;\n",
    "\n",
    "Python provides an ingenious solution to avoid such and undesirable\n",
    "outcome. Try the following:\n",
    "\n"
   ]
  },
  {
   "cell_type": "code",
   "execution_count": 1,
   "metadata": {},
   "outputs": [],
   "source": [
    "import mylib\n",
    "print(square(5))"
   ]
  },
  {
   "cell_type": "markdown",
   "metadata": {},
   "source": [
    "yup, `mylib` provides `square()`, but you cannot use it by this name!\n",
    "So even if two libraries use the same name for the two different\n",
    "functions, earth will keep spinning!  To access a function which is\n",
    "defined inside a library, you have to write\n",
    "\n"
   ]
  },
  {
   "cell_type": "code",
   "execution_count": 1,
   "metadata": {},
   "outputs": [],
   "source": [
    "import mylib\n",
    "print(mylib.square(5))"
   ]
  },
  {
   "cell_type": "markdown",
   "metadata": {},
   "source": [
    "Pure genious! Each library creates their own namespace upon import\n",
    ". This\n",
    "mechanism avoids naming conflicts, but it also adds a lot of\n",
    "tpying&#x2026;. There are two ways around it:\n",
    "\n",
    "1.  Often you will only need on or two functions from a library (also\n",
    "    called module). In this case you can import each function\n",
    "    explicitly. So the onus is on you to make sure not to import\n",
    "    functions which share a name\n",
    "\n"
   ]
  },
  {
   "cell_type": "code",
   "execution_count": 1,
   "metadata": {},
   "outputs": [],
   "source": [
    "from mylib import hello_world, square\n",
    "hello_world()\n",
    "print(square(6))"
   ]
  },
  {
   "cell_type": "markdown",
   "metadata": {},
   "source": [
    "1.  Or, you can can create a library alias (aka shortname). This\n",
    "    approach is particularly useful if you need to import a lot of\n",
    "    functions.\n",
    "\n"
   ]
  },
  {
   "cell_type": "code",
   "execution_count": 1,
   "metadata": {},
   "outputs": [],
   "source": [
    "import mylib as ml\n",
    "ml.hello_world()\n",
    "print(ml.square(6))"
   ]
  },
  {
   "cell_type": "markdown",
   "metadata": {},
   "source": [
    "### Using pandas to read data from an excel file\n",
    "\n"
   ]
  },
  {
   "cell_type": "markdown",
   "metadata": {},
   "source": [
    "Pandas is one of the most used python libraries, and provides powerful\n",
    "data analysis tools. It also provides for an easy way to read data\n",
    "from files which contain comma separated values (CSV), or from excel\n",
    "spreadsheets, or HDF files, etc., etc.. Here we will use isotope data\n",
    "from a recent paper of one of my graduate students\n",
    "\n",
    "In the following code snippet, we import the pandas library with the\n",
    "alias `pd`. So all of the functions provided by pandas are available\n",
    "as `pd.functionname()`. We will explore how to use some of the pandas\n",
    "provided functions below. Note, since pandas is a system library, you\n",
    "do not need a local copy in each working directory.\n",
    "\n",
    "In order to read the excel file  we need to know it's name, and we need to\n",
    "know the name of the data sheet we want to read. If the read operation\n",
    "succeeds, the read data will be stored as a pandas dataframe\n",
    "object. You can think of the pandas dataframe as a table with rows,\n",
    "columns, headers, etc. Pay attention to the way how I use type hinting\n",
    "to indicate that that `os_peak` is variable which contains a\n",
    "dataframe.\n",
    "\n"
   ]
  },
  {
   "cell_type": "code",
   "execution_count": 1,
   "metadata": {},
   "outputs": [],
   "source": [
    "import pandas as pd # inport pandas as pd\n",
    "\n",
    "# define the file and sheetname we want to read. Note that the file\n",
    "# has to be present in the local working directory! \n",
    "fn :str = \"Yao_2018.xlsx\" # file name\n",
    "sn :str = \"outside_peak\"  # sheet name\n",
    "\n",
    "# read the excel sheet using pandas read_excel function and add it to\n",
    "os_peak :pd.DataFrame = pd.read_excel(fn, sheet_name=sn) # the pandas\n",
    "                                                         # dataframe"
   ]
  }
 ],
 "metadata": {
  "kernelspec": {
   "display_name": "Python 3",
   "language": "python",
   "name": "python3"
  },
  "language_info": {
   "codemirror_mode": {
    "name": "ipython",
    "version": 3
   },
   "file_extension": ".py",
   "mimetype": "text/x-python",
   "name": "python",
   "nbconvert_exporter": "python",
   "pygments_lexer": "ipython3",
   "version": "3.7.6"
  },
  "org": null
 },
 "nbformat": 4,
 "nbformat_minor": 1
}
