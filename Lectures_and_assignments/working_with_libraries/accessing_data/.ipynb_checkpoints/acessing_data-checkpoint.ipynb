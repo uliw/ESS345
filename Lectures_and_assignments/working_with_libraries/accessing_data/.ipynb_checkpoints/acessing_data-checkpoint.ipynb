{
 "cells": [
  {
   "cell_type": "markdown",
   "metadata": {},
   "source": [
    "## Working with libraries\n",
    "\n"
   ]
  },
  {
   "cell_type": "markdown",
   "metadata": {},
   "source": [
    "A python library is simply a file which contains function\n",
    "definitions. The key, here, is that this file contains only function\n",
    "definitions, and no other program code. The file must also be written\n",
    "in plain python, it can't be in notebook format. This is no major\n",
    "inconvenience since most of the time, we only want to use the\n",
    "functions in the file, rather then changing them. Library development\n",
    "is howeer best done with a full fledged python IDE (Integrated Development Environment).\n",
    "\n",
    "So why would we want that?\n",
    "\n",
    "1.  Moving often used functions into a library declutters your code.\n",
    "2.  Python has myriads of libraries which greatly extend the\n",
    "    functionality of the language.\n",
    "\n",
    "Why you would not want to use a library:\n",
    "\n",
    "1.  Unless it's your own library, you depend on someone else. Imagine\n",
    "    this great library you found, but it has this nasty bug, and the\n",
    "    guy who wrote this library is no longer responding to\n",
    "    e-mail&#x2026;. it might be just easier to implement your desired\n",
    "    functionality yourself&#x2026;\n",
    "2.  Libraries can introduce considerable complexities, which may be\n",
    "    overkill in your situation&#x2026;.\n",
    "\n"
   ]
  },
  {
   "cell_type": "markdown",
   "metadata": {},
   "source": [
    "### Using a library in your code\n",
    "\n"
   ]
  },
  {
   "cell_type": "markdown",
   "metadata": {},
   "source": [
    "Consider the following simple library [mylib.py](mylib.py). It only provides two\n",
    "functions. In order to access these functions, we first need to import\n",
    "the library, and then we can inspect its contents.\n",
    "\n"
   ]
  },
  {
   "cell_type": "code",
   "execution_count": 1,
   "metadata": {},
   "outputs": [],
   "source": [
    "import mylib\n",
    "dir(mylib)"
   ]
  },
  {
   "cell_type": "markdown",
   "metadata": {},
   "source": [
    "however, this wont allow you to use the function names as stated in the library files.\n",
    "\n"
   ]
  },
  {
   "cell_type": "code",
   "execution_count": 1,
   "metadata": {},
   "outputs": [],
   "source": [
    "import mylib\n",
    "print(square(5))"
   ]
  },
  {
   "cell_type": "markdown",
   "metadata": {},
   "source": [
    "rather, you have to write\n",
    "\n"
   ]
  },
  {
   "cell_type": "code",
   "execution_count": 1,
   "metadata": {},
   "outputs": [],
   "source": [
    "import mylib\n",
    "print(mylib.square(5))"
   ]
  },
  {
   "cell_type": "markdown",
   "metadata": {},
   "source": [
    "why is that? Most python programs import a quite a few\n",
    "libraries. However, the people writing those do not know what\n",
    "functions names have been used by other library developers. So in\n",
    "order to avoid naming conflicts, python automatically adds the library\n",
    "name in front of each function of the library. While this clever\n",
    "mechanism avoids naming conflicts, it also adds a lot of\n",
    "tpying&#x2026;. There are two ways around it:\n",
    "\n",
    "1.  Often you will only need on or two functions from a library (also\n",
    "    called module). In this case you can import each function explicitly.\n",
    "\n"
   ]
  },
  {
   "cell_type": "code",
   "execution_count": 1,
   "metadata": {},
   "outputs": [],
   "source": [
    "from mylib import hello_world, square\n",
    "     hello_world()\n",
    "     print(square(6))"
   ]
  },
  {
   "cell_type": "markdown",
   "metadata": {},
   "source": [
    "1.  Or, we can create our own library alias\n",
    "\n"
   ]
  },
  {
   "cell_type": "code",
   "execution_count": 1,
   "metadata": {},
   "outputs": [],
   "source": [
    "import mylib as ml\n",
    "    ml.hello_world()\n",
    "    print(ml.square(6))"
   ]
  },
  {
   "cell_type": "markdown",
   "metadata": {},
   "source": [
    "### Using pandas to read data from an excel file\n",
    "\n"
   ]
  },
  {
   "cell_type": "markdown",
   "metadata": {},
   "source": [
    "Pandas is one of the most used python libraries, and provides powerful\n",
    "data analysis tools. It also provides for an easy way to read data\n",
    "from files which contain comma separated values (CSV), or from excel\n",
    "spreadsheets, or HDF files etc.. Here we will use isotope data from a\n",
    "recent paper of one of my graduate students.\n",
    "\n",
    "In the following code snippet, we import two libraries using the above\n",
    "syntax.  The first line imports a module from the `typing`\n",
    "library. This library support type hinting beyond the standard\n",
    "variable types like integer and float. You may notice that we have\n",
    "used it before. The `TypeVar` function allows us to create or own\n",
    "variable types, and we use it in line 5 to create a type hint for the\n",
    "`DataFrame` variable type. In the context of this course, there is no\n",
    "need to understand this in depth, but you should know what this is\n",
    "for.\n",
    "\n",
    "Line two, imports the entire pandas library with the alias `pd`. So\n",
    "all of the functions provided by pandas are available as\n",
    "`pd.functionname()`. We will explore how to use some of the pandas\n",
    "provided functions below.\n",
    "\n",
    "In order to read the excel file, we need to know it's name, and we\n",
    "need to know the name of the data sheet we want to read. If the read\n",
    "operation succeeds, the read data will be stored as a pandas dataframe\n",
    "\n"
   ]
  },
  {
   "cell_type": "code",
   "execution_count": 1,
   "metadata": {},
   "outputs": [],
   "source": [
    "from typing import TypeVar # this is used to declare a new type hint\n",
    "import pandas as pd # inport pandas as pd\n",
    "\n",
    "# declare a dataframe type for type hinting\n",
    "pdf = TypeVar('pandas.core.frame.DataFrame')\n",
    "\n",
    "# define the file and sheetname we want to read. Note that the file\n",
    "# has to be present in the local working directory! \n",
    "fn :str = \"Yao_2018.xlsx\" # file name\n",
    "sn :str = \"outside_peak\"  # sheet name\n",
    "\n",
    "# read the excel sheet using pandas read_excel function and add it to\n",
    "os_peak :pdf = pd.read_excel(fn, sheet_name=sn) # the pandas dataframe"
   ]
  },
  {
   "cell_type": "markdown",
   "metadata": {},
   "source": [
    "### Working with the pandas dataframe object\n",
    "\n"
   ]
  },
  {
   "cell_type": "markdown",
   "metadata": {},
   "source": [
    "In most cases, your datasets will contain many lines. So the pdf\n",
    "`head()` and `tail()` methods will only show the first (or last) few\n",
    "lines of your dataset. Give this a try:\n",
    "\n"
   ]
  },
  {
   "cell_type": "code",
   "execution_count": 1,
   "metadata": {},
   "outputs": [],
   "source": [
    "os_peak.head()"
   ]
  },
  {
   "cell_type": "markdown",
   "metadata": {},
   "source": [
    "If you are really on the ball, you may have noticed that the first\n",
    "column is not present in the actual excel file (you did check that the\n",
    "`data.read()` actually read the correct file and data, did you?)\n",
    "\n",
    "Those numbers are called the index. Think of them as line numbers. All\n",
    "pandas objects show them, but they are ignored when you do\n",
    "computations with the data.\n",
    "\n"
   ]
  },
  {
   "cell_type": "markdown",
   "metadata": {},
   "source": [
    "#### Selecting specific rows\n",
    "\n"
   ]
  },
  {
   "cell_type": "markdown",
   "metadata": {},
   "source": [
    "In order to select a specific row from a pandas dataframe, we can use\n",
    "the `iloc()` method (short for integer location). In other words, if\n",
    "you want to select the 4th row, you can write\n",
    "\n"
   ]
  },
  {
   "cell_type": "code",
   "execution_count": 1,
   "metadata": {},
   "outputs": [],
   "source": [
    "os_peak.iloc[3]  # get the 4th row"
   ]
  },
  {
   "cell_type": "markdown",
   "metadata": {},
   "source": [
    "and you can use the normal slicing operators to get more than one row\n",
    "\n"
   ]
  },
  {
   "cell_type": "code",
   "execution_count": 1,
   "metadata": {},
   "outputs": [],
   "source": [
    "os_peak.iloc[3:5]  # get the the forth to 6th rows"
   ]
  },
  {
   "cell_type": "markdown",
   "metadata": {},
   "source": [
    "#### Selecting specific columns by index\n",
    "\n"
   ]
  },
  {
   "cell_type": "markdown",
   "metadata": {},
   "source": [
    "The `iloc()` method can also be used to select a specific column. In\n",
    "this case we have to give the row and colum index we want to\n",
    "retrieve. You remember the slicing syntax (if not, review the slicing\n",
    "module). So in order to get all data from the third column you can\n",
    "write\n",
    "\n"
   ]
  },
  {
   "cell_type": "code",
   "execution_count": 1,
   "metadata": {},
   "outputs": [],
   "source": [
    "os_peak.iloc[:,2] # get all data from the third columns"
   ]
  },
  {
   "cell_type": "markdown",
   "metadata": {},
   "source": [
    "or, if you only want to see the first two rows of the third column:\n",
    "\n"
   ]
  },
  {
   "cell_type": "code",
   "execution_count": 1,
   "metadata": {},
   "outputs": [],
   "source": [
    "os_peak.iloc[0:2,2]  # get the first 2 rows from the third column"
   ]
  },
  {
   "cell_type": "markdown",
   "metadata": {},
   "source": [
    "#### Selecting rows by Label\n",
    "\n"
   ]
  },
  {
   "cell_type": "markdown",
   "metadata": {},
   "source": [
    "Pandas also supports the selection by label, rather then index. This\n",
    "is done with `.loc()` method.  However the statement below requires\n",
    "some attention. On first sight, it appears that we mix `iloc()` and\n",
    "`loc()` syntax here. However, this is not the case, rather, this\n",
    "commands treats the index-column as a label. So if your first index\n",
    "number would start at 100, this code would yield no result, since\n",
    "there is no label called \"2\". As a side note, the index does not even\n",
    "have to be numeric, it could very well be a date-time value, or even a\n",
    "letter code.\n",
    "\n"
   ]
  },
  {
   "cell_type": "code",
   "execution_count": 1,
   "metadata": {},
   "outputs": [],
   "source": [
    "os_peak.loc[2:4,'d34S'] # extract the d34S data between index 2 and 4"
   ]
  },
  {
   "cell_type": "markdown",
   "metadata": {},
   "source": [
    "#### Getting statistical coefficients\n",
    "\n"
   ]
  },
  {
   "cell_type": "markdown",
   "metadata": {},
   "source": [
    "Pandas supports a large number of statistical methods, and the\n",
    "`describe()` method will give you a quick overview of your data.\n",
    "\n"
   ]
  },
  {
   "cell_type": "code",
   "execution_count": 1,
   "metadata": {},
   "outputs": [],
   "source": [
    "os_peak.describe()"
   ]
  },
  {
   "cell_type": "markdown",
   "metadata": {},
   "source": [
    "#### What else can you do?\n",
    "\n"
   ]
  },
  {
   "cell_type": "markdown",
   "metadata": {},
   "source": [
    "The short answer is, lots. The dataframe can act as database, you can\n",
    "add/remove, values/columns/rows, you can clean your data (e.g.,\n",
    "missing numbers, bogus data), you can do bolean algebra etc. etc.  If\n",
    "these cases arise, please have a look at the excellent online\n",
    "documentation and tutorials.\n",
    "\n"
   ]
  },
  {
   "cell_type": "markdown",
   "metadata": {},
   "source": [
    "## Assignment\n",
    "\n"
   ]
  },
  {
   "cell_type": "markdown",
   "metadata": {},
   "source": [
    "In the following exercises, we will practice some of the\n",
    "above. However, some tasks have not been explained. I recommend to\n",
    "refer to\n",
    "[https://pandas.pydata.org/pandas-docs/stable/user\\_guide/indexing.html](https://pandas.pydata.org/pandas-docs/stable/user_guide/indexing.html)\n",
    "or\n",
    "[https://pandas.pydata.org/pandas-docs/stable/getting\\_started/basics.html#basics](https://pandas.pydata.org/pandas-docs/stable/getting_started/basics.html#basics)\n",
    "or [https://www.tutorialspoint.com/python\\_pandas/python\\_pandas\\_dataframe.htm](https://www.tutorialspoint.com/python_pandas/python_pandas_dataframe.htm)\n",
    "\n",
    "Notes: \n",
    "\n",
    "-   Create a notebook ino your submissions folder with this name:\n",
    "    \"pandas-1-FirstName-LastName\". In order to submit your\n",
    "    assignment, you need to download it and submit it on Quercus\n",
    "    (ipynb and pdf format).  Please have the usual header with date, name etc.\n",
    "-   All questions should be solved with pandas methods. You may have\n",
    "    to look up syntax or options either through the help system, or\n",
    "    by using the above links.\n",
    "\n",
    "-   For each answer, please write self contained code, that is, it\n",
    "    imports all libraries, declares all variables, imports all data\n",
    "    etc., rather then writing code which relies on data imported in a\n",
    "    previous cell. Cut copy paste is your friend here.\n",
    "\n",
    "-   Marking Scheme (per question):\n",
    "    -   All variables declared and type hinting used throughout 1pt. No partial marks\n",
    "    -   Code produces correct output 2pt. 1pt if code is sort of correct\n",
    "    -   Proper use of comments 1pt. There is no need for doc-strings\n",
    "        though\n",
    "    -   Code is self contained 1pt.\n",
    "    -   Max points per question: 5pts for a total of 12\\*5 = 80 pts\n",
    "\n"
   ]
  },
  {
   "cell_type": "markdown",
   "metadata": {},
   "source": [
    "### Exercises:\n",
    "\n"
   ]
  },
  {
   "cell_type": "markdown",
   "metadata": {},
   "source": [
    "1.  Write a code block which will import the outside peak sheet from\n",
    "    `Yao_2018.xlsx` into a dataframe. Using the `tail` method display\n",
    "    the last 7 lines of this dataframe\n",
    "    1.  [2@] As above, but this time use the `iloc` method to display the 10<sup>th</sup> \n",
    "        row of the dataframe.\n",
    "    2.  As above, but this time use the `iloc` method to display the last\n",
    "        3 values in the third data-column (not index!) of the dataframe.\n",
    "    \n",
    "    3.  As above, but this time use the `loc` method to display the last\n",
    "        3 values in the third data column of the dataframe.\n",
    "    \n",
    "    4.  Use a pandas dataframe method to save your data frame as a Comma\n",
    "        Separated Textfile (CSV) into your local working directory. Your\n",
    "        Jupyter notebook can open CSV files, so please go and check if\n",
    "        the dataframe has been saved correctly.\n",
    "    \n",
    "    5.  Import the `cars.csv` into a dataframe, using the license plate\n",
    "        as index.\n",
    "    \n",
    "    6.  As above, but this time use the `iloc` method to display the\n",
    "        third row of the dataframe.\n",
    "    \n",
    "    7.  As above, but this time use the `iloc` method to display the\n",
    "        third data-column of the dataframe.\n",
    "    \n",
    "    8.  As above, but this time use the `loc` method to display the third\n",
    "        row of the dataframe.\n",
    "    \n",
    "    9.  As above, but this time use the `loc` method to display the\n",
    "        third data-column of the dataframe.\n",
    "    \n",
    "    10. Create a two new dataframes from the following lists, and then\n",
    "        use the pandas `concat()` method to join both dataframes by\n",
    "        row to create the final dataframe\n",
    "\n"
   ]
  },
  {
   "cell_type": "code",
   "execution_count": 1,
   "metadata": {},
   "outputs": [],
   "source": [
    "import pandas as pd \n",
    "names :list = ['Paul', 'Peter', 'Hook', 'Wendy']\n",
    "ages  :list = [ 12, 14, 51, 13]\n",
    "nms = pd.DataFrame(names)\n",
    "ags =  pd.DataFrame(ages)\n",
    "print(pd.concat([nms, ags],axis=1))"
   ]
  },
  {
   "cell_type": "markdown",
   "metadata": {},
   "source": [
    "13. As above, but this time we join them along the column.\n",
    "    1.  Create a new dataframe from this list of tuples (i.e.,\n",
    "        `names_and_ages`). Feel free to ignore the part where I\n",
    "        construct the list of tuples.\n",
    "\n"
   ]
  },
  {
   "cell_type": "code",
   "execution_count": 1,
   "metadata": {},
   "outputs": [],
   "source": [
    "# first we do some magic to create a list of tuples\n",
    "# no need to understand this in detail, but if you get it\n",
    "# it is a neat trick\n",
    "names :list = ['Paul', 'Peter', 'Hook', 'Wendy']\n",
    "ages  :list = [ 12, 14, 51, 13]\n",
    "# zip(per) two lists int a list of tuples\n",
    "names_and_ages :list = list(zip(names,ages))"
   ]
  },
  {
   "cell_type": "markdown",
   "metadata": {},
   "source": [
    "16. As above, but this time include proper column headers\n",
    "\n"
   ]
  }
 ],
 "metadata": {
  "kernelspec": {
   "display_name": "Python 3",
   "language": "python",
   "name": "python3"
  },
  "language_info": {
   "codemirror_mode": {
    "name": "ipython",
    "version": 3
   },
   "file_extension": ".py",
   "mimetype": "text/x-python",
   "name": "python",
   "nbconvert_exporter": "python",
   "pygments_lexer": "ipython3",
   "version": "3.7.3"
  },
  "org": null
 },
 "nbformat": 4,
 "nbformat_minor": 1
}
