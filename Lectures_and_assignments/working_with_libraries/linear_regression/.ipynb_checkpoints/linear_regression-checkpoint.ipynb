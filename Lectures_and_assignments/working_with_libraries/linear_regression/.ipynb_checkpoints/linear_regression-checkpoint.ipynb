{
 "cells": [
  {
   "cell_type": "code",
   "execution_count": 1,
   "metadata": {},
   "outputs": [],
   "source": [
    "import pandas as pd\n",
    "import statsmodels.api as sm\n",
    "import matplotlib.pyplot as plt\n",
    "import seaborn as sns\n",
    "from typing import TypeVar, Tuple\n",
    "\n",
    "pds = TypeVar('pandas.core.series.Series')\n",
    "smw = TypeVar('statsmodels.regression.linear_model.RegressionResultsWrapper')\n",
    "\n",
    "\n",
    "\n",
    "def reg_model (X :pds, Y :pds)->Tuple[smw, str, float]:\n",
    "    \"\"\"A little helper function which calculates an ordinary least squares\n",
    "    fit model, based on two variables.  Parameters: X values as pandas\n",
    "    data series, Y values as pandas data series. It returne the full\n",
    "    regression model, and a string.  The string can be used to display\n",
    "    the regression euqtion, the r-square and the p-value\n",
    "    \"\"\"\n",
    "    \n",
    "    # calculate the regression model. The add_constant term is needed\n",
    "    # to calculate the y-intercept\n",
    "    model :smw  = sm.OLS(Y,sm.tools.add_constant(X)).fit()\n",
    "    yp :pds = Y\n",
    "\n",
    "    # extract the data we are interested in\n",
    "    p  :float = model.pvalues[1] # the p-value\n",
    "    r2 :float = model.rsquared   # the r-squared value\n",
    "    s  :float = model.params[1]  # the slope\n",
    "    y0 :float = model.params[0]  # the y-intercept\n",
    "\n",
    "    # calculate the predicted Y-values\n",
    "    yp :pds = y0 + s * X\n",
    "        \n",
    "    # create the display string\n",
    "    ds : str  = (f\"y = {y0:1.4f}+x*{s:1.4f}\\n\"\n",
    "                 f\"$r^2$ = {r2:1.2f}\\n\"\n",
    "                 f\"p = {p:1.4f}\")\n",
    "    \n",
    "    return (model, ds, yp)\n",
    "\n",
    "\n",
    "\n",
    "%matplotlib inline\n",
    "plt.figure(figsize=(5, 4))\n",
    "sns.set(style='darkgrid')\n",
    "\n",
    "fn :str = \"storks_vs_birthrate.csv\" # file name\n",
    "df = pd.read_csv(fn)\n",
    "df.head()\n",
    "\n",
    "X :pds = df[\"Birth rate (10^3 /yr)\"]\n",
    "Y :pds = df[\"Storks (pairs)\"]\n",
    "\n",
    "model, ds, yp = reg_model(X,Y)\n",
    "print(ds)\n",
    "ax = sns.regplot(X,Y)\n",
    "ax.text(100,40000,ds,verticalalignment='top')\n",
    "plt.tight_layout()\n",
    "plt.savefig(\"ggg1.pdf\")\n",
    "plt.show()"
   ]
  },
  {
   "cell_type": "code",
   "execution_count": 5,
   "metadata": {},
   "outputs": [
    {
     "ename": "SyntaxError",
     "evalue": "invalid syntax (<ipython-input-5-525dec16fd40>, line 17)",
     "output_type": "error",
     "traceback": [
      "\u001b[0;36m  File \u001b[0;32m\"<ipython-input-5-525dec16fd40>\"\u001b[0;36m, line \u001b[0;32m17\u001b[0m\n\u001b[0;31m    \"Birth rate (10^3 /yr)\": \"Births\"})\u001b[0m\n\u001b[0m                          ^\u001b[0m\n\u001b[0;31mSyntaxError\u001b[0m\u001b[0;31m:\u001b[0m invalid syntax\n"
     ]
    }
   ],
   "source": [
    "from typing import TypeVar\n",
    "import os  # no need to alias, since os is already short\n",
    "import pandas as pd\n",
    "import matplotlib\n",
    "import matplotlib.pyplot as plt \n",
    "\n",
    "pdf = TypeVar('pandas.core.frame.DataFrame')\n",
    "pds = TypeVar('pandas.core.series.Series')\n",
    "\n",
    "# lets get some data\n",
    "fn :str = \"storks_vs_birth_rate.csv\" # file name\n",
    "\n",
    "# this little piece of code could have saved me 20 minutes\n",
    "if os.path.exists(fn): # check if the file is actually there\n",
    "     df :pdf = pd.read_csv(fn) # read data\n",
    "     print(df.head())\n",
    "else:\n",
    "     print(\"\\n ------------------------------- \\n\")\n",
    "     print(f\"{fn} not found\")\n",
    "     print(\"\\n ------------------------------- \\n\")\n",
    "     exit()"
   ]
  },
  {
   "cell_type": "code",
   "execution_count": 2,
   "metadata": {},
   "outputs": [],
   "source": [
    "import statsmodels.api as sm\n",
    "import statsmodels.formula.api as smf\n"
   ]
  },
  {
   "cell_type": "code",
   "execution_count": 3,
   "metadata": {},
   "outputs": [
    {
     "ename": "SyntaxError",
     "evalue": "invalid syntax (<unknown>, line 1)",
     "output_type": "error",
     "traceback": [
      "Traceback \u001b[0;36m(most recent call last)\u001b[0m:\n",
      "  File \u001b[1;32m\"/usr/lib/python3.7/site-packages/IPython/core/interactiveshell.py\"\u001b[0m, line \u001b[1;32m3325\u001b[0m, in \u001b[1;35mrun_code\u001b[0m\n    exec(code_obj, self.user_global_ns, self.user_ns)\n",
      "  File \u001b[1;32m\"<ipython-input-3-6c702e2123c9>\"\u001b[0m, line \u001b[1;32m2\u001b[0m, in \u001b[1;35m<module>\u001b[0m\n    mod = smf.ols(f,data=df)\n",
      "  File \u001b[1;32m\"/usr/lib64/python3.7/site-packages/statsmodels/base/model.py\"\u001b[0m, line \u001b[1;32m155\u001b[0m, in \u001b[1;35mfrom_formula\u001b[0m\n    missing=missing)\n",
      "  File \u001b[1;32m\"/usr/lib64/python3.7/site-packages/statsmodels/formula/formulatools.py\"\u001b[0m, line \u001b[1;32m65\u001b[0m, in \u001b[1;35mhandle_formula_data\u001b[0m\n    NA_action=na_action)\n",
      "  File \u001b[1;32m\"/usr/lib/python3.7/site-packages/patsy/highlevel.py\"\u001b[0m, line \u001b[1;32m310\u001b[0m, in \u001b[1;35mdmatrices\u001b[0m\n    NA_action, return_type)\n",
      "  File \u001b[1;32m\"/usr/lib/python3.7/site-packages/patsy/highlevel.py\"\u001b[0m, line \u001b[1;32m165\u001b[0m, in \u001b[1;35m_do_highlevel_design\u001b[0m\n    NA_action)\n",
      "  File \u001b[1;32m\"/usr/lib/python3.7/site-packages/patsy/highlevel.py\"\u001b[0m, line \u001b[1;32m70\u001b[0m, in \u001b[1;35m_try_incr_builders\u001b[0m\n    NA_action)\n",
      "  File \u001b[1;32m\"/usr/lib/python3.7/site-packages/patsy/build.py\"\u001b[0m, line \u001b[1;32m689\u001b[0m, in \u001b[1;35mdesign_matrix_builders\u001b[0m\n    factor_states = _factors_memorize(all_factors, data_iter_maker, eval_env)\n",
      "  File \u001b[1;32m\"/usr/lib/python3.7/site-packages/patsy/build.py\"\u001b[0m, line \u001b[1;32m354\u001b[0m, in \u001b[1;35m_factors_memorize\u001b[0m\n    which_pass = factor.memorize_passes_needed(state, eval_env)\n",
      "  File \u001b[1;32m\"/usr/lib/python3.7/site-packages/patsy/eval.py\"\u001b[0m, line \u001b[1;32m474\u001b[0m, in \u001b[1;35mmemorize_passes_needed\u001b[0m\n    subset_names = [name for name in ast_names(self.code)\n",
      "  File \u001b[1;32m\"/usr/lib/python3.7/site-packages/patsy/eval.py\"\u001b[0m, line \u001b[1;32m474\u001b[0m, in \u001b[1;35m<listcomp>\u001b[0m\n    subset_names = [name for name in ast_names(self.code)\n",
      "  File \u001b[1;32m\"/usr/lib/python3.7/site-packages/patsy/eval.py\"\u001b[0m, line \u001b[1;32m105\u001b[0m, in \u001b[1;35mast_names\u001b[0m\n    for node in ast.walk(ast.parse(code)):\n",
      "\u001b[0;36m  File \u001b[0;32m\"/usr/lib64/python3.7/ast.py\"\u001b[0;36m, line \u001b[0;32m35\u001b[0;36m, in \u001b[0;35mparse\u001b[0;36m\u001b[0m\n\u001b[0;31m    return compile(source, filename, mode, PyCF_ONLY_AST)\u001b[0m\n",
      "\u001b[0;36m  File \u001b[0;32m\"<unknown>\"\u001b[0;36m, line \u001b[0;32m1\u001b[0m\n\u001b[0;31m    Birth rate(10 ^ 3 / yr)\u001b[0m\n\u001b[0m             ^\u001b[0m\n\u001b[0;31mSyntaxError\u001b[0m\u001b[0;31m:\u001b[0m invalid syntax\n"
     ]
    }
   ],
   "source": [
    "f = \"Storks (pairs) ~ Birth rate (10^3 /yr)\"\n",
    "mod = smf.ols(f,data=df)\n",
    "res = mod.fit()\n",
    "print(res.summary)"
   ]
  },
  {
   "cell_type": "code",
   "execution_count": null,
   "metadata": {},
   "outputs": [],
   "source": []
  }
 ],
 "metadata": {
  "kernelspec": {
   "display_name": "Python 3",
   "language": "python",
   "name": "python3"
  },
  "language_info": {
   "codemirror_mode": {
    "name": "ipython",
    "version": 3
   },
   "file_extension": ".py",
   "mimetype": "text/x-python",
   "name": "python",
   "nbconvert_exporter": "python",
   "pygments_lexer": "ipython3",
   "version": "3.7.3"
  },
  "org": null
 },
 "nbformat": 4,
 "nbformat_minor": 1
}
