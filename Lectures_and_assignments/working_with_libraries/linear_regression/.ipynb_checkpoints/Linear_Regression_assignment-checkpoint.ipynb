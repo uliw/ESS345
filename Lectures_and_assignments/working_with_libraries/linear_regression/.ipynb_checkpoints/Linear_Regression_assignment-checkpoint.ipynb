{
 "cells": [
  {
   "cell_type": "markdown",
   "metadata": {},
   "source": [
    "## Assignments\n",
    "\n"
   ]
  },
  {
   "cell_type": "markdown",
   "metadata": {},
   "source": [
    "Notes: Create a notebook in your submissions folder with this name:\n",
    "\"linear-regression-FirstName-LastName\". In order to submit your\n",
    "assignment, you need to download it and submit it on Quercus (ipynb\n",
    "and pdf format). Please have the usual header with date, name\n",
    "etc. Don't forget to copy all data files into your submission folder,\n",
    "otherwise the assignments won't work.\n",
    "\n",
    "Make sure that your pdf file is complete and shows all output from\n",
    "your code cells\n",
    "\n",
    "Marking Scheme: 1 pt per question. It is either right or wrong. No\n",
    "half points.\n",
    "\n",
    "All exercises:\n",
    "\n",
    "-   use self contained code\n",
    "-   use 5x4 inch plot size\n",
    "-   use the darkgrid scheme\n",
    "-   use the object oriented interface to matplotlib\n",
    "\n",
    "Here you go:\n",
    "\n",
    "1.  Create a scatter plot with `mbsl` `alpha [permil]` from\n",
    "    `sed-v_depth.xls`. Alpha is the fractionation factor which\n",
    "    describes the percentage of &nbsp;<sup>32</sup>S isotopes being chosen instead of\n",
    "    the &nbsp;<sup>34</sup>S isotopes during microbial sulfate reduction. This\n",
    "    quantity is denoted by the Greek letter &alpha; and is expressed in\n",
    "    &permil;. You can create the permil sign for your axis label as\n",
    "    `$^0/_{00}$`.  mbsl= stands for meters below sea-level with a\n",
    "    unit of meters. In this case its expresses the distance from the\n",
    "    water surface to the sediment surface (microbial sulfate\n",
    "    reduction only occurs in anoxic sediments). Note, this data is\n",
    "    heavily edited, and should not be used to draw scientific\n",
    "    conclusions!\n",
    "2.  Perform a regression analysis of this data-set where the\n",
    "    fractionation factor &alpha; is the dependent variable, and water depth\n",
    "    is the independent variable.\n",
    "3.  Extract the regression parameters, and use the results to create\n",
    "    a single multi line f-string which shows the regression\n",
    "    parameters as seen in the previous chapter. Use the `text()`\n",
    "    method of the plot handle to place this string in the upper left\n",
    "    corner of the plot.\n",
    "4.  Using the predict method of your model result, generate a new set\n",
    "    of predicted y-values which you then plot as a regression line on\n",
    "    top of your scatterplot.\n",
    "5.  Discuss the statistical relevance of your analysis.\n",
    "6.  Using the code below, create a dataset with a known linear\n",
    "    relationship, then add some noise to it, and then analyze the\n",
    "    noisy data and compare it to the actual data. Plot the results of\n",
    "    this experiment similar to #4. Plot the original data (i.e.,\n",
    "    without the noise) as a blue line, the data with the noise as a\n",
    "    scatter plot, and the results of your regression analysis as an\n",
    "    orange line.  an example how this could look\n",
    "\n"
   ]
  },
  {
   "cell_type": "code",
   "execution_count": 1,
   "metadata": {},
   "outputs": [],
   "source": [
    "# here we use the nump library. We will dicuss it's use in greater\n",
    "# detail in the next module\n",
    "import numpy as np\n",
    "# create 30 values between 0 and 30 with a stepsize of 1\n",
    "x0 :npa =  np.arange(0, 30, 1) # this is the independent variable\n",
    "\n",
    "# calcualte y-values based on x0\n",
    "y0 :npa =  12.1 + 0.23 * x0\n",
    "\n",
    "# create some random noise which varies between -3 and 3\n",
    "noise :npa = (np.random.uniform(-3,3,size=30))\n",
    "\n",
    "# and add it to the dataset\n",
    "yn = y0 + noise\n",
    "\n",
    "# create a dataframe\n",
    "df :pdf = pd.DataFrame({'X':x0,'Y':yn})\n",
    "\n",
    "# create a regression model\n",
    "model :smm = smf.ols(formula=\"yn ~ x0\",data=df)\n",
    "results :smr = model.fit()"
   ]
  },
  {
   "cell_type": "markdown",
   "metadata": {},
   "source": [
    "7.  Rerun the code in #6 but this time, instead of using 30 data\n",
    "    points, use only 10. Then rerun it with 100 data points. Provide\n",
    "    figures for each case, and summarize your findings in your own\n",
    "    words.\n",
    "\n"
   ]
  }
 ],
 "metadata": {
  "kernelspec": {
   "display_name": "Python 3",
   "language": "python",
   "name": "python3"
  },
  "language_info": {
   "codemirror_mode": {
    "name": "ipython",
    "version": 3
   },
   "file_extension": ".py",
   "mimetype": "text/x-python",
   "name": "python",
   "nbconvert_exporter": "python",
   "pygments_lexer": "ipython3",
   "version": "3.7.6"
  },
  "org": null
 },
 "nbformat": 4,
 "nbformat_minor": 1
}
