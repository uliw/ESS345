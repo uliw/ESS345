{
 "cells": [
  {
   "cell_type": "markdown",
   "metadata": {},
   "source": [
    "## Linear Regression\n",
    "\n"
   ]
  },
  {
   "cell_type": "markdown",
   "metadata": {},
   "source": [
    "\\index{linear regression}\n",
    "\\index{type hinting!external libraries}\n",
    "\n"
   ]
  },
  {
   "cell_type": "markdown",
   "metadata": {},
   "source": [
    "### Correlation versus Correlation\n",
    "\n"
   ]
  },
  {
   "cell_type": "markdown",
   "metadata": {},
   "source": [
    "\\index{Correlation} \\index{Causation} \\index{Storks}\n",
    " Back in my home country, and\n",
    "before the hippy movement changed our culture, kids, who were curious\n",
    "where the babies come from, were told that they are brought by the\n",
    "stork (a large bird, see Fig.[fig:storksa](#fig:storksa)). Storks were indeed a\n",
    "common sight in rural areas, and large enough to sell this story to a\n",
    "3-year-old.\n",
    "\n",
    "![img](Linear_Regression/Ringed_white_stork_2019-11-22_15-14-15.png \"The Stork. Image by Soloneying, from ![img](https://commons.wikimedia.org/wiki/File:Ringed_white_stork.jpg) Downloaded Nov 22<sup>nd</sup> 2019.\")\n",
    "\n",
    "To bad, we are now grown up scientists with a penchant for critical\n",
    "thinking. Rather than believing this story, we want to see the data, and ask\n",
    "if this were true, we should see a good correlation between the number of storks\n",
    "and the number of babies. Low and behold, these two variables, actually\n",
    "correlate in a statistically significant way, i.e, the more storks we count in\n",
    "a country, the higher the (human) birthrate. Since both variables increase\n",
    "together, this is called a positive correlation. See Fig. [4](#org193e58b)\n",
    "\n",
    "![img](storks.png \"The birthrate and the number of stork pairs correlate in a statistical significant way. This analysis suggest that each stork pair delivers about 29 human babies, and that about 225 thousand babies were born otherwise. Data after <sup id=\"33933dcd3d4eb462061d758c913e8daa\"><a href=\"#matthews-2000-stork-devil\" title=\"Robert Matthews, Storks Devilver Babies (p = 0.008), {Teaching Statistics}, v(2), 36--38 (2000).\">matthews-2000-stork-devil</a></sup>.\")\n",
    "\n",
    "Now, does this prove that the storks deliver the babies? Obviously (or so we\n",
    "think) not. Just because two observable quantities correlate, does in no way\n",
    "imply that one is the cause of the other. The more likely explanation is that\n",
    "both variables are affected by a common process (i.e., industrialization).\n",
    "\n",
    "It is a common mistake to confuse correlation with causation. Another\n",
    "good example is to correlate drinking with heart attacks. This surely\n",
    "will correlate but the story is more difficult. Are there e.g.,\n",
    "patterns like drinkers tend to do less exercise than non-drinkers? So\n",
    "even if you have a good hypothesis why two variables are correlated,\n",
    "the correlation on its own, proves nothing.\n",
    "\n"
   ]
  },
  {
   "cell_type": "markdown",
   "metadata": {},
   "source": [
    "### Understanding the results of a linear regression analysis\n",
    "\n"
   ]
  },
  {
   "cell_type": "markdown",
   "metadata": {},
   "source": [
    "\\index{linear regression!dependent variable}\n",
    "\\index{linear regression!independent variable}\n",
    "Regression analysis compares how well a dataset of two variables (lets\n",
    "call them `x` and `y`) can be described by a function which allows us\n",
    "to predict the value of the dependent variable `y` based on the value\n",
    "of the independent variable `x`.  In the case of a linear regression,\n",
    "this can be expressed by a linear equation:\n",
    "\n",
    "\\begin{equation}\n",
    "\\label{eq:1}\n",
    "y = a+mx\n",
    "\\end{equation}\n",
    "\n",
    "where `a` denotes the y-axis intercept, `m` denotes the slope. Note\n",
    "that the above equation is a simple model, which we can use to make\n",
    "predictions about actual data. Linear regression analysis adjusts the\n",
    "parameters `a` and `m` in such a way that the difference between the\n",
    "measured data and the model prediction is minimized.\n",
    "\n",
    "From a user perspective, we are interested to understand how good the\n",
    "model actually is. and how to interpret the key indicators of a given\n",
    "regression model:\n",
    "\n",
    "-   **r<sup>2</sup>:** or coefficient of determination. \\index{linear\n",
    "    regression!rsquare} \\index{linear regression!coefficient of\n",
    "    determination} This value is in the range from zero to one and\n",
    "    expresses how much of the observed variance \\index{linear\n",
    "    regression!variance} in the data is explained by the regression\n",
    "    model. So a value of 0.7 indicates that 70% of the variance is\n",
    "    explained by the model, and that 30% of the variance is explained\n",
    "    by other processes which are not captured by the linear model\n",
    "    (e.g., measurements errors, or some non-linear effect affecting `x`\n",
    "    and `y`). In Fig. [BROKEN LINK: fig:storks] 38% of the variance in the birthrate\n",
    "    can be explained by the increase in stork pairs.  Note that often\n",
    "    you will also find the term R<sup>2</sup>. For a simple linear regression with\n",
    "    two variables, r<sup>2</sup> equals R<sup>2</sup>. However, if your model incorporates\n",
    "    more than 2 variables, these numbers can be different.\n",
    "-   **p:** When you do a linear regression, you basically state the\n",
    "    hypothesis that `y` depends `x` and that they are linked by a\n",
    "    linear equation. If you test a hypothesis, you however also have to\n",
    "    test the so called **null-hypothesis**, which in this case would\n",
    "    \\index{linear regression!null hypothesis} state that `y` is\n",
    "    \\index{linear regression!p-value} unrelated to `x`. The p-value\n",
    "    expresses the likelihood that the null-hypothesis is true. So a\n",
    "    p-value of 0.1 indicates a 10% chance that your data does not\n",
    "    correlate. A p-value of 0.01, indicates a 1% chance that your data\n",
    "    is not correlated. Typically, we can reject the null-hypothesis if\n",
    "    `p < 0.05`, in other words, we are 95% sure the null hypothesis is\n",
    "    wrong. In Fig. [BROKEN LINK: fig:storks], we are 99.2% sure the null hypothesis is\n",
    "    wrong. Note that there is not always a simple relationship between\n",
    "    r<sup>2</sup> and p.\n",
    "\n"
   ]
  },
  {
   "cell_type": "markdown",
   "metadata": {},
   "source": [
    "### The statsmodel library\n",
    "\n"
   ]
  },
  {
   "cell_type": "markdown",
   "metadata": {},
   "source": [
    "\\index{library!statsmodel} \\index{library!statsmodel!formula api}\n",
    "Pythons success rests to a considerable degree on the myriad of third\n",
    "party libraries which, unlike matlab, are typically free to use. In\n",
    "the following we will use the \"statsmodel\" library, but there are\n",
    "plenty of other statistical libraries we could use as well. \n",
    "\n",
    "The statsmodel library provides different interfaces. Here we will use\n",
    "the formula interface which is similar to the R-formula\n",
    "syntax. However not all statsmodel functions are available through\n",
    "this interface (yet?). First we import the needed libraries:\n",
    "\n"
   ]
  },
  {
   "cell_type": "code",
   "execution_count": 1,
   "metadata": {
    "scrolled": true
   },
   "outputs": [
    {
     "data": {
      "text/html": [
       "<div>\n",
       "<style scoped>\n",
       "    .dataframe tbody tr th:only-of-type {\n",
       "        vertical-align: middle;\n",
       "    }\n",
       "\n",
       "    .dataframe tbody tr th {\n",
       "        vertical-align: top;\n",
       "    }\n",
       "\n",
       "    .dataframe thead th {\n",
       "        text-align: right;\n",
       "    }\n",
       "</style>\n",
       "<table border=\"1\" class=\"dataframe\">\n",
       "  <thead>\n",
       "    <tr style=\"text-align: right;\">\n",
       "      <th></th>\n",
       "      <th>Babies</th>\n",
       "      <th>Storks</th>\n",
       "    </tr>\n",
       "  </thead>\n",
       "  <tbody>\n",
       "    <tr>\n",
       "      <th>0</th>\n",
       "      <td>83</td>\n",
       "      <td>100</td>\n",
       "    </tr>\n",
       "    <tr>\n",
       "      <th>1</th>\n",
       "      <td>87</td>\n",
       "      <td>300</td>\n",
       "    </tr>\n",
       "    <tr>\n",
       "      <th>2</th>\n",
       "      <td>118</td>\n",
       "      <td>1</td>\n",
       "    </tr>\n",
       "    <tr>\n",
       "      <th>3</th>\n",
       "      <td>117</td>\n",
       "      <td>5000</td>\n",
       "    </tr>\n",
       "    <tr>\n",
       "      <th>4</th>\n",
       "      <td>59</td>\n",
       "      <td>9</td>\n",
       "    </tr>\n",
       "  </tbody>\n",
       "</table>\n",
       "</div>"
      ],
      "text/plain": [
       "   Babies  Storks\n",
       "0      83     100\n",
       "1      87     300\n",
       "2     118       1\n",
       "3     117    5000\n",
       "4      59       9"
      ]
     },
     "execution_count": 1,
     "metadata": {},
     "output_type": "execute_result"
    }
   ],
   "source": [
    "import pandas as pd  # import pandas as pd\n",
    "import os  # no need to set an alias, since os is already short\n",
    "import statsmodels.formula.api as smf \n",
    "\n",
    "# define the file and sheetname we want to read. Note that the file\n",
    "# has to be present in the local working directory!\n",
    "fn: str = \"storks_vs_birth_rate.csv\"  # file name\n",
    "\n",
    "# this little piece of code could have saved me 20 minutes\n",
    "if not os.path.exists(fn):  # check if the file is actually there\n",
    "    raise FileNotFoundError(f\"Cannot find file {fn}\")\n",
    "\n",
    "df :pd.DataFrame = pd.read_csv(fn)  # read data\n",
    "df.columns = [\"Babies\", \"Storks\"] # replace colum names\n",
    "df.head() # test that all went well"
   ]
  },
  {
   "cell_type": "code",
   "execution_count": 2,
   "metadata": {},
   "outputs": [
    {
     "data": {
      "text/plain": [
       "['__builtins__',\n",
       " '__cached__',\n",
       " '__doc__',\n",
       " '__file__',\n",
       " '__loader__',\n",
       " '__name__',\n",
       " '__package__',\n",
       " '__spec__',\n",
       " 'gee',\n",
       " 'glm',\n",
       " 'glmgam',\n",
       " 'gls',\n",
       " 'glsar',\n",
       " 'logit',\n",
       " 'mixedlm',\n",
       " 'mnlogit',\n",
       " 'negativebinomial',\n",
       " 'nominal_gee',\n",
       " 'ols',\n",
       " 'ordinal_gee',\n",
       " 'phreg',\n",
       " 'poisson',\n",
       " 'probit',\n",
       " 'quantreg',\n",
       " 'rlm',\n",
       " 'wls']"
      ]
     },
     "execution_count": 2,
     "metadata": {},
     "output_type": "execute_result"
    }
   ],
   "source": [
    "dir(smf)\n"
   ]
  },
  {
   "cell_type": "markdown",
   "metadata": {},
   "source": [
    "For the statistical analysis, we want to analyze whether the number of\n",
    "storks predicts the number of babies. In other words does the birth\n",
    "rate depend on the number of storks?\n",
    "\n"
   ]
  },
  {
   "cell_type": "code",
   "execution_count": 1,
   "metadata": {},
   "outputs": [],
   "source": [
    "# next initialize our statistical model which describes our analysis\n",
    "# as well as the datasource. \"ols\" stands for ordinary least squares\n",
    "model :smf.ols  = smf.ols(formula=\"Babies ~ Storks\",data=df)\n",
    "results = model.fit()      # fit the model to the data\n",
    "print(results.summary())   # print the results of the analysis"
   ]
  },
  {
   "cell_type": "markdown",
   "metadata": {},
   "source": [
    "Plenty of information here, probably more than the you asked for. But\n",
    "note the first line, which states that 'Babies' is the dependent\n",
    "variable. This is useful and will help you to catch errors in your\n",
    "model definition. But what we really want are the slope, r<sup>2</sup> and\n",
    "p-values. The below code demonstrates how to extract these from the\n",
    "model results\n",
    "\n"
   ]
  },
  {
   "cell_type": "code",
   "execution_count": 1,
   "metadata": {},
   "outputs": [],
   "source": [
    "# retrieve values from the model results\n",
    "slope   :float = results.params[1]  # the slope\n",
    "y0      :float = results.params[0]  # the y-intercept\n",
    "rsquare :float = results.rsquared   # rsquare\n",
    "pvalue  :float = results.pvalues[1] # the pvalue"
   ]
  }
 ],
 "metadata": {
  "kernelspec": {
   "display_name": "Python 3",
   "language": "python",
   "name": "python3"
  },
  "language_info": {
   "codemirror_mode": {
    "name": "ipython",
    "version": 3
   },
   "file_extension": ".py",
   "mimetype": "text/x-python",
   "name": "python",
   "nbconvert_exporter": "python",
   "pygments_lexer": "ipython3",
   "version": "3.7.6"
  },
  "org": null
 },
 "nbformat": 4,
 "nbformat_minor": 1
}
