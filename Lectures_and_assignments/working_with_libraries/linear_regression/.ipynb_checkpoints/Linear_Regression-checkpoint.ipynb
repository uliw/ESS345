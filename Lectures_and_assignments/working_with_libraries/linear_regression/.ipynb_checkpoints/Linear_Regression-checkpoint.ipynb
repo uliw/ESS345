{
 "cells": [
  {
   "cell_type": "markdown",
   "metadata": {},
   "source": [
    "## Linear Regression\n",
    "\n"
   ]
  },
  {
   "cell_type": "markdown",
   "metadata": {},
   "source": [
    "### Causation and Correlation\n",
    "\n"
   ]
  },
  {
   "cell_type": "markdown",
   "metadata": {},
   "source": [
    "Back in my home country, and before the hippy movement changed our\n",
    "culture, kids, who were curious where the babies come from, were told\n",
    "that they are brought by the stork (a large bird, see\n",
    "Fig.[fig:storksa](#fig:storksa)). Storks were indeed a common sight in rural\n",
    "areas, and large enough to sell this story to a 3-year-old.\n",
    "\n",
    "![img](Linear_Regression/Ringed_white_stork_2019-11-22_10-35-31.jpg \"The Stork. Image by Soloneying, from ![img](https://commons.wikimedia.org/wiki/File:Ringed_white_stork.jpg) Downloaded Nov 22<sup>nd</sup> 2019.\")\n",
    "\n",
    "To bad, we are now grown up scientists with a penchant for critical\n",
    "thinking. Rather than believing this story, we want to see the data, and ask\n",
    "if this were true, we should see good correlation between the number of storks\n",
    "and the number of babies. Low and behold, these two variables, actually\n",
    "correlate in a statistically significant way, i.e, the more storks we count in\n",
    "a country, the higher the (human) birthrate. Since both variables increase\n",
    "together, this is called a positive correlation. See Fig. [4](#org42e1d83)\n",
    "\n",
    "![img](storks.png \"The birthrate and the number of stork pairs correlate in a statistical significant way. Data after [Mathews (2000)](https://drive.google.com/open?id=1zXX-6dp4X1heAb9XKq9ya3PrENI5beIH).\")\n",
    "\n",
    "Now, does this prove that the storks deliver the babies? Obviously (or so we\n",
    "think) not. Just because two observable quantities correlate, does in no way\n",
    "imply that one is the cause of the other. The more likely explanation is that\n",
    "both variables are affected by a common process (i.e., industrialization).\n",
    "\n",
    "It is a common mistake to confuse correlation with causation. Another good\n",
    "example is to correlate drinking with heart attacks. This surely will\n",
    "correlate but the story is more difficult. Are there e.g., patterns like\n",
    "drinkers tend to do less exercise than non-drinkers? So even if you have a\n",
    "good hypothesis why two variables are correlated, the correlation on its own,\n",
    "proves nothing.\n",
    "\n"
   ]
  },
  {
   "cell_type": "markdown",
   "metadata": {},
   "source": [
    "### Understanding the results of a linear regression analysis\n",
    "\n"
   ]
  },
  {
   "cell_type": "markdown",
   "metadata": {},
   "source": [
    "Regression analysis compares how well a dataset of two variables (lets\n",
    "call them `x` and `y`) can be described by a function which allows us\n",
    "to predict the value of the dependent variable `y` based on the value\n",
    "of the independent variable `x`.  In the case of a linear regression,\n",
    "this can be expressed by a linear equation:\n",
    "\n",
    "\\begin{equation}\n",
    "\\label{eq:1}\n",
    "y = a+mx\n",
    "\\end{equation}\n",
    "\n",
    "where `a` denotes the y-axis intercept, `m` denotes the slope. Note\n",
    "that the above equation is a simple model, which we can use to make\n",
    "predictions about actual data. Linear regression analysis adjusts the\n",
    "parameters `a` and `m` in such a way that the difference between the\n",
    "measured data and the model prediction is minimized.\n",
    "\n",
    "From a user perspective, we are interested to understand how good the\n",
    "model actually is. and how to interpret the key indicators of a given\n",
    "regression model:\n",
    "\n",
    "-   **r^2:** or coefficient of determination. This value is in the range from\n",
    "    zero to one and expresses how much of the observed variance in the\n",
    "    data is explained by the regression model. So a value of 0.7\n",
    "    indicates that 70% of the variance is explained by the model, and\n",
    "    that 30% of the variance is explained by other processes which are\n",
    "    not captured by the linear model (e.g., measurements errors, or some\n",
    "    non-linear effect affecting `x` and `y`). In Fig. [BROKEN LINK: fig:storks] 38% of\n",
    "    the variance can be explained by the correlation between birth rate\n",
    "    and storks.  Note that often you will also find the term R^2. For a\n",
    "    simple linear regression with two variables, r^2 equals R^2. However,\n",
    "    if your model incorporates more than 2 variables, these numbers can\n",
    "    be different.\n",
    "-   **p:** When you do a linear regression, you basically state the\n",
    "    hypothesis that `y` depends `x` and that they are linked by a\n",
    "    linear equation. If you test a hypothesis, you however also\n",
    "    have to test the so called **null-hypothesis**, which in this\n",
    "    case would state that `y` is unrelated to `x`. The p-value\n",
    "    expresses the likelihood that the null-hypothesis is true. So\n",
    "    a p-value of 0.1 indicates a 10% chance that your data does\n",
    "    not correlate. A p-value of 0.01, indicates a 1% chance that\n",
    "    your data is not correlated. Typically, we can reject the\n",
    "    null-hypothesis if `p < 0.05`, in other words, we are 95% sure\n",
    "    the null hypothesis is wrong. In Fig. [BROKEN LINK: fig:storks], we are 99.2%\n",
    "    sure the null hypothesis is wrong. Note that there is not\n",
    "    always a simple relationship between r^2 and p.\n",
    "\n"
   ]
  },
  {
   "cell_type": "markdown",
   "metadata": {},
   "source": [
    "### The statsmodel library\n",
    "\n"
   ]
  },
  {
   "cell_type": "markdown",
   "metadata": {},
   "source": [
    "Pythons success rests to a considerable degree on the myriad of third\n",
    "party libraries which, unlike matlab, are typically free to use. In\n",
    "the following we will use the \"statsmodel\" library, but there are\n",
    "plenty of other statsmodel libraries we could use as well. The\n",
    "statsmodel library provides different interfaces. Here we will use the\n",
    "formula interface which is similar to the R-formula interface. However\n",
    "not all statsmodel functions are available through this interface\n",
    "(yet?). Lets do a worked example:\n",
    "\n"
   ]
  },
  {
   "cell_type": "code",
   "execution_count": 1,
   "metadata": {},
   "outputs": [
    {
     "name": "stdout",
     "output_type": "stream",
     "text": [
      "   Storks  Babies\n",
      "0      83     100\n",
      "1      87     300\n",
      "2     118       1\n",
      "3     117    5000\n",
      "4      59       9\n"
     ]
    }
   ],
   "source": [
    "from typing import TypeVar # type hinting support\n",
    "import os                  # os support\n",
    "import pandas as pd        # use pandas to read the data\n",
    "# and the statsmodel formula interface for the regression\n",
    "import statsmodels.formula.api as smf\n",
    "\n",
    "# declare the type hints\n",
    "pdf = TypeVar('pandas.core.frame.DataFrame')\n",
    "pds = TypeVar('pandas.core.series.Series')\n",
    "smm = TypeVar('statsmodels.regression.linear_model.OLS')\n",
    "smr = TypeVar('statsmodels.regression.linear_model.RegressionResultsWrapper')\n",
    "npa = TypeVar('numpy.ndarray')\n",
    "\n",
    "# the filename\n",
    "fn :str = \"storks_vs_birth_rate.csv\" # file name\n",
    "\n",
    "# read the data\n",
    "if os.path.exists(fn): # check if the file is actually there\n",
    "     df :pdf = pd.read_csv(fn)         # read data\n",
    "     df.columns = [\"Storks\", \"Babies\"] # replace colum names\n",
    "     print(df.head())\n",
    "else:\n",
    "     print(\"\\n ------------------------------- \\n\")\n",
    "     print(f\"{fn} not found\")\n",
    "     print(\"\\n ------------------------------- \\n\")\n",
    "     exit()"
   ]
  },
  {
   "cell_type": "markdown",
   "metadata": {},
   "source": [
    "and now for the statistical analysis, where want to analyze whether\n",
    "the number of storks predicts the number of babies. To the dependent\n",
    "variable is the birth rate, and the independent variable is the number\n",
    "of storks\n",
    "\n"
   ]
  },
  {
   "cell_type": "code",
   "execution_count": 2,
   "metadata": {},
   "outputs": [
    {
     "name": "stdout",
     "output_type": "stream",
     "text": [
      "                            OLS Regression Results                            \n",
      "==============================================================================\n",
      "Dep. Variable:                 Babies   R-squared:                       0.385\n",
      "Model:                            OLS   Adj. R-squared:                  0.344\n",
      "Method:                 Least Squares   F-statistic:                     9.380\n",
      "Date:                Fri, 22 Nov 2019   Prob (F-statistic):            0.00790\n",
      "Time:                        11:41:20   Log-Likelihood:                -173.94\n",
      "No. Observations:                  17   AIC:                             351.9\n",
      "Df Residuals:                      15   BIC:                             353.6\n",
      "Df Model:                           1                                         \n",
      "Covariance Type:            nonrobust                                         \n",
      "==============================================================================\n",
      "                 coef    std err          t      P>|t|      [0.025      0.975]\n",
      "------------------------------------------------------------------------------\n",
      "Intercept    106.1297   2372.315      0.045      0.965   -4950.340    5162.600\n",
      "Storks        13.3616      4.363      3.063      0.008       4.062      22.661\n",
      "==============================================================================\n",
      "Omnibus:                       17.276   Durbin-Watson:                   2.298\n",
      "Prob(Omnibus):                  0.000   Jarque-Bera (JB):               18.724\n",
      "Skew:                           1.586   Prob(JB):                     8.59e-05\n",
      "Kurtosis:                       7.047   Cond. No.                         743.\n",
      "==============================================================================\n",
      "\n",
      "Warnings:\n",
      "[1] Standard Errors assume that the covariance matrix of the errors is correctly specified.\n"
     ]
    },
    {
     "name": "stderr",
     "output_type": "stream",
     "text": [
      "/usr/lib64/python3.7/site-packages/scipy/stats/stats.py:1450: UserWarning: kurtosistest only valid for n>=20 ... continuing anyway, n=17\n",
      "  \"anyway, n=%i\" % int(n))\n"
     ]
    }
   ],
   "source": [
    "# first we declare some variable names otherwise the below lines will\n",
    "# look quite messy. Note that these variable are not initialized with\n",
    "# any value. The next two lines are in fact non-statements and merely\n",
    "# help to improve the clarifty of the code\n",
    "model :smm   # this variable will hold our statistical model\n",
    "results :smr # this variable will hold the results of the analysis\n",
    "prediction :npa # this variable will hold the predicted y-values\n",
    "\n",
    "# next initialize our statistical model which describes our analysis\n",
    "# as well as the datasource. \"ols\" stands for ordinary least squares\n",
    "model   = smf.ols(formula=\"Babies ~ Storks\",data=df)\n",
    "results = model.fit()      # fit the model to the data\n",
    "\n",
    "# now lets create the prediction based on our statistical analysis\n",
    "# i.e., the blue line in Fig 2. So the result of the predict method is\n",
    "# a vector of y-values for Babies, which you can print against the\n",
    "# x-values (i.e. Storks) see below\n",
    "prediction =results.predict()\n",
    "\n",
    "print(results.summary())   # print the results of the analysis"
   ]
  },
  {
   "cell_type": "markdown",
   "metadata": {},
   "source": [
    "Plenty of information here, probably more than the you asked for. But\n",
    "note the first line, which states that 'Babies' is the dependent\n",
    "variable. This is useful and will help you to catch errors in your\n",
    "model definition. But what we really want are the slope, r^2 and\n",
    "p-values.\n",
    "\n"
   ]
  },
  {
   "cell_type": "code",
   "execution_count": 1,
   "metadata": {},
   "outputs": [],
   "source": []
  }
 ],
 "metadata": {
  "kernelspec": {
   "display_name": "Python 3",
   "language": "python",
   "name": "python3"
  },
  "language_info": {
   "codemirror_mode": {
    "name": "ipython",
    "version": 3
   },
   "file_extension": ".py",
   "mimetype": "text/x-python",
   "name": "python",
   "nbconvert_exporter": "python",
   "pygments_lexer": "ipython3",
   "version": "3.7.3"
  },
  "org": null
 },
 "nbformat": 4,
 "nbformat_minor": 1
}
