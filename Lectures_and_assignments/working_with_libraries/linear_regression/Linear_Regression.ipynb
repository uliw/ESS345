{
 "cells": [
  {
   "cell_type": "markdown",
   "metadata": {},
   "source": [
    "## Linear Regression\n",
    "\n"
   ]
  },
  {
   "cell_type": "markdown",
   "metadata": {},
   "source": [
    "### Causation versus Correlation\n",
    "\n"
   ]
  },
  {
   "cell_type": "markdown",
   "metadata": {},
   "source": [
    " Back in\n",
    " my home country, and before the hippy movement changed our culture,\n",
    " kids, who were curious where the babies come from, were told that\n",
    " they are brought by the stork (a large bird, see\n",
    " Fig.[fig:storksa](#fig:storksa)). Storks were indeed a common sight in rural\n",
    " areas, and large enough to sell this story to a 3-year-old.\n",
    "\n",
    "![img](Linear_Regression/Ringed_white_stork_2019-11-22_15-14-15.png \"The Stork. Image by Soloneying, from ![img](https://commons.wikimedia.org/wiki/File:Ringed_white_stork.jpg) Downloaded Nov 22<sup>nd</sup> 2019.\")\n",
    "\n",
    "To bad, we are now grown up scientists with a penchant for critical\n",
    "thinking. Rather than believing this story, we want to see the data, and ask\n",
    "if this were true, we should see a good correlation between the number of storks\n",
    "and the number of babies. Low and behold, these two variables, actually\n",
    "correlate in a statistically significant way, i.e, the more storks we count in\n",
    "a country, the higher the (human) birthrate. Since both variables increase\n",
    "together, this is called a positive correlation. See Fig. [5](#org854ed19)\n",
    "\n",
    "\\# #+CAPTION: Data after <sup id=\"33933dcd3d4eb462061d758c913e8daa\"><a href=\"#matthews-2000-stork-devil\" title=\"Robert Matthews, Storks Devilver Babies (p = 0.008), {Teaching Statistics}, v(2), 36--38 (2000).\">matthews-2000-stork-devil</a></sup>.\n",
    "\n",
    "![img](Linear_Regression/2020-08-04_17-39-23_storks.png)\n",
    "\n",
    "Now, does this prove that the storks deliver the babies? Obviously (or so we\n",
    "think) not. Just because two observable quantities correlate, does in no way\n",
    "imply that one is the cause of the other. The more likely explanation is that\n",
    "both variables are affected by a common process (i.e., industrialization).\n",
    "\n",
    "It is a common mistake to confuse correlation with causation. Another\n",
    "good example is to correlate drinking with heart attacks. This surely\n",
    "will correlate but the story is more difficult. Are there e.g.,\n",
    "patterns like drinkers tend to do less exercise than non-drinkers? So\n",
    "even if you have a good hypothesis why two variables are correlated,\n",
    "the correlation on its own, proves nothing. \n",
    "\n",
    "Irrespective of a causal relationship, we can express the correlation\n",
    "between two datasets as the Pearson Product Moment Correlation\n",
    "Coefficient (PPMC) to describe the strength and direction of the\n",
    "relationship between two variables. The PPMCC (lower case r) varies\n",
    "between +1 (perfect positive correlation) and -1 (perfect negative or\n",
    "inverse correlation). Correlations are described as weak if they are\n",
    "between +0.3 and -0.3, strong if greater than +0.7 or less than\n",
    "-0.7”. Note, that correlation analysis makes no assumptions about the\n",
    "functional form between y (dependent variable) and x (independent\n",
    "variable).\n",
    "\n"
   ]
  },
  {
   "cell_type": "markdown",
   "metadata": {},
   "source": [
    "### Understanding the results of a linear regression analysis\n",
    "\n"
   ]
  },
  {
   "cell_type": "markdown",
   "metadata": {},
   "source": [
    "Linear regression analysis takes correlation analysis one step further\n",
    "and determines how well a linear function (e.g. a straight line) can\n",
    "describe the relation between x and y. The Coefficient of\n",
    "Determination, or r<sup>2</sup> expresses the amount of explained variation a\n",
    "sloping straight line might have between a dependent (y) and a single\n",
    "independent (x) variable. The equation of a straight line `y = mx +b`\n",
    "is fitted to the scatter of data and the resulting r<sup>2</sup> value is a\n",
    "percentage estimate of the amount of explained variation x has in y.\n",
    ". Linear regression analysis adjusts\n",
    "the parameters `a` and `m` in such a way that the difference between\n",
    "the measured data and the model prediction is minimized.\n",
    "\n",
    "In many cases, more than one independent variable is needed to explain\n",
    "the scatter in the data. In this case Multiple Linear Regression is\n",
    "used in which y = x1 + x2 + x3….xn + b. From this analysis\n",
    "(i.e. simultaneous solving for a system of linear equations – remember\n",
    "your Linear Algebra course!) the Multiple Coefficient of Determination\n",
    "(R<sup>2</sup>) is used to express the amount of explained variation in y by a\n",
    "combination of independent variables. By default, many programs use\n",
    "the R<sup>2</sup> number even when there is only one independent variable. This\n",
    "can be misleading as capital R<sup>2</sup> should be reserved for analyses that\n",
    "involve multiple independent variables.\n",
    "\n",
    "From a user perspective, we are interested to understand how good the\n",
    "model actually is. and how to interpret the key indicators of a given\n",
    "regression model:\n",
    "\n",
    "-   **r<sup>2</sup>:** or coefficient of determination. \\index{linear\n",
    "    regression!rsquare} \\index{linear regression!coefficient of\n",
    "    determination} This value is in the range from zero to one and\n",
    "    expresses how much of the observed variance \\index{linear\n",
    "    regression!variance} in the data is explained by the regression\n",
    "    model. So a value of 0.7 indicates that 70% of the variance is\n",
    "    explained by the model, and that 30% of the variance is explained\n",
    "    by other processes which are not captured by the linear model\n",
    "    (e.g., measurements errors, or some non-linear effect affecting `x`\n",
    "    and `y`). In Fig. [BROKEN LINK: fig:storks] 38% of the variance in the birthrate\n",
    "    can be explained by the increase in stork pairs..\n",
    "-   **p:** When you do a linear regression, you basically state the\n",
    "    hypothesis that `y` depends `x` and that they are linked by a\n",
    "    linear equation. If you test a hypothesis, you however also have to\n",
    "    test the so called **null-hypothesis**, which in this case would\n",
    "    \\index{linear regression!null hypothesis} state that `y` is\n",
    "    \\index{linear regression!p-value} unrelated to `x`. The p-value\n",
    "    expresses the likelihood that the null-hypothesis is true. So a\n",
    "    p-value of 0.1 indicates a 10% chance that your data does not\n",
    "    correlate. A p-value of 0.01, indicates a 1% chance that your data\n",
    "    is not correlated. Typically, we can reject the null-hypothesis if\n",
    "    `p < 0.05`, in other words, we are 95% sure the null hypothesis is\n",
    "    wrong. In Fig. [BROKEN LINK: fig:storks], we are 99.2% sure the null hypothesis is\n",
    "    wrong. Note that there is not always a simple relationship between\n",
    "    r<sup>2</sup> and p.\n",
    "\n"
   ]
  },
  {
   "cell_type": "markdown",
   "metadata": {},
   "source": [
    "### The statsmodel library\n",
    "\n"
   ]
  },
  {
   "cell_type": "markdown",
   "metadata": {},
   "source": [
    " \n",
    "Pythons success rests to a considerable degree on the myriad of third\n",
    "party libraries which, unlike matlab, are typically free to use. In\n",
    "the following we will use the \"statsmodel\" library, but there are\n",
    "plenty of other statistical libraries we could use as well. \n",
    "\n",
    "The statsmodel library provides different interfaces. Here we will use\n",
    "the formula interface which is similar to the R-formula\n",
    "syntax. However not all statsmodel functions are available through\n",
    "this interface (yet?). First we import the needed libraries:\n",
    "\n"
   ]
  },
  {
   "cell_type": "code",
   "execution_count": 1,
   "metadata": {},
   "outputs": [],
   "source": [
    "import pandas as pd  # import pandas as pd\n",
    "import os  # no need to set an alias, since os is already short\n",
    "import statsmodels.formula.api as smf \n",
    "\n",
    "# define the file and sheetname we want to read. Note that the file\n",
    "# has to be present in the local working directory!\n",
    "fn: str = \"storks_vs_birth_rate.csv\"  # file name\n",
    "\n",
    "# this little piece of code could have saved me 20 minutes\n",
    "if not os.path.exists(fn):  # check if the file is actually there\n",
    "    raise FileNotFoundError(f\"Cannot find file {fn}\")\n",
    "\n",
    "df :pd.DataFrame = pd.read_csv(fn)  # read data\n",
    "df.columns = [\"Babies\", \"Storks\"] # replace colum names\n",
    "df.head() # test that all went well"
   ]
  },
  {
   "cell_type": "markdown",
   "metadata": {},
   "source": [
    "Perfoming a regression analysis assumes that our data follows a normal\n",
    "distribution. There are a variety of tests to check for normality, but\n",
    "here we will simply use a histogram plot which either shows a bell\n",
    "curve distribution or not \n",
    "\n"
   ]
  },
  {
   "cell_type": "code",
   "execution_count": 1,
   "metadata": {},
   "outputs": [],
   "source": [
    "%matplotlib inline\n",
    "import matplotlib.pyplot as plt\n",
    "\n",
    "fig: plt.Figure\n",
    "ax1: plt.Axes\n",
    "ax2: plt.Axes\n",
    "\n",
    "fig, [ax1, ax2] = plt.subplots(nrows=2, ncols=1)  #\n",
    "fig.set_size_inches(6,9)\n",
    "ax1.hist(df.iloc[:,0],)\n",
    "ax2.hist(df.iloc[:,1])\n",
    "ax1.set_title(\"Babies\")\n",
    "ax2.set_title(\"Storks\")\n",
    "plt.show()\n",
    "fig.savefig(\"histogram.png\")"
   ]
  },
  {
   "cell_type": "markdown",
   "metadata": {},
   "source": [
    "As you can see from the histogram, our data shows anything but a\n",
    "normal distribution! We will use it anyway, since it is a fun\n",
    "dataset. However, the above test is crucial if you ever want to do a\n",
    "real regression analysis!\n",
    "\n",
    "For the regression model, we want to analyze whether the number of\n",
    "storks predicts the number of babies. In other words does the birth\n",
    "rate depend on the number of storks? For this, we need to define a\n",
    "statistical model, and test whether the model predictions will fit the\n",
    "data:\n",
    "\n",
    "-   The gory details of this procedure are beyond the scope of this\n",
    "    course - if you have not yet taken a stats class, I do recommend\n",
    "    doing so!\n",
    "-   There are many ways of doing this. Here we use an approach which\n",
    "    is common in `R`\n",
    "\n",
    "You may notice that the type hints below (and also above), appear a\n",
    "bit superfluous here. After all, you are really just duplicating the\n",
    "obvious. However, once your code becomes longer, it will no longer be\n",
    "obvious, so I keep the type hinting here to encourage good habits.\n",
    "\n",
    "In the below code, `smf` is the alias for the statistics library, and\n",
    "`ols` stands for \"ordinary least squares\". The first line thus creates\n",
    "our model-object (aptly named \"model\"). We specify this object by\n",
    "providing the formula `\"Babies ~ Storks` which states that in our\n",
    "model the number of Babies should depend on the number of\n",
    "storks. These names must correspond to the variable names in the\n",
    "dataframe `df`. Line #2 is used to create fit between our linear\n",
    "regression model and the data. The results of this fit will be stored\n",
    "the `model.fit` object (i.e., \"results\"). Line 3 invokes the\n",
    "`summary()` method of the results object.\n",
    "\n"
   ]
  },
  {
   "cell_type": "code",
   "execution_count": 1,
   "metadata": {},
   "outputs": [],
   "source": [
    "model :smf.ols = smf.ols(formula=\"Babies ~ Storks\",data=df)\n",
    "results :model.fit = model.fit()      # fit the model to the data\n",
    "print(results.summary())   # print the results of the analysis"
   ]
  },
  {
   "cell_type": "markdown",
   "metadata": {},
   "source": [
    "Plenty of information here, probably more than the you asked for. But\n",
    "note the first line, which states that 'Babies' is the dependent\n",
    "variable. This is useful and will help you to catch errors in your\n",
    "model definition. There are also a couple of warnings, indicating that\n",
    "your data quality may be less than excellent.\n",
    "\n",
    "If you compare the output with Figure [fig:storks](#fig:storks), you can see that\n",
    "r<sup>2</sup> value is called \"R-squared\", the p-value is called \"Prob\n",
    "(F-statistic)\", the y-intercept is the first value in the \"Intercept\"\n",
    "row, the slope is the first value in the \"Storks\" row.You can also\n",
    "extract these parameters from the model results object like this:\n",
    "\n"
   ]
  },
  {
   "cell_type": "code",
   "execution_count": 1,
   "metadata": {},
   "outputs": [],
   "source": [
    "# retrieve values from the model results\n",
    "slope   :float = results.params[1]  # the slope\n",
    "y0      :float = results.params[0]  # the y-intercept\n",
    "rsquare :float = results.rsquared   # rsquare\n",
    "pvalue  :float = results.pvalues[1] # the pvalue"
   ]
  },
  {
   "cell_type": "markdown",
   "metadata": {},
   "source": [
    "Using these parameters, you now calculate the regression line shown in\n",
    "Figure [fig:storks](#fig:storks) and plot in into the data. We will explore how\n",
    "to create the confidence interval in the next module.\n",
    "\n"
   ]
  }
 ],
 "metadata": {
  "kernelspec": {
   "display_name": "Python 3",
   "language": "python",
   "name": "python3"
  },
  "language_info": {
   "codemirror_mode": {
    "name": "ipython",
    "version": 3
   },
   "file_extension": ".py",
   "mimetype": "text/x-python",
   "name": "python",
   "nbconvert_exporter": "python",
   "pygments_lexer": "ipython3",
   "version": "3.8.2"
  },
  "org": null
 },
 "nbformat": 4,
 "nbformat_minor": 1
}
