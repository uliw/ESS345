{
 "cells": [
  {
   "cell_type": "code",
   "execution_count": 1,
   "metadata": {},
   "outputs": [
    {
     "data": {
      "text/html": [
       "<div>\n",
       "<style scoped>\n",
       "    .dataframe tbody tr th:only-of-type {\n",
       "        vertical-align: middle;\n",
       "    }\n",
       "\n",
       "    .dataframe tbody tr th {\n",
       "        vertical-align: top;\n",
       "    }\n",
       "\n",
       "    .dataframe thead th {\n",
       "        text-align: right;\n",
       "    }\n",
       "</style>\n",
       "<table border=\"1\" class=\"dataframe\">\n",
       "  <thead>\n",
       "    <tr style=\"text-align: right;\">\n",
       "      <th></th>\n",
       "      <th>Babies</th>\n",
       "      <th>Storks</th>\n",
       "    </tr>\n",
       "  </thead>\n",
       "  <tbody>\n",
       "    <tr>\n",
       "      <th>0</th>\n",
       "      <td>83</td>\n",
       "      <td>100</td>\n",
       "    </tr>\n",
       "    <tr>\n",
       "      <th>1</th>\n",
       "      <td>87</td>\n",
       "      <td>300</td>\n",
       "    </tr>\n",
       "    <tr>\n",
       "      <th>2</th>\n",
       "      <td>118</td>\n",
       "      <td>1</td>\n",
       "    </tr>\n",
       "    <tr>\n",
       "      <th>3</th>\n",
       "      <td>117</td>\n",
       "      <td>5000</td>\n",
       "    </tr>\n",
       "    <tr>\n",
       "      <th>4</th>\n",
       "      <td>59</td>\n",
       "      <td>9</td>\n",
       "    </tr>\n",
       "  </tbody>\n",
       "</table>\n",
       "</div>"
      ],
      "text/plain": [
       "   Babies  Storks\n",
       "0      83     100\n",
       "1      87     300\n",
       "2     118       1\n",
       "3     117    5000\n",
       "4      59       9"
      ]
     },
     "execution_count": 1,
     "metadata": {},
     "output_type": "execute_result"
    }
   ],
   "source": [
    "import pandas as pd  # import pandas as pd\n",
    "import os  # no need to set an alias, since os is already short\n",
    "import statsmodels.formula.api as smf \n",
    "\n",
    "# define the file and sheetname we want to read. Note that the file\n",
    "# has to be present in the local working directory!\n",
    "fn: str = \"storks_vs_birth_rate.csv\"  # file name\n",
    "\n",
    "# this little piece of code could have saved me 20 minutes\n",
    "if not os.path.exists(fn):  # check if the file is actually there\n",
    "    raise FileNotFoundError(f\"Cannot find file {fn}\")\n",
    "\n",
    "df :pd.DataFrame = pd.read_csv(fn)  # read data\n",
    "df.columns = [\"Babies\", \"Storks\"] # replace colum names\n",
    "df.head() # test that all went well"
   ]
  },
  {
   "cell_type": "code",
   "execution_count": 2,
   "metadata": {},
   "outputs": [
    {
     "name": "stdout",
     "output_type": "stream",
     "text": [
      " newx = [    0.  7500. 15000. 22500. 30000.]\n",
      " ci = [[  25.60903207  424.44834033]\n",
      " [ 262.42790764  619.53409124]\n",
      " [ 393.92939094  919.93723441]\n",
      " [ 483.47868295 1262.29256887]\n",
      " [ 560.36720228 1617.30867601]]\n"
     ]
    }
   ],
   "source": [
    "# import statsmodels.api as sm\n",
    "import numpy as np\n",
    "\n",
    "model   = smf.ols(formula=\"Babies ~ Storks\",data=df)\n",
    "results = model.fit()\n",
    "\n",
    "yn = results.predict()\n",
    "\n",
    "# create a list with 5 x-values for which we want the predictions\n",
    "newx :np.array = np.linspace(0,30000,5)\n",
    "\n",
    "print(f\" newx = {newx}\")\n",
    "\n",
    "# get the prrediction\n",
    "prediction = results.get_prediction(exog=dict(Storks=newx))\n",
    "\n",
    "# get the confidence intervals at newx locations\n",
    "ci :np.array = prediction.conf_int()\n",
    "print(f\" ci = {ci}\")"
   ]
  },
  {
   "cell_type": "markdown",
   "metadata": {},
   "source": [
    "the output of the prediction method is an array where each row\n",
    "contains the lower, and upper estimate for given point in `x`. If we\n",
    "want to draw this as a polygon, we have to create a list of\n",
    "coordinates for each polygon point defined by `x` and `ci`. Thus we\n",
    "have to first extract the upper and lower boundaries. From the above\n",
    "printout, you can see that ci is organized as sequence of lists, so we\n",
    "can use slicing syntax to extract the first value of each list. This\n",
    "is straight forward for the lower values. However, if you draw\n",
    "polygon, you want to keep drawing in the same direction, so now we\n",
    "have to reverse the order of our coordinates, and append them to the\n",
    "lower set of coordinates. Here is use the `numpy.flip()` function (you\n",
    "could also use slicing notation `[::-1]`)\n",
    "\n"
   ]
  },
  {
   "cell_type": "code",
   "execution_count": 3,
   "metadata": {},
   "outputs": [
    {
     "name": "stdout",
     "output_type": "stream",
     "text": [
      "pl = [ 25.60903207 262.42790764 393.92939094 483.47868295 560.36720228]\n",
      "\n",
      "pu = [ 424.44834033  619.53409124  919.93723441 1262.29256887 1617.30867601]\n",
      "\n",
      "py = [  25.60903207  262.42790764  393.92939094  483.47868295  560.36720228\n",
      " 1617.30867601 1262.29256887  919.93723441  619.53409124  424.44834033]\n",
      "\n"
     ]
    }
   ],
   "source": [
    "pl = ci[:, 0]  # get the lower boundary prediction values\n",
    "pu = ci[:, 1]  # get the upper boundaryt prediction values\n",
    "\n",
    "print(f\"pl = {pl}\\n\")\n",
    "print(f\"pu = {pu}\\n\")\n",
    "\n",
    "# assemble both vectors into one long one, with pu in reversed order\n",
    "py = np.append(pl, np.flip(pu))\n",
    "print(f\"py = {py}\\n\")"
   ]
  },
  {
   "cell_type": "markdown",
   "metadata": {},
   "source": [
    "Now we have our y=values in ascending order for the lower polygon\n",
    "boundary, and in reverse order for the upper polygon boundary. \n",
    "\n",
    "Next we need to create vector of increasing and decreasing x-values to\n",
    " match the py-values.\n",
    "\n"
   ]
  },
  {
   "cell_type": "code",
   "execution_count": 4,
   "metadata": {},
   "outputs": [
    {
     "name": "stdout",
     "output_type": "stream",
     "text": [
      "[    0.  7500. 15000. 22500. 30000. 30000. 22500. 15000.  7500.     0.]\n"
     ]
    }
   ],
   "source": [
    "px = np.append(newx,np.flip(newx))\n",
    "print(px)"
   ]
  },
  {
   "cell_type": "markdown",
   "metadata": {},
   "source": [
    "all what is left to do is to combine `px` and `py` into a common array\n",
    "which is understood by the matplotlib polygon function.\n",
    "\n"
   ]
  },
  {
   "cell_type": "code",
   "execution_count": 5,
   "metadata": {},
   "outputs": [
    {
     "name": "stdout",
     "output_type": "stream",
     "text": [
      "coords = [[0.00000000e+00 2.56090321e+01]\n",
      " [7.50000000e+03 2.62427908e+02]\n",
      " [1.50000000e+04 3.93929391e+02]\n",
      " [2.25000000e+04 4.83478683e+02]\n",
      " [3.00000000e+04 5.60367202e+02]\n",
      " [3.00000000e+04 1.61730868e+03]\n",
      " [2.25000000e+04 1.26229257e+03]\n",
      " [1.50000000e+04 9.19937234e+02]\n",
      " [7.50000000e+03 6.19534091e+02]\n",
      " [0.00000000e+00 4.24448340e+02]]\n"
     ]
    }
   ],
   "source": [
    "coords = np.append(px,py)\n",
    "coords = np.reshape(coords,(2,10)).T\n",
    "print(f\"coords = {coords}\")"
   ]
  },
  {
   "cell_type": "code",
   "execution_count": 6,
   "metadata": {},
   "outputs": [
    {
     "data": {
      "image/png": "[encoded data removed]",
      "text/plain": [
       "<Figure size 432x288 with 1 Axes>"
      ]
     },
     "metadata": {
      "needs_background": "light"
     },
     "output_type": "display_data"
    }
   ],
   "source": [
    "import matplotlib.pyplot as plt\n",
    "from matplotlib.patches import Polygon\n",
    "fig, ax = plt.subplots()  #\n",
    "fig.set_size_inches(6,4)\n",
    "pol = Polygon(coords,alpha=0.1)\n",
    "ax.set_xlim(0,30000)\n",
    "ax.set_ylim(0,2000)\n",
    "ax.add_patch(pol)\n",
    "\n",
    "i = 1\n",
    "for r in coords:\n",
    "    ax.text(r[0],r[1],str(i))\n",
    "    i = i + 1\n",
    "  #  print(f\"i = {i},r[0] ={r[0]},r[1] = {r[1]}\")\n",
    "\n",
    "\n",
    "plt.show()\n",
    "fig.savefig(\"polygon_n.png\")"
   ]
  },
  {
   "cell_type": "code",
   "execution_count": 19,
   "metadata": {},
   "outputs": [
    {
     "ename": "TypeError",
     "evalue": "'PredictionResults' object is not callable",
     "output_type": "error",
     "traceback": [
      "\u001b[0;31m---------------------------------------------------------------------------\u001b[0m",
      "\u001b[0;31mTypeError\u001b[0m                                 Traceback (most recent call last)",
      "\u001b[0;32m<ipython-input-19-ea4022813e09>\u001b[0m in \u001b[0;36m<module>\u001b[0;34m\u001b[0m\n\u001b[0;32m----> 1\u001b[0;31m \u001b[0mprediction\u001b[0m\u001b[0;34m(\u001b[0m\u001b[0;34m)\u001b[0m\u001b[0;34m\u001b[0m\u001b[0;34m\u001b[0m\u001b[0m\n\u001b[0m",
      "\u001b[0;31mTypeError\u001b[0m: 'PredictionResults' object is not callable"
     ]
    }
   ],
   "source": [
    "prediction()"
   ]
  },
  {
   "cell_type": "code",
   "execution_count": 17,
   "metadata": {},
   "outputs": [
    {
     "name": "stdout",
     "output_type": "stream",
     "text": [
      "<statsmodels.regression._prediction.PredictionResults object at 0x7fa89823a150>\n"
     ]
    }
   ],
   "source": [
    "print(prediction)"
   ]
  },
  {
   "cell_type": "code",
   "execution_count": 21,
   "metadata": {},
   "outputs": [
    {
     "data": {
      "text/plain": [
       "{'depth': array([    0.,  7500., 15000., 22500., 30000.])}"
      ]
     },
     "execution_count": 21,
     "metadata": {},
     "output_type": "execute_result"
    }
   ],
   "source": [
    "dict(depth=newx)"
   ]
  },
  {
   "cell_type": "code",
   "execution_count": null,
   "metadata": {},
   "outputs": [],
   "source": []
  }
 ],
 "metadata": {
  "kernelspec": {
   "display_name": "Python 3",
   "language": "python",
   "name": "python3"
  },
  "language_info": {
   "codemirror_mode": {
    "name": "ipython",
    "version": 3
   },
   "file_extension": ".py",
   "mimetype": "text/x-python",
   "name": "python",
   "nbconvert_exporter": "python",
   "pygments_lexer": "ipython3",
   "version": "3.7.6"
  },
  "org": null
 },
 "nbformat": 4,
 "nbformat_minor": 1
}
