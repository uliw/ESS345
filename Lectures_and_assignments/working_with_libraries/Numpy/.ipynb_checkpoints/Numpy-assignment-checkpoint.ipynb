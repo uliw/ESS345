{
 "cells": [
  {
   "cell_type": "markdown",
   "metadata": {},
   "source": [
    "## Assignment\n",
    "\n"
   ]
  },
  {
   "cell_type": "markdown",
   "metadata": {},
   "source": [
    "In the previous module, we used linear regression analysis to build a\n",
    "simple linear model of the storks versus babies data (see\n",
    "Fig. [storksandbabies](#storksandbabies))\n",
    "\n",
    "![img](/home/uliw/user/toronto/teaching/ESS345/Python_for_a_nontechnical_audience/working_with_libraries/Numpy/storks.png \"The storks versus babies data\")\n",
    "This figure, shows the data, the linear regression model, and a shaded\n",
    "area, which represents the 95% confidence interval. In the previous\n",
    "assignment, you added noise to linear data set, and explored how this\n",
    "noise affects the accuracy of the regression analysis. You observed\n",
    "that with increasing noise, the match between model and original data\n",
    "became worse. So the above confidence interval is the area where you\n",
    "can be 95% sure that your regression model fits your data. I.e., in\n",
    "your previous assignment, all orange lines would fit inside this\n",
    "envelope. In other words, your regression analysis finds the best fit,\n",
    "but depending how noisy your data is, there is uncertainty whether the\n",
    "best fit is also the true fit. This uncertainty is expressed by the\n",
    "shaded confidence interval.\n",
    "\n",
    "Note that this is different from the uncertainty of a prediction you\n",
    "base on your regression model. This so called prediction interval is\n",
    "much larger. But back to our original problem. We want to create some\n",
    "code wich allows us to plot this confidence interval. There is no\n",
    "ready made solution, but with a bit of numpy magic, we can create our\n",
    "own!\n",
    "\n",
    "The shaded area in the above figure, is a polygon. If you were to draw\n",
    "this by hand, you would first draw the outline, and then fill it with\n",
    "color. The following figure illustrates this approach:\n",
    "\n",
    "![img](./Numpy/polygon_n.png \"A polygon is drawn by following it's outline either clockwise or anticlockwise\")\n",
    "the key here, is that we have to draw in a consistent direction,\n",
    "either clockwise, or anticlockwise (you remember those drawing by\n",
    "numbers books?). We will look into the details of this below. But\n",
    "first we need to get the data from our regression model.\n",
    "\n",
    "Add code in the below box which reads the water depths versus\n",
    "fractionation factor data you used before\n",
    "\n"
   ]
  },
  {
   "cell_type": "code",
   "execution_count": 1,
   "metadata": {},
   "outputs": [],
   "source": [
    "# read data"
   ]
  },
  {
   "cell_type": "markdown",
   "metadata": {},
   "source": [
    "next, create a linear regression analysis of this data which treats\n",
    "water depth as the independent variable, and the fractionation factor\n",
    "alpha as the dependent variable.\n",
    "\n"
   ]
  },
  {
   "cell_type": "code",
   "execution_count": 1,
   "metadata": {},
   "outputs": [],
   "source": [
    "# regression model"
   ]
  },
  {
   "cell_type": "markdown",
   "metadata": {},
   "source": [
    "now, we create the model predictions, first the simple linear\n",
    "prediction, and then we extract the confidence intervals we will use\n",
    "for our polygon. I recommend to start with a small number of predicted\n",
    "values, say 5. If all works well, you can increase the number for your\n",
    "final submission. Below the relevant code to handle the stats\n",
    "model. BTW, Execute the `dict(depth=nx)` piece in a separate cell to\n",
    "see what it does.\n",
    "\n"
   ]
  },
  {
   "cell_type": "code",
   "execution_count": 1,
   "metadata": {},
   "outputs": [],
   "source": [
    "# create predictions\n",
    "nx :np.array =  # create 5 values between min-x and max-x\n",
    "\n",
    "# create a prediction at the nx locations see the documentation for\n",
    "# statsmodels.regression.linear_model.OLSResults.get_prediction\n",
    "# the function returns a linear_model.PredictionResults type\n",
    "# which is so long that I dropped here from the type hint. \n",
    "prediction = results.get_prediction(exog=dict(depth=nx))\n",
    "\n",
    "# extract the confidence intervals. The default is the 95% interval\n",
    "# you can set other values, see the documentation for\n",
    "# statsmodels.regression.linear_model.PredictionResults.conf_int\n",
    "\n",
    "ci :np.array = prediction.conf_int()\n",
    "print(f\" ci = {ci}\")"
   ]
  },
  {
   "cell_type": "markdown",
   "metadata": {},
   "source": [
    "This should yield a 2-dimensional array with 10 numbers. The below\n",
    "numbers are for the stork examples, so your numbers will be different,\n",
    "but it should look like this:\n",
    "\n",
    "    ci = [[  25.60903207  424.44834033]\n",
    "     [ 262.42790764  619.53409124]\n",
    "     [ 393.92939094  919.93723441]\n",
    "     [ 483.47868295 1262.29256887]\n",
    "     [ 560.36720228 1617.30867601]]\n",
    "\n",
    "The first row, contains the lower boundary values at `nx(i)`, and the\n",
    "second row contains the upper boundary values at `nx(i)`. So this data\n",
    "is missing the x-coordinates, and it is not yet in a format which can\n",
    "be used by the polygon function of matplotlib.\n",
    "\n",
    "As we have seen above, on order to plot a polygon, we need a sequence\n",
    "coordinate pairs (typically called vertices) for each polygon point,\n",
    "and this sequence must be ordered in such a way that it describes the\n",
    "polygon either in clockwise or counter-clock wise direction (see the\n",
    "above figure).\n",
    "\n",
    "Here is what needs to be done:\n",
    "\n"
   ]
  },
  {
   "cell_type": "code",
   "execution_count": 1,
   "metadata": {},
   "outputs": [],
   "source": [
    "# extract lower and upper boundary values"
   ]
  },
  {
   "cell_type": "code",
   "execution_count": 1,
   "metadata": {},
   "outputs": [],
   "source": [
    "# combine them into a new 1-d array in such way that they describe the\n",
    "# polygon in counter clockwise fashion"
   ]
  },
  {
   "cell_type": "code",
   "execution_count": 1,
   "metadata": {},
   "outputs": [],
   "source": [
    "# Create a new vector of x-values which corresponds to the polygon\n",
    "# values in the previous cell"
   ]
  },
  {
   "cell_type": "code",
   "execution_count": 1,
   "metadata": {},
   "outputs": [],
   "source": [
    "# combine your new x and y values into a 2-dimensional array of\n",
    "# vertices.  I.e. the first columns contains the x-values, and the 2nd\n",
    "# column contains the y-values."
   ]
  },
  {
   "cell_type": "markdown",
   "metadata": {},
   "source": [
    "The below numbers are from the stork example, so your numbers will be\n",
    "different, but you can see how this array describes the locations of\n",
    "the numbers 1 to 6 in the above figure:\n",
    "\n",
    "    coords = [[0.00000000e+00 2.56090321e+01]\n",
    "              [7.50000000e+03 2.62427908e+02]\n",
    "              [1.50000000e+04 3.93929391e+02]\n",
    "              [2.25000000e+04 4.83478683e+02]\n",
    "              [3.00000000e+04 5.60367202e+02]\n",
    "              [3.00000000e+04 1.61730868e+03]\n",
    "              [2.25000000e+04 1.26229257e+03]\n",
    "              [1.50000000e+04 9.19937234e+02]\n",
    "              [7.50000000e+03 6.19534091e+02]\n",
    "              [0.00000000e+00 4.24448340e+02]]\n",
    "\n",
    "last but not least, let's create the final figure.  A couple pointers though:\n",
    "\n",
    "1.  First create your regular regression graph (6 by 4 inches, dark\n",
    "    grid style, proper axis labels with units, no title, no legend,\n",
    "    but include the regression parameters similar to\n",
    "    Fig. [storksandbabies](#storksandbabies), and the regression line\n",
    "2.  The polygon method is not part of matplotlibs pyplot interface, so\n",
    "    you need to import it separately (see the below code snippet)\n",
    "3.  The polygon is made transparent withe alpha parameter (from 0 to\n",
    "    1). You still need to pay attention what is plotted first and last\n",
    "4.  Adding polygon to a plot does not update the plot axis limits. So\n",
    "    if there is no other data in the plot you need to set the axis\n",
    "    limits explicitly.\n",
    "\n"
   ]
  },
  {
   "cell_type": "code",
   "execution_count": 1,
   "metadata": {},
   "outputs": [],
   "source": [
    "import matplotlib.pyplot as plt\n",
    "from matplotlib.patches import Polygon\n",
    "\n",
    "# create the polygon\n",
    "pol = Polygon(coords,alpha=0.1)\n",
    "\n",
    "# add the polyon to the plot\n",
    "ax.add_patch(pol)"
   ]
  },
  {
   "cell_type": "markdown",
   "metadata": {},
   "source": [
    "For the second part of your assignment, create:\n",
    "\n",
    "-   a function which takes the output of `prediction.conf_int()` as\n",
    "    argument and returns a list vertices which can be used by the\n",
    "    polygon function function.\n",
    "-   The function should be fully annotated, have a doc-string, use type\n",
    "    hinting etc.\n",
    "-   Recast your so that it uses this function and place your code into\n",
    "    a single cell using the below template.\n",
    "\n"
   ]
  },
  {
   "cell_type": "code",
   "execution_count": 1,
   "metadata": {},
   "outputs": [],
   "source": [
    "\"\"\"\n",
    "Description:\n",
    "Purpose:\n",
    "Example:\n",
    "Limitations:\n",
    "Author:\n",
    "Date:\n",
    "\"\"\"\n",
    "# ----------- third party library imports ------------------\n",
    "\n",
    "# ----------- functions definitions  -----------------------\n",
    "\n",
    "# ----------- main program ---------------------------------\n",
    "# --- variable declarations\n",
    "\n",
    "# --- code starts here\n",
    "#\n",
    "\"\"\""
   ]
  },
  {
   "cell_type": "markdown",
   "metadata": {},
   "source": [
    "Marking Scheme (23 pts)\n",
    "\n",
    "-   read data: 2pts\n",
    "-   regression model: 2pts\n",
    "-   predictions: 2pts\n",
    "-   upper and lower boundary values: 2pts\n",
    "-   Vector of increasing and decreasing x-values: 2pts\n",
    "-   2d-arrays with correct vertices: 2pts\n",
    "-   regular regression plot with regression line (1pt), regression parameters (1pt), correct layout and labels (1pt)\n",
    "-   correctly plotted polygon (4pt)\n",
    "-   Correctly working function with docs string, type hints, etc. 4pts\n",
    "\n",
    "As usual, submit in pdf and notebook format with all necessary data\n",
    "files as 'numpy-firstname-lastname' and all needed headers.\n",
    "\n"
   ]
  }
 ],
 "metadata": {
  "kernelspec": {
   "display_name": "Python 3",
   "language": "python",
   "name": "python3"
  },
  "language_info": {
   "codemirror_mode": {
    "name": "ipython",
    "version": 3
   },
   "file_extension": ".py",
   "mimetype": "text/x-python",
   "name": "python",
   "nbconvert_exporter": "python",
   "pygments_lexer": "ipython3",
   "version": "3.7.6"
  },
  "org": null
 },
 "nbformat": 4,
 "nbformat_minor": 1
}
