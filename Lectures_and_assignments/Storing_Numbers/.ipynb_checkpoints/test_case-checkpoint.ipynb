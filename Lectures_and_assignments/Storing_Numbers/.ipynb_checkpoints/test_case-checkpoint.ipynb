{
 "cells": [
  {
   "cell_type": "markdown",
   "metadata": {},
   "source": [
    "## Testcase\n",
    "\n"
   ]
  },
  {
   "cell_type": "markdown",
   "metadata": {},
   "source": [
    "On its most basic level, computers are made of simple transistors.\n",
    "\\index{transistor}\n",
    "\n",
    "Lets consider how we count. We have 10 fingers, wich we can use to\n",
    "count from 0 to 9. However, what happens if we need to count past 9?\n",
    "\n",
    "| 100-999|10-99|0-9|Name|\n",
    "|---|---|---|---|\n",
    "| ||.|.|\n",
    "|---|---|---|---|\n",
    "| ||.|.|\n",
    "|---|---|---|---|\n",
    "| ||8|eight|\n",
    "\n"
   ]
  }
 ],
 "metadata": {
  "kernelspec": {
   "display_name": "Python 3",
   "language": "python",
   "name": "python3"
  },
  "language_info": {
   "codemirror_mode": {
    "name": "ipython",
    "version": 3
   },
   "file_extension": ".py",
   "mimetype": "text/x-python",
   "name": "python",
   "nbconvert_exporter": "python",
   "pygments_lexer": "ipython3",
   "version": "3.7.3"
  },
  "org": null
 },
 "nbformat": 4,
 "nbformat_minor": 1
}
