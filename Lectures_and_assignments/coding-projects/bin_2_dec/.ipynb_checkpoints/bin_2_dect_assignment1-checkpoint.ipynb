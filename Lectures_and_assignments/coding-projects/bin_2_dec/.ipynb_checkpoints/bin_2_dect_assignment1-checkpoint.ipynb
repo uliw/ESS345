{
 "cells": [
  {
   "cell_type": "markdown",
   "metadata": {},
   "source": [
    "## Assignment\n",
    "\n"
   ]
  },
  {
   "cell_type": "markdown",
   "metadata": {},
   "source": [
    "For this assignment, write a python program which will prompt the user\n",
    "to enter a binary number, and then convert this number into its\n",
    "decimal form, and then print the result as program output. Your code\n",
    "should not use pythons builtin conversion function, instead, the point\n",
    "of this exercise is to use your own coding skills.  Your program\n",
    "output should look something like this\n",
    "\n",
    "    Please enter a binary number, or stop this program with 's'\n",
    "    \n",
    "    0010\n",
    "    \n",
    "    Converting '0010' into decimal notation yields 2\n",
    "    \n",
    "    s\n",
    "    \n",
    "    Good bye\n",
    "\n",
    "Now, before doing so, let's first revisit some essential techniques: \n",
    "\n"
   ]
  },
  {
   "cell_type": "markdown",
   "metadata": {},
   "source": [
    "### Recap of doc-strings and type hinting\n",
    "\n"
   ]
  },
  {
   "cell_type": "markdown",
   "metadata": {},
   "source": [
    "For this coding project, we will use doc-strings and type-hinting. We used\n",
    "both before, but let's consider their use before we start coding.\n",
    "\n"
   ]
  },
  {
   "cell_type": "markdown",
   "metadata": {},
   "source": [
    "#### Python Doc Strings\n",
    "\n"
   ]
  },
  {
   "cell_type": "markdown",
   "metadata": {},
   "source": [
    "\\index{Python!Doc Strings} \\index{Doc Strings}\n",
    "\\index{Python!Code!Comments} \\index{Comments} \\index{Code!Comments}\n",
    "\\index{Code!Doc Strings} You already encountered the hashtag sign,\n",
    "\\index{ hashtag!Symbol}, which signifies a comment in the code (i.e.,\n",
    "everything after the hashtag is ignored). Python provides a second\n",
    "mechanism to add comments into the code, the so-called\n",
    "\"doc-strings\". Unlike regular comments, doc-strings will be used by\n",
    "the `help()` command \\index{Functions!help()} \\index{help()}, and they\n",
    "can span multiple lines. Going forward, each of your programs (as\n",
    "opposed to snippets) should start with a doc-string, which contains a\n",
    "short text about what the program does, and how to use it, and who authored\n",
    "it. Doc-string start and end with triple quotation marks. Doc-strings\n",
    "should only be used at the beginning of a program (or function).\n",
    "\n"
   ]
  },
  {
   "cell_type": "code",
   "execution_count": 1,
   "metadata": {},
   "outputs": [],
   "source": [
    "def myfunction():\n",
    "    \"\"\" This is a single line doc-string\"\"\"\n",
    "    \"\"\"\n",
    "    This is a multiline docs string.\n",
    "    \n",
    "    If you want to separate a paragraph, you need to leave an empty line.\n",
    "    This function does nothing\n",
    "    \"\"\"\n",
    "    pass"
   ]
  },
  {
   "cell_type": "markdown",
   "metadata": {},
   "source": [
    "#### Type hinting\n",
    "\n"
   ]
  },
  {
   "cell_type": "markdown",
   "metadata": {},
   "source": [
    "\\index{Type Hinting} Python is a dynamically typed language. That is,\n",
    "the type of variable (int, float, string), is determined at the time\n",
    "you assign it a value. This makes for fast coding, but when reading\n",
    "code written by other people, it is thus often difficult to understand\n",
    "what the code is doing. Python provides so called type hints, to help\n",
    "with this situation. Typically, this is overkill for a short script,\n",
    "but the minute you start working on larger projects or in a team, it\n",
    "greatly helps clarity.\n",
    "\n"
   ]
  },
  {
   "cell_type": "code",
   "execution_count": 1,
   "metadata": {},
   "outputs": [],
   "source": [
    "a = 12\n",
    "l = [1, 4, 6]\n",
    "t = (4, 9, 1)\n",
    "s = \"\"\n",
    "# This should be written as\n",
    "a :int   = 12\n",
    "l :list  = [1, 4, 6]\n",
    "t :tuple = (4, 9, 1)\n",
    "s :str   = \"\""
   ]
  },
  {
   "cell_type": "markdown",
   "metadata": {},
   "source": [
    "Note, that python ignores the type hints, so this will not prevent you\n",
    "from doing something like this:\n",
    "\n"
   ]
  },
  {
   "cell_type": "code",
   "execution_count": 1,
   "metadata": {},
   "outputs": [],
   "source": [
    "a :int   = 12\n",
    "a = \"ssdsd\""
   ]
  },
  {
   "cell_type": "markdown",
   "metadata": {},
   "source": [
    "but your code will become more readable. Also, some automatic syntax\n",
    "checkers will then flag the second line. So as a baseline, whenever\n",
    "you declare a variable, use type hinting from now on.\n",
    "\n"
   ]
  },
  {
   "cell_type": "markdown",
   "metadata": {},
   "source": [
    "### Plan of attack\n",
    "\n"
   ]
  },
  {
   "cell_type": "markdown",
   "metadata": {},
   "source": [
    "Now, how do we go about this? Look up the module on\n",
    "problem-solving, and then follow the steps:\n",
    "\n",
    "1.  Create a plan (best is to start with a notebook section called \"Plan\", and then make list for each point):\n",
    "2.  Restate the problem\n",
    "3.  Divide the problem. Write down each substep, even if you don't\n",
    "    know yet how to implement a given step.\n",
    "\n",
    "4.  Start with what you know (and look for analogies). Have any of\n",
    "    these steps been encountered before? If so, look up what you have\n",
    "    learned before (at the very least, you have seen how to ask for\n",
    "    user input, and we did a module on decimal to binary conversion).\n",
    "\n",
    "5.  Reduce the problem, in this case, write code for each sub step, and test the code individually,\n",
    "\n",
    "6.  If each of those work as expected, start combining them (use the\n",
    "    submission template).\n",
    "\n",
    "7.  Last but not least, don't get frustrated. These exercise are\n",
    "    meant for you to struggle, but if after 10 minutes you are still\n",
    "    lost, post your problem in the discussion board on Quercus, and\n",
    "    if all else fails, talk to the instructor or TA. Asking and\n",
    "    explaining to others what is not working forces you to restate\n",
    "    the problem, and often leads to progress.\n",
    "\n",
    "Once you have a working code, test that it works. Particularly boundary cases like:\n",
    "\n",
    "-   \"0\"\n",
    "-   \"1\"\n",
    "-   \"00\"\n",
    "-   \"01\"\n",
    "-   \"10\"\n",
    "-   \"11\"\n",
    "\n",
    "next, add a section to your program doc-string which explains what\n",
    "your program will not do, e.g., what will happen if you enter:\n",
    "\n",
    "-   \"-011\"\n",
    "-   \"123\"\n",
    "-   \"xwz\"\n",
    "\n",
    "More power to you if your program knows what to do with this, but for\n",
    "this exercise, it is sufficient if you document that these cases are\n",
    "not handled.\n",
    "\n"
   ]
  },
  {
   "cell_type": "markdown",
   "metadata": {},
   "source": [
    "### Submission instructions and marking scheme\n",
    "\n"
   ]
  },
  {
   "cell_type": "markdown",
   "metadata": {},
   "source": [
    "Please use the below template for your submission. You can copy this\n",
    "notebook to your submissions folder, or create the same sections in a\n",
    "new notebook. Please name your copy\n",
    "\"bin2dec-FirstName-LastName\".\n",
    "\n",
    "To submit your assignment, you need to download it and submit it to Quercus\n",
    "in notebook and PDF format. You can delete this and the preceding paragraph\n",
    "afterward.\n",
    "\n",
    "-   Correct notebook name: 1pt\n",
    "-   Required notebook headers 1pt\n",
    "-   Code planning: 1 pt per section, 2 pts if the individual code sections are present, and work as expected. 4 pts total.\n",
    "-   Code:\n",
    "    -   Proper docstrings where appropriate 2pts\n",
    "    -   Correct variables definitions (2pt)\n",
    "    -   Type hinting used throughout 2pt\n",
    "    -   Working code: 4pt\n",
    "    -   Output as requested: 4pt\n",
    "    -   Output is correct: 4 pts\n",
    "\n",
    "Total = 24 pts\n",
    "\n"
   ]
  },
  {
   "cell_type": "markdown",
   "metadata": {},
   "source": [
    "### Submission template\n",
    "\n"
   ]
  },
  {
   "cell_type": "markdown",
   "metadata": {},
   "source": [
    "Add the usual headers here\n",
    "\n"
   ]
  },
  {
   "cell_type": "markdown",
   "metadata": {},
   "source": [
    "#### Code Plan\n",
    "\n"
   ]
  },
  {
   "cell_type": "markdown",
   "metadata": {},
   "source": [
    "1.  Restate the problem in your own words:\n",
    "    1.  Enumerate the individual substeps, and create a code cell for\n",
    "        each step. Use these cells to enter your actual code and to test it:\n",
    "        1.  xxxxx\n",
    "\n"
   ]
  },
  {
   "cell_type": "code",
   "execution_count": 1,
   "metadata": {},
   "outputs": [],
   "source": [
    "# your first code piece here"
   ]
  },
  {
   "cell_type": "markdown",
   "metadata": {},
   "source": [
    "1.  yyyyy\n",
    "\n"
   ]
  },
  {
   "cell_type": "markdown",
   "metadata": {},
   "source": [
    "### Final code\n",
    "\n"
   ]
  },
  {
   "cell_type": "markdown",
   "metadata": {},
   "source": [
    "Use this template for your final code\n",
    "\n"
   ]
  },
  {
   "cell_type": "code",
   "execution_count": 1,
   "metadata": {},
   "outputs": [],
   "source": [
    "\"\"\" Description:\n",
    "Purpose\n",
    "Example\n",
    "Limitations\n",
    "Author:\n",
    "Date:\n",
    "\"\"\"\n",
    "\n",
    "# ----------- functions definitions  -----------------------\n",
    "\n",
    "# ----------- main program ---------------------------------\n",
    "# --- variable declarations\n",
    "\n",
    "# --- code starts here"
   ]
  }
 ],
 "metadata": {
  "kernelspec": {
   "display_name": "Python 3",
   "language": "python",
   "name": "python3"
  },
  "language_info": {
   "codemirror_mode": {
    "name": "ipython",
    "version": 3
   },
   "file_extension": ".py",
   "mimetype": "text/x-python",
   "name": "python",
   "nbconvert_exporter": "python",
   "pygments_lexer": "ipython3",
   "version": "3.7.6"
  },
  "org": null
 },
 "nbformat": 4,
 "nbformat_minor": 1
}
