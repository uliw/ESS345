{
 "cells": [
  {
   "cell_type": "markdown",
   "metadata": {
    "slideshow": {
     "slide_type": "slide"
    }
   },
   "source": [
    "## Binary to decimal conversion\n",
    "\n"
   ]
  },
  {
   "cell_type": "markdown",
   "metadata": {},
   "source": [
    "You must copy this notebook to your submissions folder before editing\n",
    "it. Otherwise, your edits may be overwritten the next time you log\n",
    "into syzygy. Please name your copy\n",
    "\"print-function-FirstName-LastName\". \n",
    "\n",
    "You can delete this and the preceding paragraph afterwards. In order\n",
    "to submit your assignment, you need to download it and submit it on\n",
    "Quercus. If you want comments on your code, additionally save the\n",
    "notebook in pdf-format. Note, pdf export will flatten any lists. For\n",
    "the time being, we will live with this.\n",
    "\n",
    "**Date:**\n",
    "\n",
    "**First Name:**\n",
    "\n",
    "**Last Name:**\n",
    "\n",
    "**Student: Id**\n",
    "\n"
   ]
  },
  {
   "cell_type": "markdown",
   "metadata": {
    "slideshow": {
     "slide_type": "slide"
    }
   },
   "source": [
    "### Code Planning\n",
    "\n"
   ]
  },
  {
   "cell_type": "markdown",
   "metadata": {},
   "source": [
    "#### What is the code supposed to do\n",
    "\n"
   ]
  },
  {
   "cell_type": "markdown",
   "metadata": {},
   "source": [
    "This code will interpret a string which consists of zeros and ones as\n",
    "binary number, and convert it into its decimal equivalent. The result\n",
    "will be printed on the screen\n",
    "\n"
   ]
  },
  {
   "cell_type": "markdown",
   "metadata": {},
   "source": [
    "#### What it will it not do\n",
    "\n"
   ]
  },
  {
   "cell_type": "markdown",
   "metadata": {},
   "source": [
    "This program will do no sanity checks on the input. This program does\n",
    "not provide interactive user input. The binary value has to be\n",
    "specified as parameter inside the code\n",
    "\n"
   ]
  },
  {
   "cell_type": "markdown",
   "metadata": {},
   "source": [
    "#### What data structures are required\n",
    "\n"
   ]
  },
  {
   "cell_type": "markdown",
   "metadata": {},
   "source": [
    "-   Input: String which contains the binary number\n",
    "-   Output: Integer wich contains the result, f-string for the print\n",
    "    statement\n",
    "-   Internally: String which contains the reverse of the input string\n",
    "\n"
   ]
  },
  {
   "cell_type": "markdown",
   "metadata": {
    "slideshow": {
     "slide_type": "slide"
    }
   },
   "source": [
    "#### What is your test case\n",
    "\n"
   ]
  },
  {
   "cell_type": "markdown",
   "metadata": {},
   "source": [
    "-   \"01001\"\n",
    "-   \"100\"\n",
    "-   \"001\"\n",
    "-   \"0\"\n",
    "-   \"1\"\n",
    "\n"
   ]
  },
  {
   "cell_type": "markdown",
   "metadata": {
    "slideshow": {
     "slide_type": "slide"
    }
   },
   "source": [
    "#### Pseudo-Code\n",
    "\n"
   ]
  },
  {
   "cell_type": "markdown",
   "metadata": {},
   "source": [
    "Use nested lists to refine the steps required for your project\n",
    "\n",
    "-   Provide a python doc string with a help text\n",
    "-   take binary number as string and reverse it\n",
    "-   loop over each element in string\n",
    "    -   count the number of loops\n",
    "    -   calculate 2 to the power of the loop count\n",
    "    -   add this to the result for each list element which equals 1\n",
    "-   print the result\n",
    "\n"
   ]
  },
  {
   "cell_type": "markdown",
   "metadata": {
    "slideshow": {
     "slide_type": "slide"
    }
   },
   "source": [
    "### Code\n",
    "\n"
   ]
  },
  {
   "cell_type": "code",
   "execution_count": 1,
   "metadata": {},
   "outputs": [],
   "source": [
    "def main():\n",
    "    \"\"\"\n",
    "    Program Name: bin_2_dec\n",
    "    \n",
    "    Program Description: This program will convert a string containing a\n",
    "    binary number and print it's decimal value onto the screen\n",
    "    \n",
    "    Arguments: None, input is specified as parameter in the code\n",
    "    \n",
    "    Author: Uli Wortmann uli.wortmann@utoronto.ca\n",
    "    \n",
    "    Version: 0.1\n",
    "    \n",
    "    Copyright: 2019 Uli Wortmann\n",
    "    \n",
    "    License: GPL\n",
    "    \n",
    "    \"\"\"\n",
    "    # Parameters, i.e., variables you expect to change frequently\n",
    "    b :str = \"01001\"  # string with a binary number\n",
    "    \n",
    "    # Scalar Variables\n",
    "    d :int = 0 # the result of the conversion\n",
    "    n :int = 0 # index of element in b_t\n",
    "    p :int = 0 # p = 2^n\n",
    "    \n",
    "    # Complex data types\n",
    "    b_r :str    = b[::-1] # a string with the reverse of b\n",
    "    result :str = f\"\"  # fstring to display the result\n",
    "    \n",
    "    # --------------------- Code -------------------*\n",
    "    for i in b_r:\n",
    "        if i == \"1\":\n",
    "            p = 2 ** n\n",
    "            d = d + p\n",
    "            n = n + 1\n",
    "            \n",
    "            result = f\"{b} = {d} in decimal notation\"\n",
    "    print(result)"
   ]
  },
  {
   "cell_type": "code",
   "execution_count": 2,
   "metadata": {},
   "outputs": [
    {
     "name": "stdout",
     "output_type": "stream",
     "text": [
      "01001 = 3 in decimal notation\n"
     ]
    }
   ],
   "source": [
    "main()\n",
    "\n"
   ]
  },
  {
   "cell_type": "code",
   "execution_count": 4,
   "metadata": {},
   "outputs": [
    {
     "name": "stdout",
     "output_type": "stream",
     "text": [
      "Help on function main in module __main__:\n",
      "\n",
      "main()\n",
      "    Program Name: bin_2_dec\n",
      "    \n",
      "    Program Description: This program will convert a string containing a\n",
      "    binary number and print it's decimal value onto the screen\n",
      "    \n",
      "    Arguments: None, input is specified as parameter in the code\n",
      "    \n",
      "    Author: Uli Wortmann uli.wortmann@utoronto.ca\n",
      "    \n",
      "    Version: 0.1\n",
      "    \n",
      "    Copyright: 2019 Uli Wortmann\n",
      "    \n",
      "    License: GPL\n",
      "\n"
     ]
    }
   ],
   "source": [
    "help(main)"
   ]
  },
  {
   "cell_type": "code",
   "execution_count": null,
   "metadata": {},
   "outputs": [],
   "source": []
  }
 ],
 "metadata": {
  "kernelspec": {
   "display_name": "Python 3",
   "language": "python",
   "name": "python3"
  },
  "language_info": {
   "codemirror_mode": {
    "name": "ipython",
    "version": 3
   },
   "file_extension": ".py",
   "mimetype": "text/x-python",
   "name": "python",
   "nbconvert_exporter": "python",
   "pygments_lexer": "ipython3",
   "version": "3.7.3"
  },
  "org": null
 },
 "nbformat": 4,
 "nbformat_minor": 1
}
