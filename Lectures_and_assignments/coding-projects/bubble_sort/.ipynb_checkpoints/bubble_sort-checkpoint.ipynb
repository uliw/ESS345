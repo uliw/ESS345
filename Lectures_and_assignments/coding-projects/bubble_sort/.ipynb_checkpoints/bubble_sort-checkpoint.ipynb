{
 "cells": [
  {
   "cell_type": "markdown",
   "metadata": {},
   "source": [
    "## Sorting a list\n",
    "\n"
   ]
  },
  {
   "cell_type": "markdown",
   "metadata": {},
   "source": [
    "There are many ways to sort a list of numbers. Some are fast, some\n",
    "require plenty of memory, and most are pretty complex in order to be\n",
    "fast without consuming to much memory. Here, we will use a slow, but\n",
    "simple algorithm, the so called bubble sort. Consider the following\n",
    "list of objects (imagine them as little towers with different heights,\n",
    "where the number of stacked X's represents the height of the\n",
    "towers). The characters a the bottom are the respective names of the\n",
    "towers.\n",
    "\n",
    "             X\n",
    "             X X   X\n",
    "           X X X X X\n",
    "           X X X X X X\n",
    "    Name:  A B C D E F\n",
    "\n",
    "In order to sort this list by height, we first compare the first and\n",
    "second element (`A` & `B`). Since `A` is smaller than `B`, no action\n",
    "is required. Next we compare the second and third element (`B` and\n",
    "`C`). Since `B` is taller than `C`, it is clearly out of order. We can\n",
    "rectify this by switching the order of `B` & `C` to `C` and `B`\n",
    "\n",
    "               X\n",
    "             X X   X\n",
    "           X X X X X\n",
    "           X X X X X X\n",
    "    Name:  A C B D E F\n",
    "\n",
    "Next we continue with the third and fourth element. Clearly, `B` is\n",
    "taller than `D`. So we swap positions again and get\n",
    "\n",
    "                 X\n",
    "             X   X X\n",
    "           X X X X X\n",
    "           X X X X X X\n",
    "    Name:  A C D B E F\n",
    "\n",
    "Now for the fourth and fifth element. Again, `B` is taller than\n",
    "`E`. So we swap both\n",
    "\n",
    "                   X\n",
    "             X   X X\n",
    "           X X X X X\n",
    "           X X X X X X\n",
    "    Name:  A C D E B F\n",
    "\n",
    "and finally for the last two elements. Again, `B` is taller than\n",
    "`F`. So we need to do another swap, and get\n",
    "\n",
    "                     X\n",
    "             X   X   X\n",
    "           X X X X   X\n",
    "           X X X X X X\n",
    "    Name:  A C D E F B\n",
    "    Index: 1 2 3 4 5 6\n",
    "\n",
    "As you can see, this list is not fully sorted yet. All we achieved is\n",
    "that the tallest tower has been moved to the end. This is however an\n",
    "improvement over the original list. If we repeat this process, we will\n",
    "move the second tallest tower to the right until it will be in front\n",
    "of B. We can repeat this process until the list is fully sorted.\n",
    "\n"
   ]
  },
  {
   "cell_type": "markdown",
   "metadata": {},
   "source": [
    "### How do I solve this?\n",
    "\n"
   ]
  },
  {
   "cell_type": "markdown",
   "metadata": {},
   "source": [
    "In order to transform the above into computer code, lets first\n",
    "consider what kind of decisions/actions have to be made in order to\n",
    "sort the list:\n",
    "\n",
    "1.  Do I want to panic or not? If yes, take a break and come back in\n",
    "    10 minutes. If no, continue with #2\n",
    "\n",
    "2.  What kind of list am I dealing with? Rather than using towers, we\n",
    "    will use a list with numbers which we want sort in ascending order.\n",
    "\n",
    "3.  What are the principal actions in the bubble sort method? A)\n",
    "    Compare two elements of a list; B) Swap two elements of a list.\n",
    "\n",
    "4.  Do I know how to compare two list elements? If no, go back to the\n",
    "    working with lists exercise, if yes, can you do this for each list\n",
    "    element? If no, go back to the chapter on loops. If yes, continue.\n",
    "5.  Do I know how to swap two elements in a list? If no, see below.\n",
    "\n",
    "Clearly, the keypart of this problem is to write a function which\n",
    "swaps two elements of a list.\n",
    "\n"
   ]
  },
  {
   "cell_type": "markdown",
   "metadata": {},
   "source": [
    "### How do I program this?\n",
    "\n"
   ]
  },
  {
   "cell_type": "markdown",
   "metadata": {},
   "source": [
    "The assignment is to write a program which will sort the following\n",
    "list in ascending order:\n",
    "\n"
   ]
  },
  {
   "cell_type": "code",
   "execution_count": 1,
   "metadata": {},
   "outputs": [],
   "source": [
    "l :list = [1, 3, 2, 10, 3, 8, 7, 5, 6, 12, 11 ,4]"
   ]
  },
  {
   "cell_type": "markdown",
   "metadata": {},
   "source": [
    "#### What are the program elements I need?\n",
    "\n"
   ]
  },
  {
   "cell_type": "markdown",
   "metadata": {},
   "source": [
    "By now, you probably have some vague ideas how to solve this. Likely,\n",
    "you will need a list of numbers, a loop which works through the list,\n",
    "do some comparisons etc.. So what are the program elements you need?\n",
    "\n",
    "1.  The list `l` (see above)\n",
    "2.  A for loop and a counter `i` so that you can access each list\n",
    "    element and the element to the right of this element (i.e., `l[i]`\n",
    "    and `l[i+1]`).\n",
    "3.  An if statement which decides whether `l[i] > l[i+1]` or not.\n",
    "4.  A swap statement (see below)\n",
    "5.  From the above, it is also clear, that you may have to repeat the\n",
    "    bubble sort until the list is fully sorted. These kind of open\n",
    "    ended operations are well suited to while loops, which ends when\n",
    "    the list is sorted.\n",
    "\n"
   ]
  },
  {
   "cell_type": "markdown",
   "metadata": {},
   "source": [
    "#### How do I structure my code?\n",
    "\n"
   ]
  },
  {
   "cell_type": "markdown",
   "metadata": {},
   "source": [
    "You may recall, that is usually a good idea to avoid\n",
    "complexity. Rather you want to design your code in small chunks which\n",
    "you can test individually.  This can be either done by starting with\n",
    "the overall code structure, and then breaking it down into chunks, e.g.\n",
    "\n",
    "    While loop which executes until all elements are sorted\n",
    "          for loop which does a single pass bubble sort\n",
    "              is swap needed\n",
    "                 swaw\n",
    "    \t     \n",
    "          decide if we need another pass, \n",
    "          or whether we can end the while loop\n",
    "\n",
    "or by starting with the code fragments you will need, i.e.,\n",
    "\n",
    "    write code which does the swap\n",
    "    test this\n",
    "    \n",
    "    write code which does a single pass bubble sort\n",
    "    test this\n",
    "    \n",
    "    embed this code into a while loop\n",
    "    test this\n",
    "\n",
    "Which approach you choose, depends on the programming problem.  In\n",
    "this case the termination of the while loop depends on the result of\n",
    "the for loop which does the bubble sort, which itself depends on the\n",
    "ability to swap numbers.  So to me, it seems easier to start with the\n",
    "swapping, followed by the bubble-sort, followed by the while loop.\n",
    "\n",
    "Next, we need to decide whether we write the code bits as functions,\n",
    "or whether we all mangle it together. This is a personal choice, and\n",
    "it will vary with experience. However your code will be easier to read\n",
    "and easier to test, if you break it down into functions. So you will\n",
    "need to create the following functions:\n",
    "\n",
    "-   `swap_list_elements`\n",
    "-   `single_pass_bubble_sort`\n",
    "-   `bubble_sort`\n",
    "\n"
   ]
  },
  {
   "cell_type": "markdown",
   "metadata": {},
   "source": [
    "##### Swapping numbers\n",
    "\n"
   ]
  },
  {
   "cell_type": "markdown",
   "metadata": {},
   "source": [
    "Here I will provide the code to swap numbers, since it is not obvious\n",
    "that this is way to go\n",
    "\n"
   ]
  },
  {
   "cell_type": "code",
   "execution_count": 1,
   "metadata": {},
   "outputs": [],
   "source": [
    "a :int = 12\n",
    "b :int = 4\n",
    "print(a,b)\n",
    "b, a = a, b # swap the values of a and b\n",
    "print(a,b)"
   ]
  },
  {
   "cell_type": "markdown",
   "metadata": {},
   "source": [
    "If want to encapsulate this into a function, consider what parameters\n",
    "need to be passed, and what kind of return values do we need to pass\n",
    "back? Clearly, the function will need access to the list, and it needs\n",
    "to know the index-numbers of the elements you want to swap.\n",
    "\n",
    "You may recall, that what happens in a function, stays in a\n",
    "function. But you may also recall, that function arguments are passed\n",
    "as reference. So we do not pass the list values, rather we pass the\n",
    "location where the list is stored. This opens a door to something like this:\n",
    "\n"
   ]
  },
  {
   "cell_type": "code",
   "execution_count": 1,
   "metadata": {},
   "outputs": [],
   "source": [
    "def mydef(l :list):\n",
    "    \"\"\" Demonstrate how lists are passed by reference, and not by value\n",
    "    \"\"\"\n",
    "    l[1] = \"a\"\n",
    "\n",
    "# --- code\n",
    "ml :list = [1, 2, 3]\n",
    "mydef(ml)\n",
    "print(ml)"
   ]
  },
  {
   "cell_type": "markdown",
   "metadata": {},
   "source": [
    "uggh, so the function is able to modify the list without explicitly\n",
    "returning the changed list. This is possible because pythons lists are\n",
    "a mutable data type (this would not work with a tuple, please try the\n",
    "above statements with a tuple). Programmers refer to this as a \"side\n",
    "effect\". Side effects should be avoided like the plague since they\n",
    "create hard to debug code. So, to do this properly, we need to pass a\n",
    "copy of the list, rather then the reference.  We can do this the\n",
    "builtin `list()` function. This function simply creates a new list\n",
    "from whatever list is provided as argument.\n",
    "\n"
   ]
  },
  {
   "cell_type": "code",
   "execution_count": 1,
   "metadata": {},
   "outputs": [],
   "source": [
    "def mydef(l :list):\n",
    "    \"\"\" Demonstrate how lists are passed by reference, and not by value\n",
    "    \"\"\"\n",
    "    l[1] = \"a\"\n",
    "\n",
    "# --- code\n",
    "ml :list = [1, 2, 3]\n",
    "mydef(list(ml)) # pass a copy of the list, rather then the reference\n",
    "print(ml)"
   ]
  },
  {
   "cell_type": "markdown",
   "metadata": {},
   "source": [
    "Now all you need to do is to add a return statement to return the changed list:\n",
    "\n"
   ]
  },
  {
   "cell_type": "code",
   "execution_count": 1,
   "metadata": {},
   "outputs": [],
   "source": [
    "def mydef(l :list) -> list:\n",
    "    \"\"\" Demonstrate how lists are passed by reference, and not by value\n",
    "    \"\"\"\n",
    "    l[1] = \"a\"\n",
    "    return l\n",
    "\n",
    "# --- code\n",
    "ml :list = [1, 2, 3]\n",
    "ml = mydef(list(ml)) # pass a copy of the list, rather then the reference\n",
    "print(ml)"
   ]
  },
  {
   "cell_type": "markdown",
   "metadata": {},
   "source": [
    "Yes, this code is longer then the initial example, but it is also much\n",
    "cleaner, since you explicitly state that you pass a copy of `ml`, and\n",
    "then overwrite `ml` with the return value of `mydef()`.  OK, I think\n",
    "you are ready to write and test your swap function.\n",
    "\n"
   ]
  },
  {
   "cell_type": "markdown",
   "metadata": {},
   "source": [
    "##### Single pass bubble sort\n",
    "\n"
   ]
  },
  {
   "cell_type": "markdown",
   "metadata": {},
   "source": [
    "Now that your swapping code works, you can forget everything about it,\n",
    "an focus your attention on the next step, the bubble sort function. If\n",
    "you already forgot what is this about, go back to the top of this\n",
    "document.\n",
    "\n",
    "-   What are the arguments you need to pass to the single pass bubble\n",
    "    sort function? -> A list\n",
    "-   What are the return values(s) you need to pass to the calling code\n",
    "    -> A modified list, and what else? Here you need to consider how\n",
    "    the calling code will decide if another sorting pass is needed? Is\n",
    "    there some sort of information which will be useful towards this\n",
    "    end, which you can pass back to the while loop?\n",
    "\n",
    "If a python function returns more than one value, it does so by\n",
    "returning a tuple. Tuple annotation is not yet fully implemented in\n",
    "python 3, so we need to import the typing library first, and we can\n",
    "then write a properly annotated function skeleton\n",
    "\n"
   ]
  },
  {
   "cell_type": "code",
   "execution_count": 1,
   "metadata": {},
   "outputs": [],
   "source": [
    "from typing import Tuple\n",
    "\n",
    "\n",
    "def single_pass_bubble_sort(l: list) -> Tuple[list, bool]:\n",
    "    \"\"\"\n",
    "    \"\"\"\n",
    "    complete = False\n",
    "    return (l, complete)"
   ]
  },
  {
   "cell_type": "markdown",
   "metadata": {},
   "source": [
    "Test your single pass sorting code with a statement like this:\n",
    "\n",
    "    print(l)\n",
    "    a,l=single_pass_bubble_sort(l)\n",
    "    print(l)\n",
    "\n",
    "If all works well, the largest value should become the last value in\n",
    "the list.\n",
    "\n"
   ]
  },
  {
   "cell_type": "markdown",
   "metadata": {},
   "source": [
    "##### The while loop\n",
    "\n"
   ]
  },
  {
   "cell_type": "markdown",
   "metadata": {},
   "source": [
    "Again, forget everything about the internal workings of the single\n",
    "pass bubble sort, and consider how to structure your while loop.  How\n",
    "long does it have to run, and how will you decide whether it should\n",
    "stop?  Wrap your while loop into a function called `bubble_sort` and\n",
    "test you code with these statements:\n",
    "\n"
   ]
  },
  {
   "cell_type": "code",
   "execution_count": 1,
   "metadata": {},
   "outputs": [],
   "source": [
    "from typing import Tuple\n",
    "\n",
    "l :list = [1, 3, 2, 10,3, 8, 7, 5, 6, 12, 11 ,4]\n",
    "print(l)\n",
    "l = bubble_sort(l)\n",
    "print(l)"
   ]
  },
  {
   "cell_type": "markdown",
   "metadata": {},
   "source": [
    "### Notes\n",
    "\n"
   ]
  },
  {
   "cell_type": "markdown",
   "metadata": {},
   "source": [
    "-   If things don't go as expected, use print statements to trace\n",
    "    what goes wrong.\n",
    "    -   If your notebook cell shows an asterisk, it indicates that the\n",
    "        code is currently running. Likely a while loop with faulty\n",
    "        logic. (Says the wife to her programmer husband: while you are\n",
    "        out, can you get some milk? He never returned home&#x2026;. )  your Jupyter home directory, and\n",
    "        click on the \"Running\" tab, and close all running kernels. Open\n",
    "        your notebook, and recheck your logic. Maybe add some print\n",
    "        statements&#x2026;\n",
    "    -   For your final submission, use the coding template provided last\n",
    "        time. Re-work each subsection as necessary.\n",
    "    -   The idea is to practice functions, loops, if's, and passing\n",
    "        arguments back and forth&#x2026;\n",
    "    -   Last but not least, if you do get stuck, post your questions on\n",
    "        the quercus discussion board. I will check there Wednesday and\n",
    "        Thursday. Afterwards I will be offline until Friday the following\n",
    "        week.\n",
    "\n"
   ]
  },
  {
   "cell_type": "markdown",
   "metadata": {},
   "source": [
    "### Marking Scheme (34 pts)\n",
    "\n"
   ]
  },
  {
   "cell_type": "markdown",
   "metadata": {},
   "source": [
    "-   Correct notebook name: 1pt\n",
    "-   Required notebook header 1pt\n",
    "-   Code planning: 4pst\n",
    "-   Code:\n",
    "    -   Proper docstrings (functions, and program) 2 pst each for a total\n",
    "        of 8pt\n",
    "    -   Correct variable definitions 2 pts\n",
    "    -   Type hinting used throughout 8 pts\n",
    "    -   Working code: 2 pt for the swap code, 2 pt for the single pass\n",
    "        sorting, 2 pts for the bubble sort, 2 pts for the main code (8pts)\n",
    "    -   Code without functions is present 4pts\n",
    "    -   Code without functions is actually working 4pts\n",
    "\n"
   ]
  }
 ],
 "metadata": {
  "kernelspec": {
   "display_name": "Python 3",
   "language": "python",
   "name": "python3"
  },
  "language_info": {
   "codemirror_mode": {
    "name": "ipython",
    "version": 3
   },
   "file_extension": ".py",
   "mimetype": "text/x-python",
   "name": "python",
   "nbconvert_exporter": "python",
   "pygments_lexer": "ipython3",
   "version": "3.7.6"
  },
  "org": null
 },
 "nbformat": 4,
 "nbformat_minor": 1
}
