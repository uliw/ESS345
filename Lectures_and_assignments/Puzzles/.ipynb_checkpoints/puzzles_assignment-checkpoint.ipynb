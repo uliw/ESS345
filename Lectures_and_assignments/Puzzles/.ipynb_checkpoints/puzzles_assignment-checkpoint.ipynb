{
 "cells": [
  {
   "cell_type": "markdown",
   "metadata": {},
   "source": [
    "## Assignment\n",
    "\n"
   ]
  },
  {
   "cell_type": "markdown",
   "metadata": {},
   "source": [
    "Create a new notebook in your submissions folder named\n",
    "\"Puzzles-FirstName-LastName\".  For each puzzle, create one text cell\n",
    "which states the puzzle number followed by a single code cell which\n",
    "produces the desired output.  To submit your assignment, you need\n",
    "to download it and submit it on Quercus (please use pdf and notebook\n",
    "format). Your pdf version should show the output of your code cells.\n",
    "\n",
    "So, without further ado, lets put the above principles to work. For\n",
    "the purpose of training our problem solving skills, we will reduce the\n",
    "number of coding techniques, and only allow loops, counters,\n",
    "conditionals and print statements.  All the below exercises require\n",
    "you to create some python code which will match the output pattern\n",
    "shown in the particular question. The goal is to create these patterns\n",
    "with one or more loop statements (including loops which use the\n",
    "range function - if in doubt, go back to the previous chapters - note,\n",
    "your lecture script has an index). You are not allowed to use string\n",
    "manipulation. Furthermore, **your print statements can only be\n",
    "selected** **from the following thee options:**\n",
    "\n"
   ]
  },
  {
   "cell_type": "code",
   "execution_count": 1,
   "metadata": {},
   "outputs": [],
   "source": [
    "print(f\"X\", end=\"\") # this will print a single X without a linefeed\n",
    "print(f\" \", end=\"\") # this will print a single blank space without a\n",
    "                    # linefeed\n",
    "print(\"\") # this will print a linefeed"
   ]
  },
  {
   "cell_type": "markdown",
   "metadata": {},
   "source": [
    "**You are not allowed to use a print statement which contains more than one\n",
    "\"X\":**\n",
    "\n"
   ]
  },
  {
   "cell_type": "code",
   "execution_count": 1,
   "metadata": {},
   "outputs": [],
   "source": [
    "print(\"X\")  # ok\n",
    "print(\"XX\") # not ok"
   ]
  },
  {
   "cell_type": "markdown",
   "metadata": {},
   "source": [
    "1.  Write a program which use only two print statements (out of the\n",
    "    allowed 3) to create the output below. If you can't see the\n",
    "    immediate solution go to problem #2, which is the same question\n",
    "    but stated more simply.\n",
    "\n",
    "    XXXXX\n",
    "    XXXX\n",
    "    XXX\n",
    "    XX\n",
    "    X\n",
    "\n",
    "&nbsp;\n",
    "\n",
    "2.  Write a program which uses only two print statements out of the\n",
    "    allowed 3) to create the output below. If you can't see the\n",
    "    immediate solution go to problem #3 which is the same question but\n",
    "    in even further reduced form:\n",
    "\n",
    "    XXXXX\n",
    "    XXXXX\n",
    "    XXXXX\n",
    "    XXXXX\n",
    "    XXXXX\n",
    "\n",
    "3.  Write a program which uses only one print statement (out of the\n",
    "    allowed 3) to create this output:\n",
    "\n",
    "    XXXXX\n",
    "\n",
    "4.  Write a program which uses only two print statements (out of the\n",
    "    allowed 3)to create the output below. Initially, this may look\n",
    "    puzzling. But you probably recognize that you solved an analogous\n",
    "    problem in #1. So the only problem left to solve is to find a way\n",
    "    to count inside a loop first upwards to a certain number and then\n",
    "    from thereon backward.\n",
    "\n",
    "    X\n",
    "    XX\n",
    "    XXX\n",
    "    XXXX\n",
    "    XXX\n",
    "    XX\n",
    "    X\n",
    "\n",
    "5.  Write a program which uses no more than the three print statements\n",
    "    mentioned above (i.e., \"X\", ,\" \", and the linefeed to create the\n",
    "    following pattern\n",
    "\n",
    "    XXXXX\n",
    "     XXX\n",
    "      X\n",
    "\n",
    "6.[@6] Similar to 5, write a program which creates the following pattern\n",
    "\n",
    "      X\n",
    "     XXX\n",
    "    XXXXX\n",
    "     XXX\n",
    "      X\n",
    "\n",
    "7.  Similar to 6, write a program which creates the following\n",
    "    pattern. Your code can contain up to five print statements. Think\n",
    "    of it as a puzzle involving loops and counters. While it looks\n",
    "    complicated at first, try and decompose it into pieces you have\n",
    "    solved before (in fact, most of the code for this piece has been\n",
    "    used before). Once you have some ideas, create a game plan, and\n",
    "    solve it step by step (say start with the left side of the\n",
    "    figure&#x2026;).\n",
    "\n",
    "    X            X \n",
    "     XX        XX\n",
    "      XXX    XXX\n",
    "       XXXXXXXX\n",
    "       XXXXXXXX\n",
    "      XXX    XXX\n",
    "     XX        XX\n",
    "    X            X\n",
    "\n"
   ]
  },
  {
   "cell_type": "markdown",
   "metadata": {},
   "source": [
    "### Marking Scheme\n",
    "\n"
   ]
  },
  {
   "cell_type": "markdown",
   "metadata": {},
   "source": [
    "-   Proper file name for your submission files 2pts\n",
    "-   All needed headers in your submission files 2pts\n",
    "-   2 pts for each solution which follows the rules, and produces the\n",
    "    requested output. 1pt for each solution, which is at least 50% correct.\n",
    "-   Total points = 16 pts.\n",
    "\n"
   ]
  }
 ],
 "metadata": {
  "kernelspec": {
   "display_name": "Python 3",
   "language": "python",
   "name": "python3"
  },
  "language_info": {
   "codemirror_mode": {
    "name": "ipython",
    "version": 3
   },
   "file_extension": ".py",
   "mimetype": "text/x-python",
   "name": "python",
   "nbconvert_exporter": "python",
   "pygments_lexer": "ipython3",
   "version": "3.7.6"
  },
  "org": null
 },
 "nbformat": 4,
 "nbformat_minor": 1
}
