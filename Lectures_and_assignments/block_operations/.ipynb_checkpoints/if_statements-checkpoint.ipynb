{
 "cells": [
  {
   "cell_type": "markdown",
   "metadata": {},
   "source": [
    "## If statements\n",
    "\n"
   ]
  },
  {
   "cell_type": "markdown",
   "metadata": {},
   "source": [
    " The last\n",
    "module explored the use of comparison operators that return truth\n",
    "values. To branch the sequence of execution in our code depending on a\n",
    "given circumstance, we will need a statement that takes a truth\n",
    "(boolean)  value\n",
    "and allows us to create two groups of code. One gets executed if the\n",
    "statement is true, and another block gets executed when the statement\n",
    "is false.\n",
    "\n",
    "\n",
    "Most programming languages know a variation of the so-called if-then-else\n",
    "clause. The `if` part expects a truth value and executes the code followed after\n",
    "the `then` in case the value is `True`. In the case of a `False`, it will\n",
    "execute the part after the `else`. This is pretty straight forward, and the only\n",
    "other ingredient needed is a way to group programming code. \n",
    "\n",
    "**In python, all block statements end with a colon, and the code** group\n",
    "**following this black statement has to be indented.** You end the code\n",
    "\\*block by returning to the previous indention level. See this example:\n",
    "\n"
   ]
  },
  {
   "cell_type": "code",
   "execution_count": 1,
   "metadata": {},
   "outputs": [],
   "source": [
    "a = 10\n",
    "if a > 10:  # theh result of the comparison is either True or False\n",
    "    message = f\"a = {a} which is larger than 10\"\n",
    "else:\n",
    "    message = f\"a = {a} which is smaller than 10\"\n",
    "\n",
    "print(message)"
   ]
  },
  {
   "cell_type": "markdown",
   "metadata": {},
   "source": [
    "Note the use of the colon after the comparison statement. This colon indicates\n",
    "to python that you are starting a new code block. Your editor will then\n",
    "automatically indent the next statement. If it does not, you have some sort of\n",
    "syntax error. You will also note that the else statement is followed by a colon,\n",
    "indicating the beginning of the second code block. Last but not least, you will\n",
    "note that python has no keyword to end a block. The simple fact that the print\n",
    "statement has been moved back to the left indicates that the else block has ended.\n",
    "It is an easy mistake to change indentation and thus change the way your code\n",
    "works. To get a feel how your editor supports you in writing code blocks, the\n",
    "type the above example into this box, and execute your code\n",
    "\n"
   ]
  },
  {
   "cell_type": "code",
   "execution_count": 1,
   "metadata": {},
   "outputs": [],
   "source": [
    "a = 8"
   ]
  },
  {
   "cell_type": "markdown",
   "metadata": {},
   "source": [
    "Test your code with values which are larger than 10 to see if it indeed does\n",
    "what it is supposed to do. Next, change the indentation of the print statement,\n",
    "and execute your code again for values smaller and larger than 10.\n",
    "\n"
   ]
  },
  {
   "cell_type": "markdown",
   "metadata": {},
   "source": [
    "#### Multiway branching\n",
    "\n"
   ]
  },
  {
   "cell_type": "markdown",
   "metadata": {},
   "source": [
    " \n",
    "  If statements can contain more than one\n",
    "condition. Imagine you get data from some analytical machine which outputs the\n",
    "measured voltage between 0 and 50 volts. You also know that value below 2 V are\n",
    "not reliable, that value above 20 volt are not reliable, and that values of 50 V\n",
    "indicate a malfunction. This is achieved by the `elif` keyword which stands for\n",
    "\"else if\". Check the results of this code against voltage values of 0.2, 4, 22,\n",
    "and 55.\n",
    "\n"
   ]
  },
  {
   "cell_type": "code",
   "execution_count": 1,
   "metadata": {},
   "outputs": [],
   "source": [
    "voltage = 55\n",
    "if voltage < 2:\n",
    "    print(f\"Your sample is to small\")\n",
    "elif voltage > 2 and voltage < 20:\n",
    "    print(f\"Voltage = {voltage}V\")\n",
    "elif  voltage > 20 and voltage < 50:\n",
    "    print (f\"Your sample is to big\")\n",
    "elif voltage > 50:\n",
    "    print(\"---------------------------------\")\n",
    "    print (f\"\\n\\nAttention: Instrument malfunction!\\n\\n\")\n",
    "    print(\"---------------------------------\")\n",
    "else:\n",
    "     print (f\"You should never see this\")"
   ]
  },
  {
   "cell_type": "markdown",
   "metadata": {},
   "source": [
    "#### Nested blocks\n",
    "\n"
   ]
  },
  {
   "cell_type": "markdown",
   "metadata": {},
   "source": [
    "\n",
    "Code blocks can be nested into each other. We could e.g., rewrite the above example as\n",
    "\n"
   ]
  },
  {
   "cell_type": "code",
   "execution_count": 1,
   "metadata": {},
   "outputs": [],
   "source": [
    "voltage = 0.1\n",
    "if voltage < 50:\n",
    "    if voltage <= 20:\n",
    "        if voltage > 2:\n",
    "            print(f\"Voltage = {voltage}V\")\n",
    "        else:\n",
    "            print(f\"Your sample is to small\")\n",
    "    else:\n",
    "        print(f\"Your sample is to big\")\n",
    "else:\n",
    "    print(\"---------------------------------\")\n",
    "    print(f\"\\n\\nAttention: Instrument malfunction!\\n\\n\")\n",
    "    print(\"---------------------------------\")"
   ]
  },
  {
   "cell_type": "markdown",
   "metadata": {},
   "source": [
    "As you can see, the nested block has simply shifted another\n",
    "indentation level to the right. Also note, that this code is\n",
    "functionally equivalent to the previous example, but it is much harder\n",
    "to figure out what it does.  Similar to joining comparison operators\n",
    "with logic operators, it pays to carefully think about the required\n",
    "logic, and simplify it is much as possible.\n",
    "\n"
   ]
  },
  {
   "cell_type": "markdown",
   "metadata": {},
   "source": [
    "#### Pitfalls\n",
    "\n"
   ]
  },
  {
   "cell_type": "markdown",
   "metadata": {},
   "source": [
    "\n",
    "  The execution of\n",
    "multiway branching statements stops with the first true condition. As\n",
    "such, conditional statements that follow afterward may never be\n",
    "tested. Care is needed in designing such statements.\n",
    "\n"
   ]
  },
  {
   "cell_type": "markdown",
   "metadata": {},
   "source": [
    "#### The pass statement\n",
    "\n"
   ]
  },
  {
   "cell_type": "markdown",
   "metadata": {},
   "source": [
    " Sometimes you need to write code where\n",
    "the truth value requires no action, and only the else part contains code. Simply\n",
    "omitting the code will cause a and indentation error because there is no code\n",
    "after the `if`\n",
    "\n"
   ]
  },
  {
   "cell_type": "code",
   "execution_count": 1,
   "metadata": {},
   "outputs": [],
   "source": [
    "a = 14\n",
    "if a < 12:\n",
    "else:\n",
    "    a = a * 12\n",
    "    print(a)"
   ]
  },
  {
   "cell_type": "markdown",
   "metadata": {},
   "source": [
    "In this case, all we need to do is to add the `pass` statement\n",
    "Unlike a comment, this is an actual python command, which does\n",
    "nothing (try to use a comment instead).\n",
    "\n"
   ]
  },
  {
   "cell_type": "code",
   "execution_count": 1,
   "metadata": {},
   "outputs": [],
   "source": [
    "a = 14\n",
    "if a < 12:\n",
    "    pass\n",
    "else:\n",
    "    a = a * 12\n",
    "    print(a)"
   ]
  },
  {
   "cell_type": "markdown",
   "metadata": {},
   "source": [
    "If you are really on the ball, you will have noticed that we also\n",
    "could have used the `not` statement:\n",
    "\n"
   ]
  },
  {
   "cell_type": "code",
   "execution_count": 1,
   "metadata": {},
   "outputs": [],
   "source": [
    "a = 14\n",
    "if not (a < 12):\n",
    "    a = a * 12\n",
    "    print(a)"
   ]
  },
  {
   "cell_type": "markdown",
   "metadata": {},
   "source": [
    "which will work just fine. While more compact, it requires a bit more\n",
    "thinking to figure out what is going on. My advice is to use pass, and\n",
    "avoid negation where possible.\n",
    "\n"
   ]
  },
  {
   "cell_type": "markdown",
   "metadata": {},
   "source": [
    "### Ternary Statements\n",
    "\n"
   ]
  },
  {
   "cell_type": "markdown",
   "metadata": {},
   "source": [
    "\n",
    "Python supports an abbreviated form of writing logic and conditional\n",
    "expressions. Personally, I think they are bad style because it is not\n",
    "immediately obvious what the code is trying to achieve. However, you\n",
    "should be at least aware that this kind of syntax exists:\n",
    "\n"
   ]
  },
  {
   "cell_type": "code",
   "execution_count": 1,
   "metadata": {},
   "outputs": [],
   "source": [
    "a = ''\n",
    "b = 'Some text'\n",
    "c = \"more text\"\n",
    "x = a or b or c or None\n",
    "print(x)"
   ]
  },
  {
   "cell_type": "markdown",
   "metadata": {},
   "source": [
    "This assigns the value of the first non empty object to x.  Similarly, you can\n",
    "write\n",
    "\n"
   ]
  },
  {
   "cell_type": "code",
   "execution_count": 1,
   "metadata": {},
   "outputs": [],
   "source": [
    "a = 13\n",
    "b = 5\n",
    "x = 16 if a > 12 else 22\n",
    "print(x)"
   ]
  },
  {
   "cell_type": "markdown",
   "metadata": {},
   "source": [
    "explore this for various values of `a`\n",
    "\n",
    "BTW, why am I so obsessed with clarity versus brevity? As a\n",
    "programmer, you will spend 90% of your time looking at code trying to\n",
    "figure out what is going on in front of you., Only a small fraction of\n",
    "your time is spend creating code. There are in fact extremely powerful\n",
    "and elegant programming languages out there. But they never gained\n",
    "popularity because it is so hard to understand what the program is\n",
    "doing. A good example is IMB's APL (Advanced programming\n",
    "language). The following is a complete APL program which implements  [Conway's Game of Life](https://en.wikipedia.org/wiki/Conway%27s_Game_of_Life). \n",
    "\n",
    "![img](/home/uliw/user/toronto/teaching/ESS345/Tianshi/Screenshot_20200708_102345.png)\n",
    "\n",
    "pretty slick, but good luck understanding how this works.\n",
    "\n"
   ]
  }
 ],
 "metadata": {
  "kernelspec": {
   "display_name": "Python 3",
   "language": "python",
   "name": "python3"
  },
  "language_info": {
   "codemirror_mode": {
    "name": "ipython",
    "version": 3
   },
   "file_extension": ".py",
   "mimetype": "text/x-python",
   "name": "python",
   "nbconvert_exporter": "python",
   "pygments_lexer": "ipython3",
   "version": "3.7.6"
  },
  "org": null
 },
 "nbformat": 4,
 "nbformat_minor": 1
}
