{
 "cells": [
  {
   "cell_type": "markdown",
   "metadata": {},
   "source": [
    "## Loop statements\n",
    "\n"
   ]
  },
  {
   "cell_type": "markdown",
   "metadata": {},
   "source": [
    " Coding\n",
    "would be pretty pointless if we have to execute each piece of code\n",
    "manually. Being able to repeatedly apply some code to, e.g., each\n",
    "element of a list is where the true power of computing arises. We do\n",
    "this with the second class of block statements, the so-called loop\n",
    "statements. Consider the following list\n",
    "\n"
   ]
  },
  {
   "cell_type": "code",
   "execution_count": 1,
   "metadata": {},
   "outputs": [],
   "source": [
    "my_list = [\"Garnet\", \"Apatite\", \"Quartz\", \"Pyrite\"]"
   ]
  },
  {
   "cell_type": "markdown",
   "metadata": {},
   "source": [
    "and your task would be to print out each list element on a line by\n",
    "itself. Yes, you can write four print statements, but this will be tedious\n",
    "if you start dealing with longer list. It would be a lot simpler if we had\n",
    "a way to tell python to repeat a given action 4 times.\n",
    "\n"
   ]
  },
  {
   "cell_type": "markdown",
   "metadata": {},
   "source": [
    "### The for-loop\n",
    "\n"
   ]
  },
  {
   "cell_type": "markdown",
   "metadata": {},
   "source": [
    " Repeating a given set of instructions for a known number\n",
    "of repetitions, is the domain of the `for loop`.  You may recall that\n",
    "we can access list elements via their index, e.g., to access the\n",
    "second element we can write\n",
    "\n"
   ]
  },
  {
   "cell_type": "code",
   "execution_count": 1,
   "metadata": {},
   "outputs": [],
   "source": [
    "my_list[1]"
   ]
  },
  {
   "cell_type": "markdown",
   "metadata": {},
   "source": [
    "Rather than writing the number one, we can use the value of a variable as\n",
    "index (this is also known as indirection). Doing so, has the advantage that\n",
    "we can change this value during program execution.\n",
    "\n"
   ]
  },
  {
   "cell_type": "code",
   "execution_count": 1,
   "metadata": {},
   "outputs": [],
   "source": [
    "a = 1\n",
    "my_list[a]"
   ]
  },
  {
   "cell_type": "markdown",
   "metadata": {},
   "source": [
    "So to solve the task of printing each element of `my_list` we only\n",
    "need a way to repeat code a given number of times, and for each\n",
    "repetition, we increase the value of `a` by one (i.e., `a` effectively\n",
    "becomes a counter which increases by one, each time the loop is\n",
    "executed). \n",
    "\n",
    "Python has a variety of ways to execute loops. Most are more elegant\n",
    "then the example below, but for now, we do it the hard way.  In order\n",
    "to run a loop, we need to know the number of elements in our list. We\n",
    "can query the number of list elements with the `len()` function\n",
    ". Next we need a way to\n",
    "specify how many times we want python to execute the loop. For this we\n",
    "use the the `range()` function.  The range function takes three arguments,\n",
    "the start value, the stop value, and the step size. If set the start\n",
    "value to 0, the step size to 1, and the stop value equal to the number\n",
    "of elements in our list, we are ready to execute our first for loop.\n",
    "\n"
   ]
  },
  {
   "cell_type": "code",
   "execution_count": 1,
   "metadata": {},
   "outputs": [],
   "source": [
    "a = 0  # will be our counter. Make sure it is zero before you start\n",
    "noe = len(my_list)  # get the nnumber of elements in my_list\n",
    "\n",
    "for i in range(0, noe, 1):  # range(start,stop,step)\n",
    "    print(my_list[a])\n",
    "    a = a + 1"
   ]
  },
  {
   "cell_type": "markdown",
   "metadata": {},
   "source": [
    "now, what is the function of the variable `i` in the above code?\n",
    "Lets have a look a what is happening to `a` and `i` during the loop\n",
    "\n"
   ]
  },
  {
   "cell_type": "code",
   "execution_count": 1,
   "metadata": {},
   "outputs": [],
   "source": [
    "a = 0  # will be our counter. Make sure it is zero before you start\n",
    "noe = len(my_list)  # get the nnumber of elements in my_list\n",
    "\n",
    "for i in range(0, noe, 1):  # range(start,stop,step)\n",
    "    print(f\"a = {a}, i = {i}, my_list[{a}] = {my_list[a]}\")\n",
    "    a = a + 1"
   ]
  },
  {
   "cell_type": "markdown",
   "metadata": {},
   "source": [
    "as you can see, `a` and `i` are the same. So we really don't need the\n",
    "counter `a`, and we can write this more succinctly as\n",
    "\n"
   ]
  },
  {
   "cell_type": "code",
   "execution_count": 1,
   "metadata": {},
   "outputs": [],
   "source": [
    "noe = len(my_list)  # get the nnumber of elements in my_list\n",
    "\n",
    "for i in range(0, noe, 1):  # range(start,stop,step)\n",
    "    print(f\"i = {i}, my_list[{i}] = {my_list[i]}\")"
   ]
  },
  {
   "cell_type": "markdown",
   "metadata": {},
   "source": [
    "But how come, that `i` magically counts from 0 to `noe`? The only\n",
    "thing the range function does, is to generate a list. In python 2, it\n",
    "returned actual list. However, this is not very effective for large\n",
    "lists. Imagine,m you have a loop which have to execute 10-million\n",
    "times&#x2026;  Starting with python3, the range function instead returns a\n",
    "range object. Unlike lists, the range object will generate numbers\n",
    "only on request.\n",
    "\n"
   ]
  },
  {
   "cell_type": "code",
   "execution_count": 1,
   "metadata": {},
   "outputs": [],
   "source": [
    "l = range(4)\n",
    "print(f\"l = {l}\")\n",
    "print(f\" The type of l = {type(l)}\")"
   ]
  },
  {
   "cell_type": "markdown",
   "metadata": {},
   "source": [
    "to see the actual list which is generated by `l` we can use the `list()` function.\n",
    "\n"
   ]
  },
  {
   "cell_type": "code",
   "execution_count": 1,
   "metadata": {},
   "outputs": [],
   "source": [
    "list(l)"
   ]
  },
  {
   "cell_type": "markdown",
   "metadata": {},
   "source": [
    "OK, back to our original problem. So `range()` returns a list, and the\n",
    "for loop simply iterates over all list elements. Maybe this works with\n",
    "any type of list? Let's try with `my_list`\n",
    "\n"
   ]
  },
  {
   "cell_type": "code",
   "execution_count": 1,
   "metadata": {},
   "outputs": [],
   "source": [
    "for i in my_list: # for each element in my_list \n",
    "    print(i)"
   ]
  },
  {
   "cell_type": "markdown",
   "metadata": {},
   "source": [
    "Notice that `i` is no longer a numerical variable, but rather contains\n",
    "the value of a given list element. There is also nothing special about\n",
    "the name of `i`. We could equally write\n",
    "\n"
   ]
  },
  {
   "cell_type": "code",
   "execution_count": 1,
   "metadata": {},
   "outputs": [],
   "source": [
    "for mineral in my_list: # for each element in my_list \n",
    "    print(mineral)"
   ]
  },
  {
   "cell_type": "markdown",
   "metadata": {},
   "source": [
    "or any other name. \n",
    "\n",
    "So there is no need to specify the range, or to reference the list\n",
    "item by it's index. Rather, python will loop through all list\n",
    "elements, and at any given time, the current element is available\n",
    "through the variable you specify after the `for` statement. This will\n",
    "also work for list wich mix numbers and strings.\n",
    "\n"
   ]
  },
  {
   "cell_type": "code",
   "execution_count": 1,
   "metadata": {},
   "outputs": [],
   "source": [
    "mixed_list = [1, \"a\", \"Hello\", 12, [1, 2, 3]]\n",
    "for current_element in mixed_list: \n",
    "    print(current_element)"
   ]
  },
  {
   "cell_type": "markdown",
   "metadata": {},
   "source": [
    "Lastly, this will work with any object which are related to lists\n",
    "(iterables in python parlance). So strings will do just fine\n",
    "\n"
   ]
  },
  {
   "cell_type": "code",
   "execution_count": 1,
   "metadata": {},
   "outputs": [],
   "source": [
    "my_string =\"Hello World\"\n",
    "\n",
    "for my_element in my_string:\n",
    "    print(my_element)"
   ]
  },
  {
   "cell_type": "markdown",
   "metadata": {},
   "source": [
    "and we can use the usual slicing statements\n",
    "\n"
   ]
  },
  {
   "cell_type": "code",
   "execution_count": 1,
   "metadata": {},
   "outputs": [],
   "source": [
    "my_string =\"Hello World\"\n",
    "\n",
    "for my_element in my_string[0:-1:2]:\n",
    "    print(my_element)"
   ]
  },
  {
   "cell_type": "code",
   "execution_count": 1,
   "metadata": {},
   "outputs": [],
   "source": [
    "my_string =\"Hello World\"\n",
    "\n",
    "for my_element in my_string[::-1]:\n",
    "    print(my_element)"
   ]
  },
  {
   "cell_type": "markdown",
   "metadata": {},
   "source": [
    "### While loops\n",
    "\n"
   ]
  },
  {
   "cell_type": "markdown",
   "metadata": {},
   "source": [
    " The\n",
    "other important loop type is the while loop. This type of loop\n",
    "executes until it is switched off (and if your switch does not work,\n",
    "it will run forever). In other words, while loops are most useful in\n",
    "combination with if statements.\n",
    "\n",
    "To give a practical example, any ATM is running a while loop which\n",
    "shows the greeting screen. This loops runs until you slide your\n",
    "bank-card into the machine. Then the loop is interrupted, and you are\n",
    "asked to enter your pin. The below example demonstrates this in a\n",
    "simple way.\n",
    "\n"
   ]
  },
  {
   "cell_type": "code",
   "execution_count": 1,
   "metadata": {},
   "outputs": [],
   "source": [
    "# initialize a as True,  otherwise the while loop will never execute\n",
    "a = True\n",
    "\n",
    "# do the while loop until a becomes False\n",
    "while a:\n",
    "    # print instructions\n",
    "    print(\"\\nStop this loop by hitting the s-key\")\n",
    "\n",
    "    # wait for user input\n",
    "    my_input = input(\"Hit any other key to continue:\")\n",
    "\n",
    "    # evaluate input\n",
    "    if my_input == \"s\":\n",
    "        print(f\"\\nYou pressed the '{my_input}' key\")\n",
    "        a = False  # this will stop the while loop\n",
    "    else:\n",
    "        print(f\"\\nYou pressed the '{my_input}' key\")\n",
    "\n",
    "print(\"\\nGood bye\")"
   ]
  },
  {
   "cell_type": "markdown",
   "metadata": {},
   "source": [
    "Once our code reaches line 5, it entesr the while loop because\n",
    "`a=True`. Next it executes line 7, and 10, and then it waits for user\n",
    "input. If the input equals the `s` key, line 14 and 15 are\n",
    "executed. Next, the code jumps back to the beginning of the block on\n",
    "line 5. However, this time, `a=False`. So we do not enter the while\n",
    "block, rather the code continues on line 19.\n",
    "\n",
    "If If the input is not equals the `s` key, the code executes line 17,\n",
    "and jumps back to line 5. Since we did not change the value of a, it\n",
    "is still true, to we continue with line 7 and 10.\n",
    "\n",
    "While loops can be tricky if you get your logic wrong. Consider this example before you actually run it\n",
    "\n"
   ]
  },
  {
   "cell_type": "code",
   "execution_count": null,
   "metadata": {},
   "outputs": [],
   "source": [
    "s = True # initialize the switch and set it to no\n",
    "n = 0    # a counter\n",
    "my_numbers = [1, 2, 3, 4]\n",
    "while s:\n",
    "    if my_numbers[n] == 3:\n",
    "        print(f\"my_numbers[{n}] = {my_numbers[n]}\")\n",
    "        s = False\n",
    "        n = n + 1"
   ]
  },
  {
   "cell_type": "markdown",
   "metadata": {},
   "source": [
    "So here, the counter is inside the if statement. I.e., it will never\n",
    "increase, because n will stay zero forever. This might have happened\n",
    "because you missed the flawed logic, or your indention accidentally\n",
    "changed.\n",
    "\n"
   ]
  },
  {
   "cell_type": "markdown",
   "metadata": {},
   "source": [
    "#### Advanced loop features\n",
    "\n"
   ]
  },
  {
   "cell_type": "markdown",
   "metadata": {},
   "source": [
    "Python loops support a couple of features that were not mentioned above. Most\n",
    "of these you will not need for this course, but you should at least have heard\n",
    "about it.\n",
    "\n",
    "-   The `continue` statement sill stop the execution at the current line and jump\n",
    "    back to the header of the loop (i.e., execute the next iteration)\n",
    "-   The `break` statement will jump out of the loop. This is often used with\n",
    "    nested loops\n",
    "-   The `else` statement, is run only if the loop ends regularly. Most useful in\n",
    "    combination with the break statement\n",
    "-   The `pass` statement does nothing, but can be used to improve code clarity\n",
    "\n"
   ]
  },
  {
   "cell_type": "markdown",
   "metadata": {},
   "source": [
    "##### List comprehensions\n",
    "\n"
   ]
  },
  {
   "cell_type": "markdown",
   "metadata": {},
   "source": [
    " We already know that python makes\n",
    "it very easy to iterate through the elements of a list. We can use this e.g.,\n",
    "calculate the squares of a given sequence, and save the results into a new list:\n",
    "\n"
   ]
  },
  {
   "cell_type": "code",
   "execution_count": 1,
   "metadata": {},
   "outputs": [],
   "source": [
    "my_list = [1, 2, 3, 4]\n",
    "list_of_squares = []\n",
    "\n",
    "for n in my_list:\n",
    "  list_of_squares.append(n**2)\n",
    "\n",
    "print(list_of_squares)"
   ]
  },
  {
   "cell_type": "markdown",
   "metadata": {},
   "source": [
    "Python provides are more concise way to do this, called list-comprehension\n",
    "\n"
   ]
  },
  {
   "cell_type": "code",
   "execution_count": 1,
   "metadata": {},
   "outputs": [],
   "source": [
    "my_list = [1, 2, 3, 4]\n",
    "list_of_squares = [n**2 for n in my_list]\n",
    "\n",
    "print(list_of_squares)"
   ]
  },
  {
   "cell_type": "markdown",
   "metadata": {},
   "source": [
    "In the above expression, the first entry is the function which should\n",
    "be executed for each element of `my_list`. I personally, and many\n",
    "experienced programmers consider this bad style. It surely will add\n",
    "to your geek credentials, but results in difficult to read code, with\n",
    "no other benefit other than saving two lines. But again, you will come\n",
    "across this, so you need to know about it.\n",
    "\n",
    "Also note that list comprehensions can be combined with conditionals \n",
    "\n",
    "    [f(x) for x in sequence if condition]\n",
    "\n"
   ]
  }
 ],
 "metadata": {
  "kernelspec": {
   "display_name": "Python 3",
   "language": "python",
   "name": "python3"
  },
  "language_info": {
   "codemirror_mode": {
    "name": "ipython",
    "version": 3
   },
   "file_extension": ".py",
   "mimetype": "text/x-python",
   "name": "python",
   "nbconvert_exporter": "python",
   "pygments_lexer": "ipython3",
   "version": "3.7.6"
  },
  "org": null
 },
 "nbformat": 4,
 "nbformat_minor": 1
}
