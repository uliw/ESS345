{
 "cells": [
  {
   "cell_type": "markdown",
   "metadata": {},
   "source": [
    "Jupyter Notebooks can run on a cloud based server, so they require no local installation. This allows us to use a single\n",
    "link to create a personalized account, upload/update all teaching materials (including data), and provide a ready to run\n",
    "computational environment.\n",
    "\n",
    "These where the individual steps which happened when you followed the link to this notebook (which uns ona cloud server\n",
    "provided Compute Canada, which students can access with their UTorid without the need to create a new account.)\n",
    "\n",
    "Jupyter notebooks allow us to mix regular text with links and graphics and executable computer code. They are thus an almost perfect vehicle for students to learn coding. E.g., you can execute the following python code by doing a left-click on this cell, and then hit-shift enter to execute the code\n",
    "\n"
   ]
  },
  {
   "cell_type": "code",
   "execution_count": 1,
   "metadata": {},
   "outputs": [
    {
     "name": "stdout",
     "output_type": "stream",
     "text": [
      "6\n"
     ]
    }
   ],
   "source": [
    "a = 2\n",
    "b = 3\n",
    "c = a * b\n",
    "print(c)"
   ]
  },
  {
   "cell_type": "markdown",
   "metadata": {},
   "source": [
    "More importantly however, students can left click on this cell, and modify the code, which allows them to experiment in\n",
    "a guided manner. This drastically reduces the entry barriers and points of failures when introducing computing.\n",
    "\n",
    "Jupyter Notebooks go however well beyond such simple examples. They provide a convenient way to exchange richly\n",
    "annotated code, provide access to powerful server based computing, and thus are rapidly evolving to become a de-facto\n",
    "standard in data analysis.\n",
    "\n",
    "Below a short example which demonstrates how to access an excel file\n",
    "\n"
   ]
  },
  {
   "cell_type": "code",
   "execution_count": 1,
   "metadata": {},
   "outputs": [],
   "source": [
    "# Load libbaries for plotting, and data access\n",
    "import numpy as np\n",
    "import matplotlib.pyplot as plt\n",
    "import seaborn as sns\n",
    "import pandas as pd\n",
    "\n",
    "# Import data from excel\n",
    "fn = \"EOT benthic foram.xlsx\" # file name\n",
    "sn = \"benthic (Zachos2001)\"   # sheet name\n",
    "\n",
    "# read the excel sheet using pandas read_excel function and add it to\n",
    "df = pd.read_excel(fn, sheet_name=sn) # the pandas dataframe\n",
    "\n",
    "# show the first couple of lines \n",
    "print(df.head()) #  test whether read was succesful"
   ]
  },
  {
   "cell_type": "markdown",
   "metadata": {},
   "source": [
    "now, lets get some descriptive statistics\n",
    "\n"
   ]
  },
  {
   "cell_type": "code",
   "execution_count": 1,
   "metadata": {},
   "outputs": [],
   "source": [
    "print(df.describe()) # show simple statistics"
   ]
  },
  {
   "cell_type": "markdown",
   "metadata": {},
   "source": [
    "and plot our data\n",
    "\n"
   ]
  },
  {
   "cell_type": "code",
   "execution_count": 1,
   "metadata": {},
   "outputs": [],
   "source": [
    "sns.lineplot(x=\"Age\", y=\"d18O\", data=df)"
   ]
  },
  {
   "cell_type": "markdown",
   "metadata": {},
   "source": [
    "This small example demonstrates that tight integration between text, data and code makes computing projects considerably\n",
    "more approachable. To put this into perspective, imagine what would have happened if I had asked you to install a python\n",
    "IDE in your laptop, download the above code, onto your laptop, install it in the correct working directory (and do the\n",
    "same for the data), and the run the code, hoping that there is no typo in your file names. Even if you are versed on\n",
    "these things, it would have been quite a hassle. Instead you were up and running with your first python code in less\n",
    "than 30 seconds.\n",
    "\n"
   ]
  }
 ],
 "metadata": {
  "kernelspec": {
   "display_name": "Python 3",
   "language": "python",
   "name": "python3"
  },
  "language_info": {
   "codemirror_mode": {
    "name": "ipython",
    "version": 3
   },
   "file_extension": ".py",
   "mimetype": "text/x-python",
   "name": "python",
   "nbconvert_exporter": "python",
   "pygments_lexer": "ipython3",
   "version": "3.7.6"
  },
  "org": null
 },
 "nbformat": 4,
 "nbformat_minor": 1
}
