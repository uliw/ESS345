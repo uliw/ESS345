{
 "cells": [
  {
   "cell_type": "markdown",
   "metadata": {},
   "source": [
    "## ESS345 Computational Geology: Interacting with Jupyter\n",
    "\n"
   ]
  },
  {
   "cell_type": "markdown",
   "metadata": {},
   "source": [
    "To create a computer program, we need the following ingredients:\n",
    "\n",
    "1.  A text editor that allows us to write computer code.\n",
    "2.  Some program which executes our code\n",
    "3.  And a way to see the results of our code\n",
    "\n",
    "There are many ways to achieve the above, but typically most people use\n",
    "what is commonly referred to as an \"Integrated Development\n",
    "Environment\" or IDE. There is an enormous variety of IDE's available,\n",
    "but most require a local installation. For this course,\n",
    "we will use a web-based IDE, which is called `Jupyter`.  Which is\n",
    "widely used in the sciences as well as in the business environment.\n",
    "\n",
    "In this unit you will learn:\n",
    "\n",
    "1.  How to access a Jupyter server\n",
    "2.  How to open a Jupyter notebook\n",
    "\n",
    "Jupyter servers can run locally on your computer, are available\n",
    "commercially for a fee, and some are even available for free\n",
    "(e.g., googles colab). For this course, we will use a Jupyter server\n",
    "which is provided by Compute Canada, and can be accessed with your\n",
    "UTorID.\n",
    "\n",
    "So without further ado, follow this link [https://utoronto.syzygy.ca](https://utoronto.syzygy.ca/jupyter/hub/user-redirect/git-pull?repo=https%253A%252F%252Fgithub.com%252Fuliw%252FESS345&urlpath=tree%252FESS345%252F)\n",
    "and use your Utorid to log in.\n",
    "\n",
    "After logging in, the system will download the course files from a\n",
    "server, and then you should see a screen like the one shown in Fig. [fig-one](#fig-one)\n",
    "\n",
    "[BROKEN LINK: link:~/user/toronto/teaching/ESS345/2019-2020/Lectures\\_and\\_assignments/Interacting\\_with\\_Jupyter/screen1.png]\n",
    "\n",
    "For now, don't click on anything, but let's have a look around. If you\n",
    "are unable to see any of the following elements, ask your neighbor, or\n",
    "speak up!\n",
    "\n",
    "You can see the Jupyter label in the top right corner, the `Logout` and\n",
    "`Control Panel` buttons in the top right corner. Next come a line with\n",
    "tabs for `Files`, `Running`, `Clusters`, followed by a line with\n",
    "buttons for `Upload`, `New`, and `Reload`.  This is followed by a table.\n",
    "\n",
    "The table header starts with a button that lets you select all files\n",
    "or only specific file types. Next comes the blue breadcrumb, which\n",
    "indicates your position in the file system tree. It should read\n",
    "`ESS345`. The next button lets you sort the table by `Name`, the date\n",
    "when the file was `Last Modified`, or the `File Size`.\n",
    "\n",
    "The table rows contain a variety of entries, where each entry type is\n",
    "signified by a different icon. \n",
    "\n",
    "1.  The first one is a folder symbol with no name, but two dots. This\n",
    "    symbol represents the folder which contains the `ESS345` folder\n",
    "    (i.e., one up).\n",
    "2.  This is followed by a couple of folders\n",
    "3.  A green icon, with the text \"syllabus-2019.ipynb\". These are the\n",
    "    Jupyter notebooks we will do most of our work with\n",
    "4.  A paper symbol with the text \"LICENSE\". This icon denotes a text file.\n",
    "5.  A text file called \"README.md\" which contains a short text\n",
    "    explaining the contents of this folder. The extension `.md` says\n",
    "    that this file is formatted in the markdown language.\n",
    "\n",
    "Let see what we can do here:\n",
    "\n",
    "1.  Click on the `LICENSE` file, which should open a new window showing\n",
    "    unformatted text. Close this window and click on the README.md\n",
    "    file. Not much there, but you can see that the headline is in blue\n",
    "    and that this text also contains active links (more on markdown\n",
    "    later). Close this window as well.\n",
    "\n",
    "2.  click on `my_submissions` which should take you to an empty\n",
    "    folder. Use the empty folder symbol to return back to the `ESS345`\n",
    "    folder.\n",
    "\n",
    "3.  click on my `my_stuff` and create a new directory by selecting the\n",
    "    `New` button in the upper right corner, and then select \"Folder\"\n",
    "    (the term folder and directory are used interchangeably). Mark this\n",
    "    new folder using the checkbox left of the folder name, and now\n",
    "    select the \"rename\" button in the upper right corner, and rename\n",
    "    this folder to \"test\"\n",
    "4.  Mark this directory and delete it.\n",
    "\n"
   ]
  },
  {
   "cell_type": "markdown",
   "metadata": {},
   "source": [
    "### Recap\n",
    "\n"
   ]
  },
  {
   "cell_type": "markdown",
   "metadata": {},
   "source": [
    "In this module, you should have learned:\n",
    "\n",
    "1.  How to access the Jupyter server\n",
    "2.  How to create and name folders (directories) on the Jupyter\n",
    "    server\n",
    "\n"
   ]
  }
 ],
 "metadata": {
  "kernelspec": {
   "display_name": "Python 3",
   "language": "python",
   "name": "python3"
  },
  "language_info": {
   "codemirror_mode": {
    "name": "ipython",
    "version": 3
   },
   "file_extension": ".py",
   "mimetype": "text/x-python",
   "name": "python",
   "nbconvert_exporter": "python",
   "pygments_lexer": "ipython3",
   "version": "3.7.3"
  },
  "org": null
 },
 "nbformat": 4,
 "nbformat_minor": 1
}
